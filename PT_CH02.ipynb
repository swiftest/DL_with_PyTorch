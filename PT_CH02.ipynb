{
 "cells": [
  {
   "cell_type": "markdown",
   "metadata": {},
   "source": [
    "# 机器学习快速入门"
   ]
  },
  {
   "cell_type": "code",
   "execution_count": 1,
   "metadata": {},
   "outputs": [
    {
     "data": {
      "text/html": [
       "<div>\n",
       "<style scoped>\n",
       "    .dataframe tbody tr th:only-of-type {\n",
       "        vertical-align: middle;\n",
       "    }\n",
       "\n",
       "    .dataframe tbody tr th {\n",
       "        vertical-align: top;\n",
       "    }\n",
       "\n",
       "    .dataframe thead th {\n",
       "        text-align: right;\n",
       "    }\n",
       "</style>\n",
       "<table border=\"1\" class=\"dataframe\">\n",
       "  <thead>\n",
       "    <tr style=\"text-align: right;\">\n",
       "      <th></th>\n",
       "      <th>PassengerId</th>\n",
       "      <th>Pclass</th>\n",
       "      <th>Name</th>\n",
       "      <th>Sex</th>\n",
       "      <th>Age</th>\n",
       "      <th>SibSp</th>\n",
       "      <th>Parch</th>\n",
       "      <th>Ticket</th>\n",
       "      <th>Fare</th>\n",
       "      <th>Cabin</th>\n",
       "      <th>Embarked</th>\n",
       "    </tr>\n",
       "    <tr>\n",
       "      <th>Survived</th>\n",
       "      <th></th>\n",
       "      <th></th>\n",
       "      <th></th>\n",
       "      <th></th>\n",
       "      <th></th>\n",
       "      <th></th>\n",
       "      <th></th>\n",
       "      <th></th>\n",
       "      <th></th>\n",
       "      <th></th>\n",
       "      <th></th>\n",
       "    </tr>\n",
       "  </thead>\n",
       "  <tbody>\n",
       "    <tr>\n",
       "      <th>0</th>\n",
       "      <td>549</td>\n",
       "      <td>549</td>\n",
       "      <td>549</td>\n",
       "      <td>549</td>\n",
       "      <td>424</td>\n",
       "      <td>549</td>\n",
       "      <td>549</td>\n",
       "      <td>549</td>\n",
       "      <td>549</td>\n",
       "      <td>68</td>\n",
       "      <td>549</td>\n",
       "    </tr>\n",
       "    <tr>\n",
       "      <th>1</th>\n",
       "      <td>342</td>\n",
       "      <td>342</td>\n",
       "      <td>342</td>\n",
       "      <td>342</td>\n",
       "      <td>290</td>\n",
       "      <td>342</td>\n",
       "      <td>342</td>\n",
       "      <td>342</td>\n",
       "      <td>342</td>\n",
       "      <td>136</td>\n",
       "      <td>340</td>\n",
       "    </tr>\n",
       "  </tbody>\n",
       "</table>\n",
       "</div>"
      ],
      "text/plain": [
       "          PassengerId  Pclass  Name  Sex  Age  SibSp  Parch  Ticket  Fare  \\\n",
       "Survived                                                                    \n",
       "0                 549     549   549  549  424    549    549     549   549   \n",
       "1                 342     342   342  342  290    342    342     342   342   \n",
       "\n",
       "          Cabin  Embarked  \n",
       "Survived                   \n",
       "0            68       549  \n",
       "1           136       340  "
      ]
     },
     "execution_count": 1,
     "metadata": {},
     "output_type": "execute_result"
    }
   ],
   "source": [
    "import pandas as pd\n",
    "\n",
    "df = pd.read_csv(\"Titanic-dataset/train.csv\", encoding='utf8')\n",
    "df.groupby(\"Survived\").count()"
   ]
  },
  {
   "cell_type": "code",
   "execution_count": 2,
   "metadata": {},
   "outputs": [
    {
     "data": {
      "text/html": [
       "<div>\n",
       "<style scoped>\n",
       "    .dataframe tbody tr th:only-of-type {\n",
       "        vertical-align: middle;\n",
       "    }\n",
       "\n",
       "    .dataframe tbody tr th {\n",
       "        vertical-align: top;\n",
       "    }\n",
       "\n",
       "    .dataframe thead th {\n",
       "        text-align: right;\n",
       "    }\n",
       "</style>\n",
       "<table border=\"1\" class=\"dataframe\">\n",
       "  <thead>\n",
       "    <tr style=\"text-align: right;\">\n",
       "      <th></th>\n",
       "      <th>PassengerId</th>\n",
       "      <th>Survived</th>\n",
       "      <th>Pclass</th>\n",
       "      <th>Name</th>\n",
       "      <th>Sex</th>\n",
       "      <th>Age</th>\n",
       "      <th>SibSp</th>\n",
       "      <th>Parch</th>\n",
       "      <th>Ticket</th>\n",
       "      <th>Fare</th>\n",
       "      <th>Cabin</th>\n",
       "      <th>Embarked</th>\n",
       "    </tr>\n",
       "  </thead>\n",
       "  <tbody>\n",
       "    <tr>\n",
       "      <th>0</th>\n",
       "      <td>1</td>\n",
       "      <td>0</td>\n",
       "      <td>3</td>\n",
       "      <td>Braund, Mr. Owen Harris</td>\n",
       "      <td>male</td>\n",
       "      <td>22.0</td>\n",
       "      <td>1</td>\n",
       "      <td>0</td>\n",
       "      <td>A/5 21171</td>\n",
       "      <td>7.2500</td>\n",
       "      <td>NaN</td>\n",
       "      <td>S</td>\n",
       "    </tr>\n",
       "    <tr>\n",
       "      <th>1</th>\n",
       "      <td>2</td>\n",
       "      <td>1</td>\n",
       "      <td>1</td>\n",
       "      <td>Cumings, Mrs. John Bradley (Florence Briggs Th...</td>\n",
       "      <td>female</td>\n",
       "      <td>38.0</td>\n",
       "      <td>1</td>\n",
       "      <td>0</td>\n",
       "      <td>PC 17599</td>\n",
       "      <td>71.2833</td>\n",
       "      <td>C85</td>\n",
       "      <td>C</td>\n",
       "    </tr>\n",
       "    <tr>\n",
       "      <th>2</th>\n",
       "      <td>3</td>\n",
       "      <td>1</td>\n",
       "      <td>3</td>\n",
       "      <td>Heikkinen, Miss. Laina</td>\n",
       "      <td>female</td>\n",
       "      <td>26.0</td>\n",
       "      <td>0</td>\n",
       "      <td>0</td>\n",
       "      <td>STON/O2. 3101282</td>\n",
       "      <td>7.9250</td>\n",
       "      <td>NaN</td>\n",
       "      <td>S</td>\n",
       "    </tr>\n",
       "    <tr>\n",
       "      <th>3</th>\n",
       "      <td>4</td>\n",
       "      <td>1</td>\n",
       "      <td>1</td>\n",
       "      <td>Futrelle, Mrs. Jacques Heath (Lily May Peel)</td>\n",
       "      <td>female</td>\n",
       "      <td>35.0</td>\n",
       "      <td>1</td>\n",
       "      <td>0</td>\n",
       "      <td>113803</td>\n",
       "      <td>53.1000</td>\n",
       "      <td>C123</td>\n",
       "      <td>S</td>\n",
       "    </tr>\n",
       "    <tr>\n",
       "      <th>4</th>\n",
       "      <td>5</td>\n",
       "      <td>0</td>\n",
       "      <td>3</td>\n",
       "      <td>Allen, Mr. William Henry</td>\n",
       "      <td>male</td>\n",
       "      <td>35.0</td>\n",
       "      <td>0</td>\n",
       "      <td>0</td>\n",
       "      <td>373450</td>\n",
       "      <td>8.0500</td>\n",
       "      <td>NaN</td>\n",
       "      <td>S</td>\n",
       "    </tr>\n",
       "  </tbody>\n",
       "</table>\n",
       "</div>"
      ],
      "text/plain": [
       "   PassengerId  Survived  Pclass  \\\n",
       "0            1         0       3   \n",
       "1            2         1       1   \n",
       "2            3         1       3   \n",
       "3            4         1       1   \n",
       "4            5         0       3   \n",
       "\n",
       "                                                Name     Sex   Age  SibSp  \\\n",
       "0                            Braund, Mr. Owen Harris    male  22.0      1   \n",
       "1  Cumings, Mrs. John Bradley (Florence Briggs Th...  female  38.0      1   \n",
       "2                             Heikkinen, Miss. Laina  female  26.0      0   \n",
       "3       Futrelle, Mrs. Jacques Heath (Lily May Peel)  female  35.0      1   \n",
       "4                           Allen, Mr. William Henry    male  35.0      0   \n",
       "\n",
       "   Parch            Ticket     Fare Cabin Embarked  \n",
       "0      0         A/5 21171   7.2500   NaN        S  \n",
       "1      0          PC 17599  71.2833   C85        C  \n",
       "2      0  STON/O2. 3101282   7.9250   NaN        S  \n",
       "3      0            113803  53.1000  C123        S  \n",
       "4      0            373450   8.0500   NaN        S  "
      ]
     },
     "execution_count": 2,
     "metadata": {},
     "output_type": "execute_result"
    }
   ],
   "source": [
    "df.head()"
   ]
  },
  {
   "cell_type": "markdown",
   "metadata": {},
   "source": [
    "### 采用中位数填充缺失的“Age”"
   ]
  },
  {
   "cell_type": "code",
   "execution_count": 3,
   "metadata": {},
   "outputs": [
    {
     "data": {
      "text/html": [
       "<div>\n",
       "<style scoped>\n",
       "    .dataframe tbody tr th:only-of-type {\n",
       "        vertical-align: middle;\n",
       "    }\n",
       "\n",
       "    .dataframe tbody tr th {\n",
       "        vertical-align: top;\n",
       "    }\n",
       "\n",
       "    .dataframe thead th {\n",
       "        text-align: right;\n",
       "    }\n",
       "</style>\n",
       "<table border=\"1\" class=\"dataframe\">\n",
       "  <thead>\n",
       "    <tr style=\"text-align: right;\">\n",
       "      <th></th>\n",
       "      <th>PassengerId</th>\n",
       "      <th>Pclass</th>\n",
       "      <th>Name</th>\n",
       "      <th>Sex</th>\n",
       "      <th>Age</th>\n",
       "      <th>SibSp</th>\n",
       "      <th>Parch</th>\n",
       "      <th>Ticket</th>\n",
       "      <th>Fare</th>\n",
       "      <th>Cabin</th>\n",
       "      <th>Embarked</th>\n",
       "    </tr>\n",
       "    <tr>\n",
       "      <th>Survived</th>\n",
       "      <th></th>\n",
       "      <th></th>\n",
       "      <th></th>\n",
       "      <th></th>\n",
       "      <th></th>\n",
       "      <th></th>\n",
       "      <th></th>\n",
       "      <th></th>\n",
       "      <th></th>\n",
       "      <th></th>\n",
       "      <th></th>\n",
       "    </tr>\n",
       "  </thead>\n",
       "  <tbody>\n",
       "    <tr>\n",
       "      <th>0</th>\n",
       "      <td>549</td>\n",
       "      <td>549</td>\n",
       "      <td>549</td>\n",
       "      <td>549</td>\n",
       "      <td>549</td>\n",
       "      <td>549</td>\n",
       "      <td>549</td>\n",
       "      <td>549</td>\n",
       "      <td>549</td>\n",
       "      <td>68</td>\n",
       "      <td>549</td>\n",
       "    </tr>\n",
       "    <tr>\n",
       "      <th>1</th>\n",
       "      <td>342</td>\n",
       "      <td>342</td>\n",
       "      <td>342</td>\n",
       "      <td>342</td>\n",
       "      <td>342</td>\n",
       "      <td>342</td>\n",
       "      <td>342</td>\n",
       "      <td>342</td>\n",
       "      <td>342</td>\n",
       "      <td>136</td>\n",
       "      <td>340</td>\n",
       "    </tr>\n",
       "  </tbody>\n",
       "</table>\n",
       "</div>"
      ],
      "text/plain": [
       "          PassengerId  Pclass  Name  Sex  Age  SibSp  Parch  Ticket  Fare  \\\n",
       "Survived                                                                    \n",
       "0                 549     549   549  549  549    549    549     549   549   \n",
       "1                 342     342   342  342  342    342    342     342   342   \n",
       "\n",
       "          Cabin  Embarked  \n",
       "Survived                   \n",
       "0            68       549  \n",
       "1           136       340  "
      ]
     },
     "execution_count": 3,
     "metadata": {},
     "output_type": "execute_result"
    }
   ],
   "source": [
    "df1 = df.fillna({\"Age\": df[\"Age\"].median()})\n",
    "df1.groupby(\"Survived\").count()"
   ]
  },
  {
   "cell_type": "markdown",
   "metadata": {},
   "source": [
    "### 线性拟合预测缺失值"
   ]
  },
  {
   "cell_type": "code",
   "execution_count": 4,
   "metadata": {},
   "outputs": [
    {
     "data": {
      "text/html": [
       "<div>\n",
       "<style scoped>\n",
       "    .dataframe tbody tr th:only-of-type {\n",
       "        vertical-align: middle;\n",
       "    }\n",
       "\n",
       "    .dataframe tbody tr th {\n",
       "        vertical-align: top;\n",
       "    }\n",
       "\n",
       "    .dataframe thead th {\n",
       "        text-align: right;\n",
       "    }\n",
       "</style>\n",
       "<table border=\"1\" class=\"dataframe\">\n",
       "  <thead>\n",
       "    <tr style=\"text-align: right;\">\n",
       "      <th></th>\n",
       "      <th>Survived</th>\n",
       "      <th>Pclass</th>\n",
       "      <th>Age</th>\n",
       "      <th>SibSp</th>\n",
       "      <th>SibSp</th>\n",
       "      <th>Fare</th>\n",
       "    </tr>\n",
       "  </thead>\n",
       "  <tbody>\n",
       "    <tr>\n",
       "      <th>0</th>\n",
       "      <td>0</td>\n",
       "      <td>3</td>\n",
       "      <td>22.0</td>\n",
       "      <td>1</td>\n",
       "      <td>1</td>\n",
       "      <td>7.2500</td>\n",
       "    </tr>\n",
       "    <tr>\n",
       "      <th>1</th>\n",
       "      <td>1</td>\n",
       "      <td>1</td>\n",
       "      <td>38.0</td>\n",
       "      <td>1</td>\n",
       "      <td>1</td>\n",
       "      <td>71.2833</td>\n",
       "    </tr>\n",
       "    <tr>\n",
       "      <th>2</th>\n",
       "      <td>1</td>\n",
       "      <td>3</td>\n",
       "      <td>26.0</td>\n",
       "      <td>0</td>\n",
       "      <td>0</td>\n",
       "      <td>7.9250</td>\n",
       "    </tr>\n",
       "    <tr>\n",
       "      <th>3</th>\n",
       "      <td>1</td>\n",
       "      <td>1</td>\n",
       "      <td>35.0</td>\n",
       "      <td>1</td>\n",
       "      <td>1</td>\n",
       "      <td>53.1000</td>\n",
       "    </tr>\n",
       "    <tr>\n",
       "      <th>4</th>\n",
       "      <td>0</td>\n",
       "      <td>3</td>\n",
       "      <td>35.0</td>\n",
       "      <td>0</td>\n",
       "      <td>0</td>\n",
       "      <td>8.0500</td>\n",
       "    </tr>\n",
       "  </tbody>\n",
       "</table>\n",
       "</div>"
      ],
      "text/plain": [
       "   Survived  Pclass   Age  SibSp  SibSp     Fare\n",
       "0         0       3  22.0      1      1   7.2500\n",
       "1         1       1  38.0      1      1  71.2833\n",
       "2         1       3  26.0      0      0   7.9250\n",
       "3         1       1  35.0      1      1  53.1000\n",
       "4         0       3  35.0      0      0   8.0500"
      ]
     },
     "execution_count": 4,
     "metadata": {},
     "output_type": "execute_result"
    }
   ],
   "source": [
    "from sklearn.linear_model import LinearRegression\n",
    "\n",
    "df2 = df[[\"Survived\", \"Pclass\", \"Age\", \"SibSp\", \"SibSp\", \"Fare\"]]\n",
    "df2.head()"
   ]
  },
  {
   "cell_type": "code",
   "execution_count": 5,
   "metadata": {},
   "outputs": [
    {
     "name": "stdout",
     "output_type": "stream",
     "text": [
      "[-6.12312288 -6.12312288 -6.12312288 -6.12312288 -6.12312288 -6.12312288\n",
      " -6.12312288]\n",
      "[28.92041514 30.0841245  22.0263679  28.94226788 22.01477619 28.93038203\n",
      " 31.63323157 22.01706547 22.02629348 28.93038203]\n"
     ]
    }
   ],
   "source": [
    "df_na = df2[df2[\"Age\"].isna()]\n",
    "df_na = df_na.reset_index()\n",
    "df_no_na = df2[-df2[\"Age\"].isna()]\n",
    "df_no_na = df_no_na.reset_index()\n",
    "\n",
    "### 创建模型\n",
    "linreg = LinearRegression()\n",
    "linreg.fit(df_no_na[[\"Survived\", \"Pclass\", \"SibSp\", \"SibSp\", \"Fare\"]].values, df_no_na[\"Age\"].values)\n",
    "\n",
    "### 预测Age为空的数据\n",
    "na_predict = linreg.predict(df_na[[\"Survived\", \"Pclass\", \"SibSp\", \"SibSp\", \"Fare\"]])\n",
    "print(na_predict[na_predict<0])\n",
    "print(na_predict[na_predict>0][:10])"
   ]
  },
  {
   "cell_type": "code",
   "execution_count": 6,
   "metadata": {
    "scrolled": true
   },
   "outputs": [
    {
     "name": "stdout",
     "output_type": "stream",
     "text": [
      "<class 'pandas.core.frame.DataFrame'>\n",
      "RangeIndex: 177 entries, 0 to 176\n",
      "Data columns (total 7 columns):\n",
      " #   Column    Non-Null Count  Dtype  \n",
      "---  ------    --------------  -----  \n",
      " 0   index     177 non-null    int64  \n",
      " 1   Survived  177 non-null    int64  \n",
      " 2   Pclass    177 non-null    int64  \n",
      " 3   Age       177 non-null    float64\n",
      " 4   SibSp     177 non-null    int64  \n",
      " 5   SibSp     177 non-null    int64  \n",
      " 6   Fare      177 non-null    float64\n",
      "dtypes: float64(2), int64(5)\n",
      "memory usage: 9.8 KB\n"
     ]
    }
   ],
   "source": [
    "## 用模型预测出来的NaN值，有些是负数，而年龄至少>=1，因此对于是负数的设置为1\n",
    "def transformage(age):\n",
    "    if age < 0:\n",
    "        return 1\n",
    "    else:\n",
    "        return age\n",
    "    \n",
    "    \n",
    "df_na_predict_age = [transformage(age) for age in na_predict]\n",
    "\n",
    "## 用预测出的值替换掉NaN值\n",
    "df_na['Age'] = pd.Series(df_na_predict_age)\n",
    "df_na.info()"
   ]
  },
  {
   "cell_type": "code",
   "execution_count": 7,
   "metadata": {},
   "outputs": [
    {
     "data": {
      "text/html": [
       "<div>\n",
       "<style scoped>\n",
       "    .dataframe tbody tr th:only-of-type {\n",
       "        vertical-align: middle;\n",
       "    }\n",
       "\n",
       "    .dataframe tbody tr th {\n",
       "        vertical-align: top;\n",
       "    }\n",
       "\n",
       "    .dataframe thead th {\n",
       "        text-align: right;\n",
       "    }\n",
       "</style>\n",
       "<table border=\"1\" class=\"dataframe\">\n",
       "  <thead>\n",
       "    <tr style=\"text-align: right;\">\n",
       "      <th></th>\n",
       "      <th>index</th>\n",
       "      <th>Survived</th>\n",
       "      <th>Pclass</th>\n",
       "      <th>Age</th>\n",
       "      <th>SibSp</th>\n",
       "      <th>SibSp</th>\n",
       "      <th>Fare</th>\n",
       "    </tr>\n",
       "  </thead>\n",
       "  <tbody>\n",
       "    <tr>\n",
       "      <th>0</th>\n",
       "      <td>5</td>\n",
       "      <td>0</td>\n",
       "      <td>3</td>\n",
       "      <td>28.920415</td>\n",
       "      <td>0</td>\n",
       "      <td>0</td>\n",
       "      <td>8.4583</td>\n",
       "    </tr>\n",
       "    <tr>\n",
       "      <th>1</th>\n",
       "      <td>17</td>\n",
       "      <td>1</td>\n",
       "      <td>2</td>\n",
       "      <td>30.084125</td>\n",
       "      <td>0</td>\n",
       "      <td>0</td>\n",
       "      <td>13.0000</td>\n",
       "    </tr>\n",
       "    <tr>\n",
       "      <th>2</th>\n",
       "      <td>19</td>\n",
       "      <td>1</td>\n",
       "      <td>3</td>\n",
       "      <td>22.026368</td>\n",
       "      <td>0</td>\n",
       "      <td>0</td>\n",
       "      <td>7.2250</td>\n",
       "    </tr>\n",
       "    <tr>\n",
       "      <th>3</th>\n",
       "      <td>26</td>\n",
       "      <td>0</td>\n",
       "      <td>3</td>\n",
       "      <td>28.942268</td>\n",
       "      <td>0</td>\n",
       "      <td>0</td>\n",
       "      <td>7.2250</td>\n",
       "    </tr>\n",
       "    <tr>\n",
       "      <th>4</th>\n",
       "      <td>28</td>\n",
       "      <td>1</td>\n",
       "      <td>3</td>\n",
       "      <td>22.014776</td>\n",
       "      <td>0</td>\n",
       "      <td>0</td>\n",
       "      <td>7.8792</td>\n",
       "    </tr>\n",
       "  </tbody>\n",
       "</table>\n",
       "</div>"
      ],
      "text/plain": [
       "   index  Survived  Pclass        Age  SibSp  SibSp     Fare\n",
       "0      5         0       3  28.920415      0      0   8.4583\n",
       "1     17         1       2  30.084125      0      0  13.0000\n",
       "2     19         1       3  22.026368      0      0   7.2250\n",
       "3     26         0       3  28.942268      0      0   7.2250\n",
       "4     28         1       3  22.014776      0      0   7.8792"
      ]
     },
     "execution_count": 7,
     "metadata": {},
     "output_type": "execute_result"
    }
   ],
   "source": [
    "df_na.head()"
   ]
  },
  {
   "cell_type": "code",
   "execution_count": 8,
   "metadata": {},
   "outputs": [
    {
     "data": {
      "text/html": [
       "<div>\n",
       "<style scoped>\n",
       "    .dataframe tbody tr th:only-of-type {\n",
       "        vertical-align: middle;\n",
       "    }\n",
       "\n",
       "    .dataframe tbody tr th {\n",
       "        vertical-align: top;\n",
       "    }\n",
       "\n",
       "    .dataframe thead th {\n",
       "        text-align: right;\n",
       "    }\n",
       "</style>\n",
       "<table border=\"1\" class=\"dataframe\">\n",
       "  <thead>\n",
       "    <tr style=\"text-align: right;\">\n",
       "      <th></th>\n",
       "      <th>PassengerId</th>\n",
       "      <th>Survived</th>\n",
       "      <th>Pclass</th>\n",
       "      <th>Name</th>\n",
       "      <th>Sex</th>\n",
       "      <th>Age</th>\n",
       "      <th>SibSp</th>\n",
       "      <th>Parch</th>\n",
       "      <th>Ticket</th>\n",
       "      <th>Fare</th>\n",
       "      <th>Embarked</th>\n",
       "    </tr>\n",
       "    <tr>\n",
       "      <th>Cabin</th>\n",
       "      <th></th>\n",
       "      <th></th>\n",
       "      <th></th>\n",
       "      <th></th>\n",
       "      <th></th>\n",
       "      <th></th>\n",
       "      <th></th>\n",
       "      <th></th>\n",
       "      <th></th>\n",
       "      <th></th>\n",
       "      <th></th>\n",
       "    </tr>\n",
       "  </thead>\n",
       "  <tbody>\n",
       "    <tr>\n",
       "      <th>A10</th>\n",
       "      <td>1</td>\n",
       "      <td>1</td>\n",
       "      <td>1</td>\n",
       "      <td>1</td>\n",
       "      <td>1</td>\n",
       "      <td>1</td>\n",
       "      <td>1</td>\n",
       "      <td>1</td>\n",
       "      <td>1</td>\n",
       "      <td>1</td>\n",
       "      <td>1</td>\n",
       "    </tr>\n",
       "    <tr>\n",
       "      <th>A14</th>\n",
       "      <td>1</td>\n",
       "      <td>1</td>\n",
       "      <td>1</td>\n",
       "      <td>1</td>\n",
       "      <td>1</td>\n",
       "      <td>0</td>\n",
       "      <td>1</td>\n",
       "      <td>1</td>\n",
       "      <td>1</td>\n",
       "      <td>1</td>\n",
       "      <td>1</td>\n",
       "    </tr>\n",
       "    <tr>\n",
       "      <th>A16</th>\n",
       "      <td>1</td>\n",
       "      <td>1</td>\n",
       "      <td>1</td>\n",
       "      <td>1</td>\n",
       "      <td>1</td>\n",
       "      <td>1</td>\n",
       "      <td>1</td>\n",
       "      <td>1</td>\n",
       "      <td>1</td>\n",
       "      <td>1</td>\n",
       "      <td>1</td>\n",
       "    </tr>\n",
       "    <tr>\n",
       "      <th>A19</th>\n",
       "      <td>1</td>\n",
       "      <td>1</td>\n",
       "      <td>1</td>\n",
       "      <td>1</td>\n",
       "      <td>1</td>\n",
       "      <td>0</td>\n",
       "      <td>1</td>\n",
       "      <td>1</td>\n",
       "      <td>1</td>\n",
       "      <td>1</td>\n",
       "      <td>1</td>\n",
       "    </tr>\n",
       "    <tr>\n",
       "      <th>A20</th>\n",
       "      <td>1</td>\n",
       "      <td>1</td>\n",
       "      <td>1</td>\n",
       "      <td>1</td>\n",
       "      <td>1</td>\n",
       "      <td>1</td>\n",
       "      <td>1</td>\n",
       "      <td>1</td>\n",
       "      <td>1</td>\n",
       "      <td>1</td>\n",
       "      <td>1</td>\n",
       "    </tr>\n",
       "    <tr>\n",
       "      <th>...</th>\n",
       "      <td>...</td>\n",
       "      <td>...</td>\n",
       "      <td>...</td>\n",
       "      <td>...</td>\n",
       "      <td>...</td>\n",
       "      <td>...</td>\n",
       "      <td>...</td>\n",
       "      <td>...</td>\n",
       "      <td>...</td>\n",
       "      <td>...</td>\n",
       "      <td>...</td>\n",
       "    </tr>\n",
       "    <tr>\n",
       "      <th>F33</th>\n",
       "      <td>3</td>\n",
       "      <td>3</td>\n",
       "      <td>3</td>\n",
       "      <td>3</td>\n",
       "      <td>3</td>\n",
       "      <td>3</td>\n",
       "      <td>3</td>\n",
       "      <td>3</td>\n",
       "      <td>3</td>\n",
       "      <td>3</td>\n",
       "      <td>3</td>\n",
       "    </tr>\n",
       "    <tr>\n",
       "      <th>F38</th>\n",
       "      <td>1</td>\n",
       "      <td>1</td>\n",
       "      <td>1</td>\n",
       "      <td>1</td>\n",
       "      <td>1</td>\n",
       "      <td>0</td>\n",
       "      <td>1</td>\n",
       "      <td>1</td>\n",
       "      <td>1</td>\n",
       "      <td>1</td>\n",
       "      <td>1</td>\n",
       "    </tr>\n",
       "    <tr>\n",
       "      <th>F4</th>\n",
       "      <td>2</td>\n",
       "      <td>2</td>\n",
       "      <td>2</td>\n",
       "      <td>2</td>\n",
       "      <td>2</td>\n",
       "      <td>2</td>\n",
       "      <td>2</td>\n",
       "      <td>2</td>\n",
       "      <td>2</td>\n",
       "      <td>2</td>\n",
       "      <td>2</td>\n",
       "    </tr>\n",
       "    <tr>\n",
       "      <th>G6</th>\n",
       "      <td>4</td>\n",
       "      <td>4</td>\n",
       "      <td>4</td>\n",
       "      <td>4</td>\n",
       "      <td>4</td>\n",
       "      <td>4</td>\n",
       "      <td>4</td>\n",
       "      <td>4</td>\n",
       "      <td>4</td>\n",
       "      <td>4</td>\n",
       "      <td>4</td>\n",
       "    </tr>\n",
       "    <tr>\n",
       "      <th>T</th>\n",
       "      <td>1</td>\n",
       "      <td>1</td>\n",
       "      <td>1</td>\n",
       "      <td>1</td>\n",
       "      <td>1</td>\n",
       "      <td>1</td>\n",
       "      <td>1</td>\n",
       "      <td>1</td>\n",
       "      <td>1</td>\n",
       "      <td>1</td>\n",
       "      <td>1</td>\n",
       "    </tr>\n",
       "  </tbody>\n",
       "</table>\n",
       "<p>147 rows × 11 columns</p>\n",
       "</div>"
      ],
      "text/plain": [
       "       PassengerId  Survived  Pclass  Name  Sex  Age  SibSp  Parch  Ticket  \\\n",
       "Cabin                                                                        \n",
       "A10              1         1       1     1    1    1      1      1       1   \n",
       "A14              1         1       1     1    1    0      1      1       1   \n",
       "A16              1         1       1     1    1    1      1      1       1   \n",
       "A19              1         1       1     1    1    0      1      1       1   \n",
       "A20              1         1       1     1    1    1      1      1       1   \n",
       "...            ...       ...     ...   ...  ...  ...    ...    ...     ...   \n",
       "F33              3         3       3     3    3    3      3      3       3   \n",
       "F38              1         1       1     1    1    0      1      1       1   \n",
       "F4               2         2       2     2    2    2      2      2       2   \n",
       "G6               4         4       4     4    4    4      4      4       4   \n",
       "T                1         1       1     1    1    1      1      1       1   \n",
       "\n",
       "       Fare  Embarked  \n",
       "Cabin                  \n",
       "A10       1         1  \n",
       "A14       1         1  \n",
       "A16       1         1  \n",
       "A19       1         1  \n",
       "A20       1         1  \n",
       "...     ...       ...  \n",
       "F33       3         3  \n",
       "F38       1         1  \n",
       "F4        2         2  \n",
       "G6        4         4  \n",
       "T         1         1  \n",
       "\n",
       "[147 rows x 11 columns]"
      ]
     },
     "execution_count": 8,
     "metadata": {},
     "output_type": "execute_result"
    }
   ],
   "source": [
    "df.groupby(\"Cabin\").count()"
   ]
  },
  {
   "cell_type": "markdown",
   "metadata": {},
   "source": [
    "### Z-SCORE归一化(标准化)处理"
   ]
  },
  {
   "cell_type": "code",
   "execution_count": 9,
   "metadata": {},
   "outputs": [
    {
     "data": {
      "text/plain": [
       "[<matplotlib.lines.Line2D at 0x7efbd63c2d00>]"
      ]
     },
     "execution_count": 9,
     "metadata": {},
     "output_type": "execute_result"
    },
    {
     "data": {
      "image/png": "[encoded data removed]",
      "text/plain": [
       "<Figure size 432x288 with 1 Axes>"
      ]
     },
     "metadata": {
      "needs_background": "light"
     },
     "output_type": "display_data"
    }
   ],
   "source": [
    "import torch\n",
    "import matplotlib.pyplot as plt\n",
    "\n",
    "\n",
    "%matplotlib inline\n",
    "\n",
    "data1 = torch.randint(10, 100, (2, 100)).float()\n",
    "# 用Z-Score进行归一化处理\n",
    "data2 = (data1 - data1.mean()) / data1.std()\n",
    "#对标准化后的数据进行可视化处理\n",
    "plt.plot(data1[0].numpy(), data1[1].numpy(), \"y*\")"
   ]
  },
  {
   "cell_type": "code",
   "execution_count": 10,
   "metadata": {},
   "outputs": [
    {
     "data": {
      "text/plain": [
       "[<matplotlib.lines.Line2D at 0x7efbd42a66a0>]"
      ]
     },
     "execution_count": 10,
     "metadata": {},
     "output_type": "execute_result"
    },
    {
     "data": {
      "image/png": "[encoded data removed]",
      "text/plain": [
       "<Figure size 432x288 with 1 Axes>"
      ]
     },
     "metadata": {
      "needs_background": "light"
     },
     "output_type": "display_data"
    }
   ],
   "source": [
    "plt.plot(data2[0].numpy(), data2[1].numpy(), \"r.\")"
   ]
  },
  {
   "cell_type": "markdown",
   "metadata": {},
   "source": [
    "### Min-Max标准化(归一化)处理"
   ]
  },
  {
   "cell_type": "code",
   "execution_count": 11,
   "metadata": {},
   "outputs": [
    {
     "data": {
      "text/plain": [
       "[<matplotlib.lines.Line2D at 0x7efbd4216130>]"
      ]
     },
     "execution_count": 11,
     "metadata": {},
     "output_type": "execute_result"
    },
    {
     "data": {
      "image/png": "[encoded data removed]",
      "text/plain": [
       "<Figure size 432x288 with 1 Axes>"
      ]
     },
     "metadata": {
      "needs_background": "light"
     },
     "output_type": "display_data"
    }
   ],
   "source": [
    "# Min-Max归一化处理\n",
    "data3 = (data1 - data1.min()) / (data1.max() - data1.min())\n",
    "plt.plot(data3[0].numpy(), data3[1].numpy(), \"g.\")"
   ]
  },
  {
   "cell_type": "markdown",
   "metadata": {},
   "source": [
    "### 特征的正则化处理"
   ]
  },
  {
   "cell_type": "code",
   "execution_count": 12,
   "metadata": {},
   "outputs": [
    {
     "data": {
      "text/plain": [
       "tensor([[ 1.0000,  0.5000, -1.0000],\n",
       "        [ 2.0000,  1.0000,  1.0000],\n",
       "        [ 4.0000, 10.0000,  2.0000]])"
      ]
     },
     "execution_count": 12,
     "metadata": {},
     "output_type": "execute_result"
    }
   ],
   "source": [
    "tmp_data = [\n",
    "    [1.0, 0.5, -1.0], \n",
    "    [2.0, 1.0, 1.0], \n",
    "    [4.0, 10.0, 2.0]]\n",
    "\n",
    "data4 = torch.Tensor(tmp_data)\n",
    "data4"
   ]
  },
  {
   "cell_type": "code",
   "execution_count": 13,
   "metadata": {},
   "outputs": [
    {
     "data": {
      "text/plain": [
       "tensor([[ 0.6667,  0.3333, -0.6667],\n",
       "        [ 0.8165,  0.4082,  0.4082],\n",
       "        [ 0.3651,  0.9129,  0.1826]])"
      ]
     },
     "execution_count": 13,
     "metadata": {},
     "output_type": "execute_result"
    }
   ],
   "source": [
    "data4 / (data4.pow(2).sum(dim=1).pow(1/2).unsqueeze(1))"
   ]
  },
  {
   "cell_type": "code",
   "execution_count": 14,
   "metadata": {},
   "outputs": [
    {
     "data": {
      "text/plain": [
       "tensor([[ 1.5000],\n",
       "        [ 2.4495],\n",
       "        [10.9545]])"
      ]
     },
     "execution_count": 14,
     "metadata": {},
     "output_type": "execute_result"
    }
   ],
   "source": [
    "data4.pow(2).sum(dim=1).pow(1/2).unsqueeze(1)"
   ]
  },
  {
   "cell_type": "markdown",
   "metadata": {},
   "source": [
    "## 交叉验证"
   ]
  },
  {
   "cell_type": "code",
   "execution_count": 15,
   "metadata": {},
   "outputs": [],
   "source": [
    "import numpy as np\n",
    "from sklearn.model_selection import train_test_split\n",
    "\n",
    "\n",
    "df = pd.read_csv(\"Titanic-dataset/train.csv\", encoding='utf8')\n",
    "df_X = df[['PassengerId', 'Pclass', 'Name', 'Sex', 'Age', \n",
    "           'SibSp', 'Parch', 'Ticket', 'Fare', 'Cabin', 'Embarked']]\n",
    "df_Y = df[\"Survived\"]"
   ]
  },
  {
   "cell_type": "code",
   "execution_count": 16,
   "metadata": {},
   "outputs": [
    {
     "data": {
      "text/html": [
       "<div>\n",
       "<style scoped>\n",
       "    .dataframe tbody tr th:only-of-type {\n",
       "        vertical-align: middle;\n",
       "    }\n",
       "\n",
       "    .dataframe tbody tr th {\n",
       "        vertical-align: top;\n",
       "    }\n",
       "\n",
       "    .dataframe thead th {\n",
       "        text-align: right;\n",
       "    }\n",
       "</style>\n",
       "<table border=\"1\" class=\"dataframe\">\n",
       "  <thead>\n",
       "    <tr style=\"text-align: right;\">\n",
       "      <th></th>\n",
       "      <th>PassengerId</th>\n",
       "      <th>Pclass</th>\n",
       "      <th>Name</th>\n",
       "      <th>Sex</th>\n",
       "      <th>Age</th>\n",
       "      <th>SibSp</th>\n",
       "      <th>Parch</th>\n",
       "      <th>Ticket</th>\n",
       "      <th>Fare</th>\n",
       "      <th>Cabin</th>\n",
       "      <th>Embarked</th>\n",
       "    </tr>\n",
       "  </thead>\n",
       "  <tbody>\n",
       "    <tr>\n",
       "      <th>0</th>\n",
       "      <td>1</td>\n",
       "      <td>3</td>\n",
       "      <td>Braund, Mr. Owen Harris</td>\n",
       "      <td>male</td>\n",
       "      <td>22.0</td>\n",
       "      <td>1</td>\n",
       "      <td>0</td>\n",
       "      <td>A/5 21171</td>\n",
       "      <td>7.2500</td>\n",
       "      <td>NaN</td>\n",
       "      <td>S</td>\n",
       "    </tr>\n",
       "    <tr>\n",
       "      <th>1</th>\n",
       "      <td>2</td>\n",
       "      <td>1</td>\n",
       "      <td>Cumings, Mrs. John Bradley (Florence Briggs Th...</td>\n",
       "      <td>female</td>\n",
       "      <td>38.0</td>\n",
       "      <td>1</td>\n",
       "      <td>0</td>\n",
       "      <td>PC 17599</td>\n",
       "      <td>71.2833</td>\n",
       "      <td>C85</td>\n",
       "      <td>C</td>\n",
       "    </tr>\n",
       "    <tr>\n",
       "      <th>2</th>\n",
       "      <td>3</td>\n",
       "      <td>3</td>\n",
       "      <td>Heikkinen, Miss. Laina</td>\n",
       "      <td>female</td>\n",
       "      <td>26.0</td>\n",
       "      <td>0</td>\n",
       "      <td>0</td>\n",
       "      <td>STON/O2. 3101282</td>\n",
       "      <td>7.9250</td>\n",
       "      <td>NaN</td>\n",
       "      <td>S</td>\n",
       "    </tr>\n",
       "    <tr>\n",
       "      <th>3</th>\n",
       "      <td>4</td>\n",
       "      <td>1</td>\n",
       "      <td>Futrelle, Mrs. Jacques Heath (Lily May Peel)</td>\n",
       "      <td>female</td>\n",
       "      <td>35.0</td>\n",
       "      <td>1</td>\n",
       "      <td>0</td>\n",
       "      <td>113803</td>\n",
       "      <td>53.1000</td>\n",
       "      <td>C123</td>\n",
       "      <td>S</td>\n",
       "    </tr>\n",
       "    <tr>\n",
       "      <th>4</th>\n",
       "      <td>5</td>\n",
       "      <td>3</td>\n",
       "      <td>Allen, Mr. William Henry</td>\n",
       "      <td>male</td>\n",
       "      <td>35.0</td>\n",
       "      <td>0</td>\n",
       "      <td>0</td>\n",
       "      <td>373450</td>\n",
       "      <td>8.0500</td>\n",
       "      <td>NaN</td>\n",
       "      <td>S</td>\n",
       "    </tr>\n",
       "  </tbody>\n",
       "</table>\n",
       "</div>"
      ],
      "text/plain": [
       "   PassengerId  Pclass                                               Name  \\\n",
       "0            1       3                            Braund, Mr. Owen Harris   \n",
       "1            2       1  Cumings, Mrs. John Bradley (Florence Briggs Th...   \n",
       "2            3       3                             Heikkinen, Miss. Laina   \n",
       "3            4       1       Futrelle, Mrs. Jacques Heath (Lily May Peel)   \n",
       "4            5       3                           Allen, Mr. William Henry   \n",
       "\n",
       "      Sex   Age  SibSp  Parch            Ticket     Fare Cabin Embarked  \n",
       "0    male  22.0      1      0         A/5 21171   7.2500   NaN        S  \n",
       "1  female  38.0      1      0          PC 17599  71.2833   C85        C  \n",
       "2  female  26.0      0      0  STON/O2. 3101282   7.9250   NaN        S  \n",
       "3  female  35.0      1      0            113803  53.1000  C123        S  \n",
       "4    male  35.0      0      0            373450   8.0500   NaN        S  "
      ]
     },
     "execution_count": 16,
     "metadata": {},
     "output_type": "execute_result"
    }
   ],
   "source": [
    "df_X.head()"
   ]
  },
  {
   "cell_type": "markdown",
   "metadata": {},
   "source": [
    "### 普通交叉验证"
   ]
  },
  {
   "cell_type": "code",
   "execution_count": 17,
   "metadata": {},
   "outputs": [
    {
     "name": "stdout",
     "output_type": "stream",
     "text": [
      "train_X.count:712, test_X.count:179, train_Y.count:712, test_Y.count:179\n"
     ]
    }
   ],
   "source": [
    "train_X, test_X, train_Y, test_Y = train_test_split(df_X.values, df_Y.values, \n",
    "                                                    test_size=0.2, random_state=1314)\n",
    "print(\"train_X.count:{}, test_X.count:{}, train_Y.count:{}, test_Y.count:{}\".\n",
    "      format(len(train_X), len(test_X), len(train_Y), len(test_Y)))"
   ]
  },
  {
   "cell_type": "markdown",
   "metadata": {},
   "source": [
    "### K折交叉验证"
   ]
  },
  {
   "cell_type": "code",
   "execution_count": 18,
   "metadata": {},
   "outputs": [
    {
     "name": "stdout",
     "output_type": "stream",
     "text": [
      "712 179\n",
      "713 178\n",
      "713 178\n",
      "713 178\n",
      "713 178\n"
     ]
    }
   ],
   "source": [
    "from sklearn.model_selection import KFold\n",
    "\n",
    "kfold = KFold(n_splits=5, random_state=1314, shuffle=True)\n",
    "for train_index, test_index in kfold.split(df_X.values):\n",
    "    print(len(train_index), len(test_index))"
   ]
  },
  {
   "cell_type": "code",
   "execution_count": 19,
   "metadata": {},
   "outputs": [
    {
     "name": "stdout",
     "output_type": "stream",
     "text": [
      "闻:臭豆腐好香呀！\n"
     ]
    }
   ],
   "source": [
    "# 模拟“听”和“闻”信号\n",
    "signals = {\"嗅觉信号\": \"闻\", \"听觉信号\": \"听\", \"视觉信号\": \"看\"}\n",
    "\n",
    "\n",
    "class Neuron(object):\n",
    "    def __init__(self, signal_type):\n",
    "        # 模拟神经元处理某种信号的能力，signal_type为突触携带的参数\n",
    "        self.signal_type = signal_type\n",
    "        \n",
    "    def active(self, x):\n",
    "        # 输入某种类型的信号，有可能激活神经元响应刺激\n",
    "        if x.signal_type == self.signal_type:\n",
    "            return signals[self.signal_type] + \":\" + x.data\n",
    "        else:\n",
    "            return signals[self.signal_type] + \":\" + \"什么都没有\" + signals[self.signal_type] + \"到\"\n",
    "        \n",
    "        \n",
    "class SignalInput(object):\n",
    "    # 输入信号\n",
    "    def __init__(self, signal_type, data):\n",
    "        self.signal_type = signal_type\n",
    "        self.data = data\n",
    "        \n",
    "    \n",
    "test = SignalInput(\"嗅觉信号\",\"臭豆腐好香呀！\")\n",
    "print(Neuron(\"嗅觉信号\").active(test))"
   ]
  },
  {
   "cell_type": "code",
   "execution_count": 20,
   "metadata": {},
   "outputs": [
    {
     "name": "stdout",
     "output_type": "stream",
     "text": [
      "看:那个小姐姐真漂亮！\n"
     ]
    }
   ],
   "source": [
    "test = SignalInput(\"视觉信号\",\"那个小姐姐真漂亮！\")\n",
    "print(Neuron(\"视觉信号\").active(test))"
   ]
  },
  {
   "cell_type": "code",
   "execution_count": 21,
   "metadata": {},
   "outputs": [
    {
     "name": "stdout",
     "output_type": "stream",
     "text": [
      "闻:什么都没有闻到\n"
     ]
    }
   ],
   "source": [
    "test = SignalInput(\"视觉信号\",\"那个小姐姐真漂亮！\")\n",
    "print(Neuron(\"嗅觉信号\").active(test))"
   ]
  },
  {
   "cell_type": "markdown",
   "metadata": {},
   "source": [
    "### 脑区功能划分"
   ]
  },
  {
   "cell_type": "code",
   "execution_count": 22,
   "metadata": {},
   "outputs": [
    {
     "name": "stdout",
     "output_type": "stream",
     "text": [
      "听觉皮层正在处理：好美的歌！\n"
     ]
    }
   ],
   "source": [
    "from collections import Counter\n",
    "from random import randint\n",
    "\n",
    "\n",
    "class HearBrainArea(object):\n",
    "    # 听觉皮层脑区\n",
    "    def __init__(self, num):\n",
    "        self.neurons = [Neuron(\"听觉信号\") for i in range(num)]\n",
    "    \n",
    "    def process(self, x):\n",
    "        # 处理传入的信号\n",
    "        print(\"听觉皮层正在处理：\" + x.data)\n",
    "        \n",
    "\n",
    "class SmellBrainArea(object):\n",
    "    # 嗅觉皮层\n",
    "    def __init__(self, num):\n",
    "        self.neurons = [Neuron(\"嗅觉信号\") for i in range(num)]\n",
    "    \n",
    "    def process(self, x):\n",
    "        # 处理信号\n",
    "        print(\"嗅觉皮层正在处理：\" + x.data)\n",
    "        \n",
    "        \n",
    "#构建器官，如嘴巴和耳朵，将接受的信号分配给专门的大脑皮层进行处理\n",
    "class Brain(object):\n",
    "    def __init__(self):\n",
    "        # 控制神经元数量，随机初始化\n",
    "        self.hear_area = HearBrainArea(randint(1000, 10000))\n",
    "        self.smell_area = SmellBrainArea(randint(1000, 10000))\n",
    "        \n",
    "    def process(self, x):\n",
    "        result = {\"嗅觉信号\": lambda x: self.smell_area.process(x), \n",
    "                  \"听觉信号\": lambda x: self.hear_area.process(x)}[x.signal_type](x)\n",
    "        \n",
    "        \n",
    "brain = Brain()\n",
    "hear = SignalInput(\"听觉信号\", \"好美的歌！\")\n",
    "smell = SignalInput(\"嗅觉信号\", \"臭豆腐真香， 想吃！\")\n",
    "brain.process(hear)"
   ]
  },
  {
   "cell_type": "code",
   "execution_count": 23,
   "metadata": {},
   "outputs": [
    {
     "name": "stdout",
     "output_type": "stream",
     "text": [
      "嗅觉皮层正在处理：臭豆腐真香， 想吃！\n"
     ]
    }
   ],
   "source": [
    "brain.process(smell)"
   ]
  },
  {
   "cell_type": "markdown",
   "metadata": {},
   "source": [
    "### 相同神经元投票决定输出信号"
   ]
  },
  {
   "cell_type": "code",
   "execution_count": 24,
   "metadata": {},
   "outputs": [
    {
     "name": "stdout",
     "output_type": "stream",
     "text": [
      "听觉皮层正在处理：小黄鹂在唱歌\n",
      "耳朵听【听觉皮层】：听:小黄鹂在唱歌\n"
     ]
    }
   ],
   "source": [
    "np.random.seed(1314)\n",
    "\n",
    "\n",
    "class HearBrainArea(object):\n",
    "    # 听觉皮层脑区\n",
    "    def __init__(self, num):\n",
    "        self.neurons = [Neuron(\"听觉信号\") for i in range(num)]\n",
    "    \n",
    "    def process(self, x):\n",
    "        # 处理传入的信号\n",
    "        print(\"听觉皮层正在处理：\" + x.data)\n",
    "        # 所有神经元的动作集合\n",
    "        actions = [neuron.active(x) for neuron in self.neurons]\n",
    "        # 从所有动作中投票决定最终响应\n",
    "        final_action = Counter(actions).most_common(1)\n",
    "        print(\"耳朵听【听觉皮层】：\" + final_action[0][0])\n",
    "        \n",
    "\n",
    "class SmellBrainArea(object):\n",
    "    # 嗅觉皮层\n",
    "    def __init__(self, num):\n",
    "        self.neurons = [Neuron(\"嗅觉信号\") for i in range(num)]\n",
    "    \n",
    "    def process(self, x):\n",
    "        # 处理信号\n",
    "        print(\"嗅觉皮层正在处理：\" + x.data)\n",
    "        # 所有神经元的动作集合\n",
    "        actions = [neuron.active(x) for neuron in self.neurons]\n",
    "        # 从所有动作中投票决定最终响应\n",
    "        final_action = Counter(actions).most_common(1)\n",
    "        print(\"鼻子闻【嗅觉皮层】：\" + final_action[0][0])\n",
    "        \n",
    "        \n",
    "brain = Brain()\n",
    "hear = SignalInput(\"听觉信号\", \"小黄鹂在唱歌\")\n",
    "smell = SignalInput(\"嗅觉信号\", \"臭豆腐闻起来真臭\")\n",
    "brain.process(hear)"
   ]
  },
  {
   "cell_type": "code",
   "execution_count": 25,
   "metadata": {},
   "outputs": [
    {
     "name": "stdout",
     "output_type": "stream",
     "text": [
      "嗅觉皮层正在处理：臭豆腐闻起来真臭\n",
      "鼻子闻【嗅觉皮层】：闻:臭豆腐闻起来真臭\n"
     ]
    }
   ],
   "source": [
    "brain.process(smell)"
   ]
  },
  {
   "cell_type": "markdown",
   "metadata": {},
   "source": [
    "### 大脑皮层的可替换性"
   ]
  },
  {
   "cell_type": "code",
   "execution_count": 26,
   "metadata": {
    "scrolled": false
   },
   "outputs": [
    {
     "name": "stdout",
     "output_type": "stream",
     "text": [
      "嗅觉皮层正在处理：小黄鹂在唱歌\n",
      "鼻子闻【嗅觉皮层】：闻:什么都没有闻到\n",
      "嗅觉皮层正在处理：小黄鹂在唱歌\n",
      "鼻子闻【嗅觉皮层】：闻:什么都没有闻到\n",
      "嗅觉皮层正在处理：小黄鹂在唱歌\n",
      "鼻子闻【嗅觉皮层】：闻:什么都没有闻到\n",
      "嗅觉皮层正在处理：小黄鹂在唱歌\n",
      "鼻子闻【嗅觉皮层】：闻:什么都没有闻到\n",
      "嗅觉皮层正在处理：小黄鹂在唱歌\n",
      "鼻子闻【嗅觉皮层】：闻:什么都没有闻到\n",
      "嗅觉皮层正在处理：小黄鹂在唱歌\n",
      "鼻子闻【嗅觉皮层】：闻:什么都没有闻到\n",
      "嗅觉皮层正在处理：小黄鹂在唱歌\n",
      "鼻子闻【嗅觉皮层】：闻:什么都没有闻到\n",
      "嗅觉皮层正在处理：小黄鹂在唱歌\n",
      "鼻子闻【嗅觉皮层】：闻:什么都没有闻到\n",
      "嗅觉皮层正在处理：小黄鹂在唱歌\n",
      "鼻子闻【嗅觉皮层】：闻:什么都没有闻到\n",
      "嗅觉皮层正在处理：小黄鹂在唱歌\n",
      "鼻子闻【嗅觉皮层】：闻:什么都没有闻到\n",
      "嗅觉皮层正在处理：小黄鹂在唱歌\n",
      "鼻子闻【嗅觉皮层】：闻:什么都没有闻到\n",
      "嗅觉皮层正在处理：小黄鹂在唱歌\n",
      "鼻子闻【嗅觉皮层】：闻:什么都没有闻到\n",
      "嗅觉皮层正在处理：小黄鹂在唱歌\n",
      "鼻子闻【嗅觉皮层】：闻:什么都没有闻到\n",
      "嗅觉皮层正在处理：小黄鹂在唱歌\n",
      "鼻子闻【嗅觉皮层】：听:小黄鹂在唱歌\n",
      "嗅觉皮层正在处理：小黄鹂在唱歌\n",
      "鼻子闻【嗅觉皮层】：听:小黄鹂在唱歌\n",
      "嗅觉皮层正在处理：小黄鹂在唱歌\n",
      "鼻子闻【嗅觉皮层】：听:小黄鹂在唱歌\n",
      "嗅觉皮层正在处理：小黄鹂在唱歌\n",
      "鼻子闻【嗅觉皮层】：听:小黄鹂在唱歌\n",
      "嗅觉皮层正在处理：小黄鹂在唱歌\n",
      "鼻子闻【嗅觉皮层】：听:小黄鹂在唱歌\n",
      "嗅觉皮层正在处理：小黄鹂在唱歌\n",
      "鼻子闻【嗅觉皮层】：听:小黄鹂在唱歌\n",
      "嗅觉皮层正在处理：小黄鹂在唱歌\n",
      "鼻子闻【嗅觉皮层】：听:小黄鹂在唱歌\n"
     ]
    }
   ],
   "source": [
    "from random import random\n",
    "\n",
    "\n",
    "class Neuron(object):\n",
    "    def __init__(self, signal_type):\n",
    "        # 模拟神经元处理某种信号的能力，signal_type为突触携带的参数\n",
    "        self.signal_type = signal_type\n",
    "    \n",
    "    def active(self, x):\n",
    "        # 输入某种类型的信号，有可能激活神经元响应刺激，假设有5%的概率被训练改变\n",
    "        if random() <= 0.05:\n",
    "            self.signal_type = x.signal_type\n",
    "        if x.signal_type == self.signal_type:\n",
    "            return signals[self.signal_type] + \":\" + x.data\n",
    "        else:\n",
    "            return signals[self.signal_type] + \":\" + \"什么都没有\" + signals[self.signal_type] + \"到\"\n",
    "        \n",
    "\n",
    "# 连续输入100次，看看神经元处理类型的变化\n",
    "brain = Brain()\n",
    "hear = SignalInput(\"听觉信号\", \"小黄鹂在唱歌\")\n",
    "for i in range(20):\n",
    "    brain.smell_area.process(hear)"
   ]
  },
  {
   "cell_type": "code",
   "execution_count": 27,
   "metadata": {
    "scrolled": false
   },
   "outputs": [
    {
     "name": "stdout",
     "output_type": "stream",
     "text": [
      "嗅觉信号\n",
      "听觉信号\n",
      "听觉信号\n",
      "听觉信号\n",
      "听觉信号\n",
      "听觉信号\n",
      "听觉信号\n",
      "听觉信号\n",
      "听觉信号\n",
      "听觉信号\n",
      "听觉信号\n",
      "听觉信号\n",
      "听觉信号\n",
      "听觉信号\n",
      "听觉信号\n",
      "嗅觉信号\n",
      "听觉信号\n",
      "嗅觉信号\n",
      "嗅觉信号\n",
      "听觉信号\n"
     ]
    }
   ],
   "source": [
    "for i in range(20):\n",
    "    print(brain.smell_area.neurons[i].signal_type)"
   ]
  },
  {
   "cell_type": "code",
   "execution_count": 28,
   "metadata": {},
   "outputs": [
    {
     "data": {
      "text/plain": [
       "array([ 0,  1,  2,  3,  4,  5,  6,  7,  8,  9, 10, 11, 12, 13, 14, 15, 16,\n",
       "       17, 18, 19])"
      ]
     },
     "execution_count": 28,
     "metadata": {},
     "output_type": "execute_result"
    }
   ],
   "source": [
    "import random\n",
    "\n",
    "\n",
    "x = np.arange(20)\n",
    "y = np.array([5 * x[i] + randint(1, 20) for i in range(len(x))])\n",
    "x"
   ]
  },
  {
   "cell_type": "code",
   "execution_count": 29,
   "metadata": {},
   "outputs": [
    {
     "data": {
      "text/plain": [
       "array([  9,  22,  16,  24,  34,  40,  44,  38,  56,  59,  67,  65,  71,\n",
       "        75,  79,  88,  94,  92, 100, 113])"
      ]
     },
     "execution_count": 29,
     "metadata": {},
     "output_type": "execute_result"
    }
   ],
   "source": [
    "y"
   ]
  },
  {
   "cell_type": "code",
   "execution_count": 30,
   "metadata": {},
   "outputs": [
    {
     "data": {
      "image/png": "[encoded data removed]",
      "text/plain": [
       "<Figure size 432x288 with 1 Axes>"
      ]
     },
     "metadata": {
      "needs_background": "light"
     },
     "output_type": "display_data"
    }
   ],
   "source": [
    "plt.scatter(x, y)\n",
    "plt.xlabel(\"X\")\n",
    "plt.ylabel(\"Y\")\n",
    "plt.show()"
   ]
  },
  {
   "cell_type": "code",
   "execution_count": 31,
   "metadata": {},
   "outputs": [],
   "source": [
    "x_train = torch.from_numpy(x).float()\n",
    "y_train = torch.from_numpy(y).float()"
   ]
  },
  {
   "cell_type": "code",
   "execution_count": 32,
   "metadata": {},
   "outputs": [
    {
     "data": {
      "text/plain": [
       "tensor([ 0.,  1.,  2.,  3.,  4.,  5.,  6.,  7.,  8.,  9., 10., 11., 12., 13.,\n",
       "        14., 15., 16., 17., 18., 19.])"
      ]
     },
     "execution_count": 32,
     "metadata": {},
     "output_type": "execute_result"
    }
   ],
   "source": [
    "x_train"
   ]
  },
  {
   "cell_type": "code",
   "execution_count": 33,
   "metadata": {},
   "outputs": [
    {
     "data": {
      "text/plain": [
       "tensor([  9.,  22.,  16.,  24.,  34.,  40.,  44.,  38.,  56.,  59.,  67.,  65.,\n",
       "         71.,  75.,  79.,  88.,  94.,  92., 100., 113.])"
      ]
     },
     "execution_count": 33,
     "metadata": {},
     "output_type": "execute_result"
    }
   ],
   "source": [
    "y_train"
   ]
  },
  {
   "cell_type": "code",
   "execution_count": 34,
   "metadata": {},
   "outputs": [],
   "source": [
    "import torch.nn as nn\n",
    "\n",
    "\n",
    "class LinearRegression(nn.Module):\n",
    "    def __init__(self):\n",
    "        super(LinearRegression, self).__init__()\n",
    "        # 输入输出都是一维\n",
    "        self.linear = torch.nn.Linear(1, 1)\n",
    "        \n",
    "    def forward(self, x):\n",
    "        return self.linear(x)"
   ]
  },
  {
   "cell_type": "code",
   "execution_count": 35,
   "metadata": {
    "scrolled": false
   },
   "outputs": [
    {
     "name": "stdout",
     "output_type": "stream",
     "text": [
      "Epoch: [1/10], loss: [4112.6382]\n",
      "Epoch: [2/10], loss: [2345.5811]\n"
     ]
    },
    {
     "data": {
      "image/png": "[encoded data removed]",
      "text/plain": [
       "<Figure size 432x288 with 1 Axes>"
      ]
     },
     "metadata": {
      "needs_background": "light"
     },
     "output_type": "display_data"
    },
    {
     "name": "stdout",
     "output_type": "stream",
     "text": [
      "Epoch: [3/10], loss: [1347.5201]\n",
      "Epoch: [4/10], loss: [783.7930]\n"
     ]
    },
    {
     "data": {
      "image/png": "[encoded data removed]",
      "text/plain": [
       "<Figure size 432x288 with 1 Axes>"
      ]
     },
     "metadata": {
      "needs_background": "light"
     },
     "output_type": "display_data"
    },
    {
     "name": "stdout",
     "output_type": "stream",
     "text": [
      "Epoch: [5/10], loss: [465.3801]\n",
      "Epoch: [6/10], loss: [285.5215]\n"
     ]
    },
    {
     "data": {
      "image/png": "[encoded data removed]",
      "text/plain": [
       "<Figure size 432x288 with 1 Axes>"
      ]
     },
     "metadata": {
      "needs_background": "light"
     },
     "output_type": "display_data"
    },
    {
     "name": "stdout",
     "output_type": "stream",
     "text": [
      "Epoch: [7/10], loss: [183.9193]\n",
      "Epoch: [8/10], loss: [126.5169]\n"
     ]
    },
    {
     "data": {
      "image/png": "[encoded data removed]",
      "text/plain": [
       "<Figure size 432x288 with 1 Axes>"
      ]
     },
     "metadata": {
      "needs_background": "light"
     },
     "output_type": "display_data"
    },
    {
     "name": "stdout",
     "output_type": "stream",
     "text": [
      "Epoch: [9/10], loss: [94.0785]\n",
      "Epoch: [10/10], loss: [75.7401]\n"
     ]
    },
    {
     "data": {
      "image/png": "[encoded data removed]",
      "text/plain": [
       "<Figure size 432x288 with 1 Axes>"
      ]
     },
     "metadata": {
      "needs_background": "light"
     },
     "output_type": "display_data"
    }
   ],
   "source": [
    "# 新建模型，误差函数，优化器\n",
    "model = LinearRegression()\n",
    "criterion = nn.MSELoss()\n",
    "optimizer = torch.optim.SGD(params=model.parameters(), lr=0.001)\n",
    "\n",
    "num_epochs = 10\n",
    "for i in range(num_epochs):\n",
    "    input_data = x_train.unsqueeze(1)\n",
    "    target = y_train.unsqueeze(1)\n",
    "    out = model(input_data)\n",
    "    loss = criterion(out, target)\n",
    "    optimizer.zero_grad()\n",
    "    loss.backward()\n",
    "    optimizer.step()\n",
    "    print(\"Epoch: [{}/{}], loss: [{:.4f}]\".format(i+1, num_epochs, loss.item()))\n",
    "    if (i+1) % 2 == 0:\n",
    "        predict = model(input_data)\n",
    "        plt.plot(x_train.data.numpy(), predict.squeeze(1).data.numpy(), \"r\")\n",
    "        loss = criterion(predict, target)\n",
    "        plt.title(\"Loss:{:.4f}\".format(loss.item()))\n",
    "        plt.xlabel(\"X\")\n",
    "        plt.ylabel(\"Y\")\n",
    "        plt.scatter(x_train, y_train)\n",
    "        plt.show()"
   ]
  },
  {
   "cell_type": "markdown",
   "metadata": {},
   "source": [
    "### 多项式回归"
   ]
  },
  {
   "cell_type": "code",
   "execution_count": 36,
   "metadata": {},
   "outputs": [
    {
     "data": {
      "image/png": "[encoded data removed]",
      "text/plain": [
       "<Figure size 432x288 with 1 Axes>"
      ]
     },
     "metadata": {
      "needs_background": "light"
     },
     "output_type": "display_data"
    }
   ],
   "source": [
    "# 多项式方程f(x)=-1.13x-2.14x^2+3.15x^3-0.01x^4+0.512\n",
    "### 多项式回归数据准备\n",
    "\n",
    "x = torch.linspace(-2, 2, 50)\n",
    "y = -1.13 * x - 2.14 * torch.pow(x, 2) + 3.15 * torch.pow(x, 3) - 0.01 * torch.pow(x, 4) + 0.512\n",
    "plt.scatter(x.data.numpy(), y.data.numpy())\n",
    "plt.show()"
   ]
  },
  {
   "cell_type": "code",
   "execution_count": 37,
   "metadata": {},
   "outputs": [
    {
     "data": {
      "image/png": "[encoded data removed]",
      "text/plain": [
       "<IPython.core.display.Image object>"
      ]
     },
     "execution_count": 37,
     "metadata": {},
     "output_type": "execute_result"
    }
   ],
   "source": [
    "# 因为有4个变量，因此对于每个输入是一个向量，而不是一个标量数据，多条数据输入便形成了一个矩阵输入\n",
    "from IPython.display import Image\n",
    "\n",
    "Image(\"./Learn-Pytorch-And-Become-A-Data-Scientist-master/chapter2/imgs/1.png\")"
   ]
  },
  {
   "cell_type": "code",
   "execution_count": 38,
   "metadata": {},
   "outputs": [],
   "source": [
    "# 为了拼接上面的输入，需要编写辅助方法，输入一个标量x，\n",
    "# 输入[x,x^2,x^3,x^4]向量组成的矩阵，使用torch.cat拼接\n",
    "\n",
    "def features(x):\n",
    "    # [x, x^2, x^3, x^4]\n",
    "    x = x.unsqueeze(1)\n",
    "    return torch.cat([x ** i for i in range(1, 5)], 1)"
   ]
  },
  {
   "cell_type": "code",
   "execution_count": 39,
   "metadata": {},
   "outputs": [
    {
     "data": {
      "text/plain": [
       "tensor([[-2.0000,  4.0000, -8.0000, 16.0000],\n",
       "        [-1.9184,  3.6801, -7.0598, 13.5434]])"
      ]
     },
     "execution_count": 39,
     "metadata": {},
     "output_type": "execute_result"
    }
   ],
   "source": [
    "features(x)[:2]"
   ]
  },
  {
   "cell_type": "code",
   "execution_count": 40,
   "metadata": {},
   "outputs": [],
   "source": [
    "# 目标公式，用于计算输入特征对应的标准输出\n",
    "# 目标公式权重\n",
    "x_weights = torch.Tensor([-1.13, -2.14, 3.15, -0.01]).unsqueeze(1)\n",
    "b = torch.Tensor([0.512])\n",
    "\n",
    "\n",
    "def target(x):\n",
    "    # Tensor上的item方法用于获取标量Tensor中的数值\n",
    "    return x.mm(x_weights) + b.item()"
   ]
  },
  {
   "cell_type": "code",
   "execution_count": 41,
   "metadata": {},
   "outputs": [
    {
     "data": {
      "text/plain": [
       "tensor([[0.3820]])"
      ]
     },
     "execution_count": 41,
     "metadata": {},
     "output_type": "execute_result"
    }
   ],
   "source": [
    "target(features(torch.Tensor([1])))"
   ]
  },
  {
   "cell_type": "code",
   "execution_count": 42,
   "metadata": {},
   "outputs": [],
   "source": [
    "# 接下来新建一个随机生成输入数据和输出数据的函数，用于生成训练数据\n",
    "def get_batch_data(batch_size):\n",
    "    # 生成batch个随机的x\n",
    "    batch_x = torch.randn(batch_size)\n",
    "    # 对于每个x要计算[x,x^2,x^3,x^4],最终对于一个batch将生成一个矩阵\n",
    "    # 直接调用上面的features方法生成矩阵\n",
    "    features_x = features(batch_x)\n",
    "    target_y = target(features_x)\n",
    "    return features_x, target_y"
   ]
  },
  {
   "cell_type": "code",
   "execution_count": 43,
   "metadata": {},
   "outputs": [
    {
     "data": {
      "text/plain": [
       "(tensor([[ 5.9702e-01,  3.5643e-01,  2.1279e-01,  1.2704e-01],\n",
       "         [ 9.9053e-01,  9.8115e-01,  9.7185e-01,  9.6265e-01],\n",
       "         [ 1.1317e+00,  1.2808e+00,  1.4495e+00,  1.6405e+00],\n",
       "         [ 2.8454e-02,  8.0965e-04,  2.3038e-05,  6.5554e-07],\n",
       "         [ 5.6192e-01,  3.1575e-01,  1.7743e-01,  9.9699e-02],\n",
       "         [ 3.4028e-01,  1.1579e-01,  3.9400e-02,  1.3407e-02],\n",
       "         [ 6.1616e-01,  3.7966e-01,  2.3393e-01,  1.4414e-01],\n",
       "         [-3.6106e-01,  1.3036e-01, -4.7069e-02,  1.6995e-02]]),\n",
       " tensor([[-0.2564],\n",
       "         [ 0.3448],\n",
       "         [ 1.0418],\n",
       "         [ 0.4782],\n",
       "         [-0.2408],\n",
       "         [ 0.0037],\n",
       "         [-0.2613],\n",
       "         [ 0.4926]]))"
      ]
     },
     "execution_count": 43,
     "metadata": {},
     "output_type": "execute_result"
    }
   ],
   "source": [
    "get_batch_data(8)"
   ]
  },
  {
   "cell_type": "code",
   "execution_count": 44,
   "metadata": {},
   "outputs": [],
   "source": [
    "#新建模型，继承自nn.Module，在init方法中使用Linear模型，注意此时的输入是4，对应目标函数的4个变量[x,x^2,x^3,x^4]\n",
    "class PolynomialRegression(nn.Module):\n",
    "    def __init__(self):\n",
    "        super(PolynomialRegression, self).__init__()\n",
    "        # 输入维度维4，输出维度维1\n",
    "        self.poly = nn.Linear(4, 1)\n",
    "        \n",
    "    def forward(self, x):\n",
    "        return self.poly(x)"
   ]
  },
  {
   "cell_type": "code",
   "execution_count": 45,
   "metadata": {
    "scrolled": false
   },
   "outputs": [
    {
     "name": "stdout",
     "output_type": "stream",
     "text": [
      "Epoch: [1/10000], loss: [27.616301]\n"
     ]
    },
    {
     "data": {
      "image/png": "[encoded data removed]",
      "text/plain": [
       "<Figure size 432x288 with 1 Axes>"
      ]
     },
     "metadata": {
      "needs_background": "light"
     },
     "output_type": "display_data"
    },
    {
     "name": "stdout",
     "output_type": "stream",
     "text": [
      "Epoch: [101/10000], loss: [5.109170]\n",
      "Epoch: [201/10000], loss: [3.360312]\n",
      "Epoch: [301/10000], loss: [0.940167]\n",
      "Epoch: [401/10000], loss: [0.939307]\n",
      "Epoch: [501/10000], loss: [1.123698]\n",
      "Epoch: [601/10000], loss: [0.956815]\n",
      "Epoch: [701/10000], loss: [0.679401]\n",
      "Epoch: [801/10000], loss: [0.572641]\n",
      "Epoch: [901/10000], loss: [0.553409]\n",
      "Epoch: [1001/10000], loss: [8.122110]\n"
     ]
    },
    {
     "data": {
      "image/png": "[encoded data removed]",
      "text/plain": [
       "<Figure size 432x288 with 1 Axes>"
      ]
     },
     "metadata": {
      "needs_background": "light"
     },
     "output_type": "display_data"
    },
    {
     "name": "stdout",
     "output_type": "stream",
     "text": [
      "Epoch: [1101/10000], loss: [0.442465]\n",
      "Epoch: [1201/10000], loss: [0.389357]\n",
      "Epoch: [1301/10000], loss: [0.336778]\n",
      "Epoch: [1401/10000], loss: [0.322309]\n",
      "Epoch: [1501/10000], loss: [0.280802]\n",
      "Epoch: [1601/10000], loss: [0.342007]\n",
      "Epoch: [1701/10000], loss: [0.133023]\n",
      "Epoch: [1801/10000], loss: [0.382924]\n",
      "Epoch: [1901/10000], loss: [0.114683]\n",
      "Epoch: [2001/10000], loss: [0.111109]\n"
     ]
    },
    {
     "data": {
      "image/png": "[encoded data removed]",
      "text/plain": [
       "<Figure size 432x288 with 1 Axes>"
      ]
     },
     "metadata": {
      "needs_background": "light"
     },
     "output_type": "display_data"
    },
    {
     "name": "stdout",
     "output_type": "stream",
     "text": [
      "Epoch: [2101/10000], loss: [0.111699]\n",
      "Epoch: [2201/10000], loss: [0.095343]\n",
      "Epoch: [2301/10000], loss: [0.076753]\n",
      "Epoch: [2401/10000], loss: [0.073421]\n",
      "Epoch: [2501/10000], loss: [0.041885]\n",
      "Epoch: [2601/10000], loss: [0.293991]\n",
      "Epoch: [2701/10000], loss: [0.055948]\n",
      "Epoch: [2801/10000], loss: [0.104051]\n",
      "Epoch: [2901/10000], loss: [0.059408]\n",
      "Epoch: [3001/10000], loss: [0.037866]\n"
     ]
    },
    {
     "data": {
      "image/png": "[encoded data removed]",
      "text/plain": [
       "<Figure size 432x288 with 1 Axes>"
      ]
     },
     "metadata": {
      "needs_background": "light"
     },
     "output_type": "display_data"
    },
    {
     "name": "stdout",
     "output_type": "stream",
     "text": [
      "Epoch: [3101/10000], loss: [0.034211]\n",
      "Epoch: [3201/10000], loss: [0.022031]\n",
      "Epoch: [3301/10000], loss: [0.027454]\n",
      "Epoch: [3401/10000], loss: [0.020700]\n",
      "Epoch: [3501/10000], loss: [0.017689]\n",
      "Epoch: [3601/10000], loss: [0.013964]\n",
      "Epoch: [3701/10000], loss: [0.009769]\n",
      "Epoch: [3801/10000], loss: [0.013120]\n",
      "Epoch: [3901/10000], loss: [0.015935]\n",
      "Epoch: [4001/10000], loss: [0.014516]\n"
     ]
    },
    {
     "data": {
      "image/png": "[encoded data removed]",
      "text/plain": [
       "<Figure size 432x288 with 1 Axes>"
      ]
     },
     "metadata": {
      "needs_background": "light"
     },
     "output_type": "display_data"
    },
    {
     "name": "stdout",
     "output_type": "stream",
     "text": [
      "Epoch: [4101/10000], loss: [0.009983]\n",
      "Epoch: [4201/10000], loss: [0.008735]\n",
      "Epoch: [4301/10000], loss: [0.005736]\n",
      "Epoch: [4401/10000], loss: [0.005740]\n",
      "Epoch: [4501/10000], loss: [0.006758]\n",
      "Epoch: [4601/10000], loss: [0.004228]\n",
      "Epoch: [4701/10000], loss: [0.006709]\n",
      "Epoch: [4801/10000], loss: [0.003586]\n",
      "Epoch: [4901/10000], loss: [0.002798]\n",
      "Epoch: [5001/10000], loss: [0.002963]\n"
     ]
    },
    {
     "data": {
      "image/png": "[encoded data removed]",
      "text/plain": [
       "<Figure size 432x288 with 1 Axes>"
      ]
     },
     "metadata": {
      "needs_background": "light"
     },
     "output_type": "display_data"
    },
    {
     "name": "stdout",
     "output_type": "stream",
     "text": [
      "Epoch: [5101/10000], loss: [0.002988]\n",
      "Epoch: [5201/10000], loss: [0.001814]\n",
      "Epoch: [5301/10000], loss: [0.001920]\n",
      "Epoch: [5401/10000], loss: [0.001471]\n",
      "Epoch: [5501/10000], loss: [0.001655]\n",
      "Epoch: [5601/10000], loss: [0.001302]\n",
      "Epoch: [5701/10000], loss: [0.000968]\n",
      "Epoch: [5801/10000], loss: [0.001133]\n",
      "Epoch: [5901/10000], loss: [0.000941]\n",
      "Epoch: [6001/10000], loss: [0.000999]\n"
     ]
    },
    {
     "data": {
      "image/png": "[encoded data removed]",
      "text/plain": [
       "<Figure size 432x288 with 1 Axes>"
      ]
     },
     "metadata": {
      "needs_background": "light"
     },
     "output_type": "display_data"
    },
    {
     "name": "stdout",
     "output_type": "stream",
     "text": [
      "Epoch: [6101/10000], loss: [0.000636]\n",
      "Epoch: [6201/10000], loss: [0.000740]\n",
      "Epoch: [6301/10000], loss: [0.000591]\n",
      "Epoch: [6401/10000], loss: [0.000383]\n",
      "Epoch: [6501/10000], loss: [0.000643]\n",
      "Epoch: [6601/10000], loss: [0.000376]\n",
      "Epoch: [6701/10000], loss: [0.000289]\n",
      "Epoch: [6801/10000], loss: [0.000197]\n",
      "Epoch: [6901/10000], loss: [0.000192]\n",
      "Epoch: [7001/10000], loss: [0.000139]\n"
     ]
    },
    {
     "data": {
      "image/png": "[encoded data removed]",
      "text/plain": [
       "<Figure size 432x288 with 1 Axes>"
      ]
     },
     "metadata": {
      "needs_background": "light"
     },
     "output_type": "display_data"
    },
    {
     "name": "stdout",
     "output_type": "stream",
     "text": [
      "Epoch: [7101/10000], loss: [0.000141]\n",
      "Epoch: [7201/10000], loss: [0.000132]\n",
      "Epoch: [7301/10000], loss: [0.000129]\n",
      "Epoch: [7401/10000], loss: [0.000462]\n",
      "Epoch: [7501/10000], loss: [0.000159]\n",
      "Epoch: [7601/10000], loss: [0.000065]\n",
      "Epoch: [7701/10000], loss: [0.000658]\n",
      "Epoch: [7801/10000], loss: [0.000059]\n",
      "Epoch: [7901/10000], loss: [0.000038]\n",
      "Epoch: [8001/10000], loss: [0.000036]\n"
     ]
    },
    {
     "data": {
      "image/png": "[encoded data removed]",
      "text/plain": [
       "<Figure size 432x288 with 1 Axes>"
      ]
     },
     "metadata": {
      "needs_background": "light"
     },
     "output_type": "display_data"
    },
    {
     "name": "stdout",
     "output_type": "stream",
     "text": [
      "Epoch: [8101/10000], loss: [0.000174]\n",
      "Epoch: [8201/10000], loss: [0.000036]\n",
      "Epoch: [8301/10000], loss: [0.000038]\n",
      "Epoch: [8401/10000], loss: [0.000061]\n",
      "Epoch: [8501/10000], loss: [0.000021]\n",
      "Epoch: [8601/10000], loss: [0.000024]\n",
      "Epoch: [8701/10000], loss: [0.000013]\n",
      "Epoch: [8801/10000], loss: [0.000021]\n",
      "Epoch: [8901/10000], loss: [0.000009]\n",
      "Epoch: [9001/10000], loss: [0.000020]\n"
     ]
    },
    {
     "data": {
      "image/png": "[encoded data removed]",
      "text/plain": [
       "<Figure size 432x288 with 1 Axes>"
      ]
     },
     "metadata": {
      "needs_background": "light"
     },
     "output_type": "display_data"
    },
    {
     "name": "stdout",
     "output_type": "stream",
     "text": [
      "Epoch: [9101/10000], loss: [0.000010]\n",
      "Epoch: [9201/10000], loss: [0.000032]\n",
      "Epoch: [9301/10000], loss: [0.000007]\n",
      "Epoch: [9401/10000], loss: [0.000007]\n",
      "Epoch: [9501/10000], loss: [0.000005]\n",
      "Epoch: [9601/10000], loss: [0.000006]\n",
      "Epoch: [9701/10000], loss: [0.000007]\n",
      "Epoch: [9801/10000], loss: [0.000003]\n",
      "Epoch: [9901/10000], loss: [0.000002]\n"
     ]
    }
   ],
   "source": [
    "# 开始训练模型，误差函数仍然使用MSELoss，使用SGD随机梯度下降优化参数\n",
    "epochs = 10000\n",
    "batch_size = 32\n",
    "model = PolynomialRegression()\n",
    "criterion = nn.MSELoss()\n",
    "optimizer = torch.optim.SGD(model.parameters(), 0.001)\n",
    "for epoch in range(epochs):\n",
    "    batch_x, batch_y = get_batch_data(batch_size)\n",
    "    out = model(batch_x)\n",
    "    loss = criterion(out, batch_y)\n",
    "    optimizer.zero_grad()\n",
    "    loss.backward()\n",
    "    optimizer.step()\n",
    "    if epoch % 100 == 0:\n",
    "        print(\"Epoch: [{}/{}], loss: [{:.6f}]\".format(epoch+1, epochs, loss.item()))\n",
    "    if epoch % 1000 == 0:\n",
    "        predict = model(features(x))\n",
    "        plt.plot(x.data.numpy(), predict.squeeze(1).data.numpy(), \"r\")\n",
    "        loss = criterion(predict.squeeze(1), y)\n",
    "        plt.title(\"Loss: {:.4f}\".format(loss.item()))\n",
    "        plt.xlabel(\"X\")\n",
    "        plt.ylabel(\"Y\")\n",
    "        plt.scatter(x, y)\n",
    "        plt.show()"
   ]
  },
  {
   "cell_type": "code",
   "execution_count": 46,
   "metadata": {},
   "outputs": [
    {
     "data": {
      "image/png": "[encoded data removed]",
      "text/plain": [
       "<Figure size 432x288 with 1 Axes>"
      ]
     },
     "metadata": {
      "needs_background": "light"
     },
     "output_type": "display_data"
    }
   ],
   "source": [
    "t = torch.linspace(-10,10,1000)\n",
    "x = 16*torch.sin(t)**3\n",
    "y = 13*torch.cos(t)-5*torch.cos(2*t)-2*torch.cos(3*t)-torch.cos(4*t)\n",
    "\n",
    "plt.scatter(x.data.numpy(),y.data.numpy(),c=\"r\")\n",
    "plt.title(\"f(x) = 13cos⁡x - 5cos⁡2x - 2cos⁡3x - cos⁡4x\")\n",
    "plt.show()"
   ]
  },
  {
   "cell_type": "markdown",
   "metadata": {},
   "source": [
    "### 逻辑回归"
   ]
  },
  {
   "cell_type": "code",
   "execution_count": 48,
   "metadata": {},
   "outputs": [
    {
     "data": {
      "image/png": "[encoded data removed]",
      "text/plain": [
       "<Figure size 432x288 with 1 Axes>"
      ]
     },
     "metadata": {
      "needs_background": "light"
     },
     "output_type": "display_data"
    }
   ],
   "source": [
    "import math\n",
    "\n",
    "x = torch.linspace(-10, 10, 1000)\n",
    "y = 1/(1+torch.pow(math.e, -x))\n",
    "plt.plot(x.data.numpy(), y.data.numpy())\n",
    "plt.show()"
   ]
  },
  {
   "cell_type": "markdown",
   "metadata": {},
   "source": [
    "#### 构造测试数据"
   ]
  },
  {
   "cell_type": "code",
   "execution_count": 80,
   "metadata": {},
   "outputs": [
    {
     "data": {
      "image/png": "[encoded data removed]",
      "text/plain": [
       "<Figure size 432x288 with 1 Axes>"
      ]
     },
     "metadata": {
      "needs_background": "light"
     },
     "output_type": "display_data"
    }
   ],
   "source": [
    "x1 = torch.randn(365) + 1.5\n",
    "x2 = torch.randn(365) - 1.5\n",
    "data = zip(x1.data.numpy(), x2.data.numpy())\n",
    "pos = []\n",
    "neg = []\n",
    "\n",
    "\n",
    "def classification(data):\n",
    "    for i in data:\n",
    "        if (i[0] > 1.5+0.1*torch.rand(1).item()*(-1)**torch.randint(1, 10, (1, 1)).item()):\n",
    "            pos.append(i)\n",
    "        else:\n",
    "            neg.append(i)\n",
    "            \n",
    "\n",
    "classification(data)\n",
    "pos_x = [i[0] for i in pos]\n",
    "pos_y = [i[1] for i in pos]\n",
    "neg_x = [i[0] for i in neg]\n",
    "neg_y = [i[1] for i in neg]\n",
    "plt.scatter(pos_x, pos_y, c=\"r\", marker=\"*\")\n",
    "plt.scatter(neg_x, neg_y, c='b', marker=\"^\")\n",
    "plt.show()"
   ]
  },
  {
   "cell_type": "code",
   "execution_count": 82,
   "metadata": {},
   "outputs": [],
   "source": [
    "class LogisticRegression(nn.Module):\n",
    "    def __init__(self):\n",
    "        super(LogisticRegression, self).__init__()\n",
    "        self.linear = nn.Linear(2, 1)\n",
    "        self.sigmoid = nn.Sigmoid()\n",
    "        \n",
    "    def forward(self, x):\n",
    "        return self.sigmoid(self.linear(x))"
   ]
  },
  {
   "cell_type": "code",
   "execution_count": 107,
   "metadata": {},
   "outputs": [
    {
     "data": {
      "image/png": "[encoded data removed]",
      "text/plain": [
       "<Figure size 432x288 with 1 Axes>"
      ]
     },
     "metadata": {
      "needs_background": "light"
     },
     "output_type": "display_data"
    },
    {
     "data": {
      "image/png": "[encoded data removed]",
      "text/plain": [
       "<Figure size 432x288 with 1 Axes>"
      ]
     },
     "metadata": {
      "needs_background": "light"
     },
     "output_type": "display_data"
    },
    {
     "data": {
      "image/png": "[encoded data removed]",
      "text/plain": [
       "<Figure size 432x288 with 1 Axes>"
      ]
     },
     "metadata": {
      "needs_background": "light"
     },
     "output_type": "display_data"
    },
    {
     "data": {
      "image/png": "[encoded data removed]",
      "text/plain": [
       "<Figure size 432x288 with 1 Axes>"
      ]
     },
     "metadata": {
      "needs_background": "light"
     },
     "output_type": "display_data"
    },
    {
     "data": {
      "image/png": "[encoded data removed]",
      "text/plain": [
       "<Figure size 432x288 with 1 Axes>"
      ]
     },
     "metadata": {
      "needs_background": "light"
     },
     "output_type": "display_data"
    }
   ],
   "source": [
    "model = LogisticRegression()\n",
    "criterion = nn.BCELoss()\n",
    "optimizer = torch.optim.SGD(model.parameters(), 0.01)\n",
    "\n",
    "epochs = 50000\n",
    "features = [[i[0], i[1]] for i in pos]\n",
    "features.extend([[i[0], i[1]] for i in neg])\n",
    "features = torch.Tensor(features)\n",
    "label = [1 for i in range(len(pos))]\n",
    "label.extend([0 for i in range(len(neg))])\n",
    "label = torch.Tensor(label)\n",
    "\n",
    "for i in range(epochs):\n",
    "    out = model(features)\n",
    "    # 以o.5为划分标签，大于0.5表示正类，标签为1，小于0.5为负类标签为0\n",
    "    loss = criterion(out.squeeze(1), label)\n",
    "    optimizer.zero_grad()\n",
    "    loss.backward()\n",
    "    optimizer.step()\n",
    "    # 分类任务准确率\n",
    "    acc = (out.ge(0.5).float().squeeze(1) == label).sum().float() / features.size()[0]\n",
    "    \n",
    "    if i % 10000 == 0:\n",
    "        plt.scatter(pos_x, pos_y, c=\"r\", marker=\"*\")\n",
    "        plt.scatter(neg_x, neg_y, c='b', marker=\"^\")\n",
    "        weight = model.linear.weight[0]\n",
    "        w0 = weight[0]\n",
    "        w1 = weight[1]\n",
    "        b = model.linear.bias.data[0]\n",
    "        # 绘制出边界线\n",
    "        test_x = torch.linspace(-10, 10, 500)\n",
    "        test_y = (-w0 * test_x - b) / w1\n",
    "        plt.plot(test_x.data.numpy(), test_y.data.numpy(), c=\"pink\")\n",
    "        plt.title(\"acc:{:.4f},loss:{:.4f}\".format(acc, loss))\n",
    "        plt.ylim(-5, 3)\n",
    "        plt.xlim(-3, 5)\n",
    "        plt.show()"
   ]
  },
  {
   "cell_type": "code",
   "execution_count": null,
   "metadata": {},
   "outputs": [],
   "source": []
  }
 ],
 "metadata": {
  "kernelspec": {
   "display_name": "Python 3",
   "language": "python",
   "name": "python3"
  },
  "language_info": {
   "codemirror_mode": {
    "name": "ipython",
    "version": 3
   },
   "file_extension": ".py",
   "mimetype": "text/x-python",
   "name": "python",
   "nbconvert_exporter": "python",
   "pygments_lexer": "ipython3",
   "version": "3.8.5"
  }
 },
 "nbformat": 4,
 "nbformat_minor": 4
}
