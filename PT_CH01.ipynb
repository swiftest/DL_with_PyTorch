{
 "cells": [
  {
   "cell_type": "markdown",
   "metadata": {},
   "source": [
    "# 初识Pytorch"
   ]
  },
  {
   "cell_type": "code",
   "execution_count": 1,
   "metadata": {},
   "outputs": [
    {
     "data": {
      "text/plain": [
       "tensor([[4.2194e-08, 4.0274e-11, 6.4097e-10],\n",
       "        [4.0274e-11, 6.7013e-10, 4.0274e-11],\n",
       "        [6.4097e-10, 4.0274e-11, 6.4833e-10]])"
      ]
     },
     "execution_count": 1,
     "metadata": {},
     "output_type": "execute_result"
    }
   ],
   "source": [
    "import torch\n",
    "\n",
    "torch.Tensor(3, 3)"
   ]
  },
  {
   "cell_type": "code",
   "execution_count": 2,
   "metadata": {},
   "outputs": [
    {
     "name": "stdout",
     "output_type": "stream",
     "text": [
      "<class 'numpy.ndarray'>\n"
     ]
    },
    {
     "data": {
      "text/plain": [
       "tensor([[1, 2],\n",
       "        [3, 4]])"
      ]
     },
     "execution_count": 2,
     "metadata": {},
     "output_type": "execute_result"
    }
   ],
   "source": [
    "import numpy as np\n",
    "\n",
    "a = np.array([[1, 2], [3, 4]])\n",
    "print(type(a))\n",
    "b = torch.from_numpy(a)\n",
    "b"
   ]
  },
  {
   "cell_type": "code",
   "execution_count": 3,
   "metadata": {},
   "outputs": [
    {
     "data": {
      "text/plain": [
       "torch.Tensor"
      ]
     },
     "execution_count": 3,
     "metadata": {},
     "output_type": "execute_result"
    }
   ],
   "source": [
    "type(b)"
   ]
  },
  {
   "cell_type": "code",
   "execution_count": 4,
   "metadata": {},
   "outputs": [
    {
     "data": {
      "text/plain": [
       "torch.Size([3, 4, 5, 8])"
      ]
     },
     "execution_count": 4,
     "metadata": {},
     "output_type": "execute_result"
    }
   ],
   "source": [
    "a = torch.Tensor(3, 4, 5, 8)\n",
    "a.shape"
   ]
  },
  {
   "cell_type": "code",
   "execution_count": 5,
   "metadata": {},
   "outputs": [
    {
     "data": {
      "text/plain": [
       "tensor([[[4.1722e+00, 4.5588e-41, 4.1722e+00, 4.5588e-41, 1.4768e-36,\n",
       "          0.0000e+00, 1.4768e-36, 0.0000e+00],\n",
       "         [1.4013e-45, 0.0000e+00, 1.4768e-36, 0.0000e+00, 1.4013e-45,\n",
       "          0.0000e+00, 1.4768e-36, 0.0000e+00],\n",
       "         [3.3631e-44, 0.0000e+00, 1.3944e+00, 4.5588e-41, 2.8026e-45,\n",
       "          4.5588e-41, 2.8026e-45, 5.6052e-45],\n",
       "         [1.4013e-45, 0.0000e+00, 1.4013e-45, 1.4013e-45, 3.3631e-44,\n",
       "          1.4013e-45, 5.7738e-05, 4.5588e-41],\n",
       "         [1.4013e-45, 4.5588e-41, 1.4013e-45, 4.5588e-41, 1.4013e-45,\n",
       "          5.6052e-45, 1.4013e-45, 1.2612e-44]],\n",
       "\n",
       "        [[2.9427e-44, 1.2612e-44, 1.4768e-36, 0.0000e+00, 7.6191e-03,\n",
       "          4.5588e-41, 1.4013e-45, 4.5588e-41],\n",
       "         [1.4013e-45, 5.6052e-45, 1.4013e-45, 2.2421e-44, 5.6052e-45,\n",
       "          0.0000e+00, 1.4768e-36, 0.0000e+00],\n",
       "         [1.4768e-36, 0.0000e+00, 1.4768e-36, 0.0000e+00, 1.4768e-36,\n",
       "          0.0000e+00, 2.8026e-44, 0.0000e+00],\n",
       "         [1.3712e-38, 0.0000e+00, 0.0000e+00, 0.0000e+00, 2.8026e-44,\n",
       "          1.6886e+25, 1.4013e-45, 2.3822e-44],\n",
       "         [1.4013e-45, 2.5223e-44, 2.8026e-44, 0.0000e+00, 1.3712e-38,\n",
       "          0.0000e+00, 0.0000e+00, 0.0000e+00]],\n",
       "\n",
       "        [[2.8026e-44, 0.0000e+00, 1.4013e-45, 2.8026e-44, 1.4013e-45,\n",
       "          2.9427e-44, 2.8026e-44, 7.1843e+22],\n",
       "         [1.3712e-38, 0.0000e+00, 0.0000e+00, 0.0000e+00, 2.8026e-44,\n",
       "          3.9572e-11, 1.4013e-45, 3.2230e-44],\n",
       "         [1.4013e-45, 3.3631e-44, 2.8026e-44, 2.0621e-19, 1.3712e-38,\n",
       "          0.0000e+00, 0.0000e+00, 0.0000e+00],\n",
       "         [2.8026e-44, 4.8419e+30, 1.4013e-45, 3.6434e-44, 1.4013e-45,\n",
       "          3.7835e-44, 0.0000e+00, 0.0000e+00],\n",
       "         [0.0000e+00, 0.0000e+00, 2.3822e-44, 3.7835e-44, 1.4768e-36,\n",
       "          0.0000e+00, 1.4768e-36, 0.0000e+00]],\n",
       "\n",
       "        [[1.4768e-36, 0.0000e+00, 1.4013e-45, 5.6052e-45, 1.4013e-45,\n",
       "          3.9236e-44, 8.4078e-45, 3.9236e-44],\n",
       "         [1.4768e-36, 0.0000e+00, 1.4768e-36, 0.0000e+00, 0.0000e+00,\n",
       "          0.0000e+00, 0.0000e+00, 0.0000e+00],\n",
       "         [1.0950e+21, 7.1442e+31, 2.0196e-19, 1.1047e-32, 1.4013e-45,\n",
       "          0.0000e+00, 1.4013e-45, 3.9236e-44],\n",
       "         [0.0000e+00, 0.0000e+00, 0.0000e+00, 0.0000e+00, 1.4013e-45,\n",
       "          4.5588e-41, 1.4768e-36, 0.0000e+00],\n",
       "         [1.4768e-36, 0.0000e+00, 2.8026e-45, 0.0000e+00, 2.8026e-45,\n",
       "          1.4013e-45, 2.9427e-44, 7.0976e+22]]])"
      ]
     },
     "execution_count": 5,
     "metadata": {},
     "output_type": "execute_result"
    }
   ],
   "source": [
    "a[0]"
   ]
  },
  {
   "cell_type": "markdown",
   "metadata": {},
   "source": [
    "## 零维标量"
   ]
  },
  {
   "cell_type": "code",
   "execution_count": 6,
   "metadata": {},
   "outputs": [
    {
     "data": {
      "text/plain": [
       "array([0.37092531])"
      ]
     },
     "execution_count": 6,
     "metadata": {},
     "output_type": "execute_result"
    }
   ],
   "source": [
    "a = np.random.rand(1)\n",
    "a"
   ]
  },
  {
   "cell_type": "code",
   "execution_count": 7,
   "metadata": {},
   "outputs": [
    {
     "data": {
      "text/plain": [
       "tensor([0.3709])"
      ]
     },
     "execution_count": 7,
     "metadata": {},
     "output_type": "execute_result"
    }
   ],
   "source": [
    "b = torch.Tensor(a)\n",
    "b"
   ]
  },
  {
   "cell_type": "code",
   "execution_count": 8,
   "metadata": {},
   "outputs": [
    {
     "data": {
      "text/plain": [
       "tensor([0.3709], dtype=torch.float64)"
      ]
     },
     "execution_count": 8,
     "metadata": {},
     "output_type": "execute_result"
    }
   ],
   "source": [
    "b = torch.from_numpy(a)\n",
    "b"
   ]
  },
  {
   "cell_type": "code",
   "execution_count": 9,
   "metadata": {},
   "outputs": [
    {
     "data": {
      "text/plain": [
       "numpy.ndarray"
      ]
     },
     "execution_count": 9,
     "metadata": {},
     "output_type": "execute_result"
    }
   ],
   "source": [
    "type(a)"
   ]
  },
  {
   "cell_type": "code",
   "execution_count": 10,
   "metadata": {},
   "outputs": [
    {
     "data": {
      "text/plain": [
       "torch.Size([1])"
      ]
     },
     "execution_count": 10,
     "metadata": {},
     "output_type": "execute_result"
    }
   ],
   "source": [
    "b.size()"
   ]
  },
  {
   "cell_type": "markdown",
   "metadata": {},
   "source": [
    "## 一维向量"
   ]
  },
  {
   "cell_type": "code",
   "execution_count": 11,
   "metadata": {},
   "outputs": [
    {
     "data": {
      "text/plain": [
       "torch.Size([6])"
      ]
     },
     "execution_count": 11,
     "metadata": {},
     "output_type": "execute_result"
    }
   ],
   "source": [
    "scores = torch.Tensor([88, 89, 91, 91, 99, 100])\n",
    "scores.size()"
   ]
  },
  {
   "cell_type": "code",
   "execution_count": 12,
   "metadata": {},
   "outputs": [
    {
     "data": {
      "text/plain": [
       "tensor([ 88.,  89.,  91.,  91.,  99., 100.])"
      ]
     },
     "execution_count": 12,
     "metadata": {},
     "output_type": "execute_result"
    }
   ],
   "source": [
    "scores"
   ]
  },
  {
   "cell_type": "markdown",
   "metadata": {},
   "source": [
    "## 二维矩阵"
   ]
  },
  {
   "cell_type": "code",
   "execution_count": 13,
   "metadata": {},
   "outputs": [
    {
     "data": {
      "text/plain": [
       "(150, 4)"
      ]
     },
     "execution_count": 13,
     "metadata": {},
     "output_type": "execute_result"
    }
   ],
   "source": [
    "from sklearn import datasets\n",
    "\n",
    "iris = datasets.load_iris()\n",
    "iris_data = iris[\"data\"]\n",
    "iris_data.shape"
   ]
  },
  {
   "cell_type": "code",
   "execution_count": 14,
   "metadata": {},
   "outputs": [
    {
     "data": {
      "text/plain": [
       "torch.Size([150, 4])"
      ]
     },
     "execution_count": 14,
     "metadata": {},
     "output_type": "execute_result"
    }
   ],
   "source": [
    "iris_tensor = torch.from_numpy(iris_data)\n",
    "iris_tensor.size()"
   ]
  },
  {
   "cell_type": "code",
   "execution_count": 15,
   "metadata": {},
   "outputs": [
    {
     "data": {
      "text/plain": [
       "tensor([[5.1000, 3.5000, 1.4000, 0.2000],\n",
       "        [4.9000, 3.0000, 1.4000, 0.2000],\n",
       "        [4.7000, 3.2000, 1.3000, 0.2000],\n",
       "        [4.6000, 3.1000, 1.5000, 0.2000]], dtype=torch.float64)"
      ]
     },
     "execution_count": 15,
     "metadata": {},
     "output_type": "execute_result"
    }
   ],
   "source": [
    "iris_tensor[:4, :]"
   ]
  },
  {
   "cell_type": "markdown",
   "metadata": {},
   "source": [
    "## 三维立方体"
   ]
  },
  {
   "cell_type": "code",
   "execution_count": 16,
   "metadata": {},
   "outputs": [
    {
     "data": {
      "text/plain": [
       "(224, 224, 3)"
      ]
     },
     "execution_count": 16,
     "metadata": {},
     "output_type": "execute_result"
    }
   ],
   "source": [
    "from PIL import Image\n",
    "import matplotlib.pyplot as plt\n",
    "%matplotlib inline\n",
    "\n",
    "pytorch = np.array(Image.open(\n",
    "    \"./Learn-Pytorch-And-Become-A-Data-Scientist-master/chapter1/imgs/pytorch.jpg\").resize((224, 224)))\n",
    "pytorch.shape"
   ]
  },
  {
   "cell_type": "code",
   "execution_count": 17,
   "metadata": {},
   "outputs": [
    {
     "data": {
      "text/plain": [
       "torch.Size([224, 224, 3])"
      ]
     },
     "execution_count": 17,
     "metadata": {},
     "output_type": "execute_result"
    }
   ],
   "source": [
    "pytorch_tensor = torch.from_numpy(pytorch)\n",
    "pytorch_tensor.size()"
   ]
  },
  {
   "cell_type": "code",
   "execution_count": 18,
   "metadata": {},
   "outputs": [
    {
     "data": {
      "text/plain": [
       "<matplotlib.image.AxesImage at 0x7f1471a7fd60>"
      ]
     },
     "execution_count": 18,
     "metadata": {},
     "output_type": "execute_result"
    },
    {
     "data": {
      "image/png": "[encoded data removed]",
      "text/plain": [
       "<Figure size 432x288 with 1 Axes>"
      ]
     },
     "metadata": {
      "needs_background": "light"
     },
     "output_type": "display_data"
    }
   ],
   "source": [
    "plt.imshow(pytorch)"
   ]
  },
  {
   "cell_type": "markdown",
   "metadata": {},
   "source": [
    "## 四维多立方体"
   ]
  },
  {
   "cell_type": "markdown",
   "metadata": {},
   "source": [
    "相册就是多张图片的叠加，最常见的形式为[batch, channel, width, height]"
   ]
  },
  {
   "cell_type": "markdown",
   "metadata": {},
   "source": [
    "## 五维表示多个四维Tensor的叠加"
   ]
  },
  {
   "cell_type": "markdown",
   "metadata": {},
   "source": [
    "视频按帧数划分，如50fps，如果一个视频的时长为1min，每个单位事件有50张图片，共有60个这样的单位时间， frames=60， 那么其表现形式为[frames, batch, channel, width, height]"
   ]
  },
  {
   "cell_type": "markdown",
   "metadata": {},
   "source": [
    "## Variable(deprecated)"
   ]
  },
  {
   "cell_type": "code",
   "execution_count": 19,
   "metadata": {},
   "outputs": [],
   "source": [
    "from torch.autograd import Variable\n",
    "\n",
    "a = torch.FloatTensor(3, 3)\n",
    "b = Variable(a)  # 接收Tensor类型的参数"
   ]
  },
  {
   "cell_type": "code",
   "execution_count": 20,
   "metadata": {},
   "outputs": [
    {
     "data": {
      "text/plain": [
       "tensor([[6.7333e+22, 1.7591e+22, 1.7184e+25],\n",
       "        [4.3222e+27, 6.1972e-04, 7.2443e+22],\n",
       "        [1.7728e+28, 7.0367e+22, 2.4174e-06]])"
      ]
     },
     "execution_count": 20,
     "metadata": {},
     "output_type": "execute_result"
    }
   ],
   "source": [
    "b.data"
   ]
  },
  {
   "cell_type": "code",
   "execution_count": 21,
   "metadata": {},
   "outputs": [],
   "source": [
    "b.grad"
   ]
  },
  {
   "cell_type": "code",
   "execution_count": 22,
   "metadata": {},
   "outputs": [],
   "source": [
    "b.grad_fn"
   ]
  },
  {
   "cell_type": "code",
   "execution_count": 23,
   "metadata": {},
   "outputs": [
    {
     "data": {
      "text/plain": [
       "torch.Tensor"
      ]
     },
     "execution_count": 23,
     "metadata": {},
     "output_type": "execute_result"
    }
   ],
   "source": [
    "type(b)"
   ]
  },
  {
   "cell_type": "markdown",
   "metadata": {},
   "source": [
    "## 自动微分"
   ]
  },
  {
   "cell_type": "code",
   "execution_count": 24,
   "metadata": {},
   "outputs": [
    {
     "data": {
      "text/plain": [
       "tensor([[ 0.9443,  0.8049, -1.0090],\n",
       "        [-0.2757, -0.2075,  0.7000]])"
      ]
     },
     "execution_count": 24,
     "metadata": {},
     "output_type": "execute_result"
    }
   ],
   "source": [
    "a = torch.randn(2, 3)\n",
    "a"
   ]
  },
  {
   "cell_type": "code",
   "execution_count": 25,
   "metadata": {},
   "outputs": [
    {
     "data": {
      "text/plain": [
       "False"
      ]
     },
     "execution_count": 25,
     "metadata": {},
     "output_type": "execute_result"
    }
   ],
   "source": [
    "a.requires_grad"
   ]
  },
  {
   "cell_type": "code",
   "execution_count": 26,
   "metadata": {},
   "outputs": [
    {
     "data": {
      "text/plain": [
       "tensor([[0.0417, 0.5422, 0.7609],\n",
       "        [0.0218, 0.8042, 0.2251]], requires_grad=True)"
      ]
     },
     "execution_count": 26,
     "metadata": {},
     "output_type": "execute_result"
    }
   ],
   "source": [
    "b = torch.rand((2, 3), requires_grad=True)\n",
    "b"
   ]
  },
  {
   "cell_type": "code",
   "execution_count": 27,
   "metadata": {},
   "outputs": [
    {
     "data": {
      "text/plain": [
       "True"
      ]
     },
     "execution_count": 27,
     "metadata": {},
     "output_type": "execute_result"
    }
   ],
   "source": [
    "b.requires_grad"
   ]
  },
  {
   "cell_type": "code",
   "execution_count": 28,
   "metadata": {},
   "outputs": [
    {
     "data": {
      "text/plain": [
       "False"
      ]
     },
     "execution_count": 28,
     "metadata": {},
     "output_type": "execute_result"
    }
   ],
   "source": [
    "x = torch.randn(2, 3)\n",
    "y = torch.randn(2, 3)\n",
    "w = x + y\n",
    "w.requires_grad"
   ]
  },
  {
   "cell_type": "code",
   "execution_count": 29,
   "metadata": {},
   "outputs": [
    {
     "data": {
      "text/plain": [
       "True"
      ]
     },
     "execution_count": 29,
     "metadata": {},
     "output_type": "execute_result"
    }
   ],
   "source": [
    "z = torch.randn((2, 3), requires_grad=True)\n",
    "e = a + z\n",
    "e.requires_grad"
   ]
  },
  {
   "cell_type": "code",
   "execution_count": 30,
   "metadata": {},
   "outputs": [],
   "source": [
    "import torchvision\n",
    "\n",
    "resnet18_model = torchvision.models.resnet18(pretrained=True)\n",
    "for param in resnet18_model.parameters():\n",
    "    param.requires_grad = False"
   ]
  },
  {
   "cell_type": "code",
   "execution_count": 31,
   "metadata": {},
   "outputs": [],
   "source": [
    "resnet18_model.fc = torch.nn.Linear(512, 2)\n",
    "optimizer = torch.optim.SGD(resnet18_model.fc.parameters(), lr=1e-2)"
   ]
  },
  {
   "cell_type": "markdown",
   "metadata": {},
   "source": [
    "## 塔珀自指公式："
   ]
  },
  {
   "cell_type": "markdown",
   "metadata": {},
   "source": [
    "![image.png](https://wikimedia.org/api/rest_v1/media/math/render/svg/5e4c7a30f3dc20c06057413aed7c89b7e1c67aeb)"
   ]
  },
  {
   "cell_type": "code",
   "execution_count": 32,
   "metadata": {},
   "outputs": [
    {
     "data": {
      "text/plain": [
       "tensor([False])"
      ]
     },
     "execution_count": 32,
     "metadata": {},
     "output_type": "execute_result"
    }
   ],
   "source": [
    "a = torch.DoubleTensor([106])\n",
    "b = torch.DoubleTensor([9876778954322])\n",
    "\n",
    "\n",
    "def tupper(x, y):\n",
    "    assert isinstance(x, torch.DoubleTensor)\n",
    "    assert isinstance(y, torch.DoubleTensor)\n",
    "    return 1/2<torch.floor((torch.floor(y/17)*torch.pow(2, (-17*torch.floor(x)-torch.floor(y)%17)))%2)\n",
    "\n",
    "\n",
    "tupper(a, b)"
   ]
  },
  {
   "cell_type": "code",
   "execution_count": 33,
   "metadata": {},
   "outputs": [
    {
     "data": {
      "text/plain": [
       "tensor([False])"
      ]
     },
     "execution_count": 33,
     "metadata": {},
     "output_type": "execute_result"
    }
   ],
   "source": [
    "def tupper_numpy(x,y):\n",
    "    assert isinstance(x,torch.DoubleTensor)\n",
    "    assert isinstance(y,torch.DoubleTensor)\n",
    "    return 1/2<np.floor((np.floor(y/17)*np.power(2,(-17*np.floor(x)-np.floor(y)%17)))%2)\n",
    "\n",
    "\n",
    "tupper_numpy(a,b)"
   ]
  },
  {
   "cell_type": "markdown",
   "metadata": {},
   "source": [
    "## Salary Prediction"
   ]
  },
  {
   "cell_type": "code",
   "execution_count": 34,
   "metadata": {},
   "outputs": [],
   "source": [
    "import pandas as pd\n",
    "\n",
    "df = pd.read_csv(\"~/Documents/Learn_Pytorch_datasets/chapter1/datas/salarys.csv\",encoding='utf8')"
   ]
  },
  {
   "cell_type": "code",
   "execution_count": 35,
   "metadata": {},
   "outputs": [
    {
     "data": {
      "text/plain": [
       "array(['专业', '学历编码', '专业编码', '高薪专业', '热门专业', '纬度', '经度', '专科', '本科',\n",
       "       '双一流', '211', 'C9', 'Top2', '985', '省份', '省份编码', '城市', '薪酬',\n",
       "       '综合能力'], dtype=object)"
      ]
     },
     "execution_count": 35,
     "metadata": {},
     "output_type": "execute_result"
    }
   ],
   "source": [
    "df.columns.values"
   ]
  },
  {
   "cell_type": "code",
   "execution_count": 36,
   "metadata": {},
   "outputs": [
    {
     "data": {
      "text/html": [
       "<div>\n",
       "<style scoped>\n",
       "    .dataframe tbody tr th:only-of-type {\n",
       "        vertical-align: middle;\n",
       "    }\n",
       "\n",
       "    .dataframe tbody tr th {\n",
       "        vertical-align: top;\n",
       "    }\n",
       "\n",
       "    .dataframe thead th {\n",
       "        text-align: right;\n",
       "    }\n",
       "</style>\n",
       "<table border=\"1\" class=\"dataframe\">\n",
       "  <thead>\n",
       "    <tr style=\"text-align: right;\">\n",
       "      <th></th>\n",
       "      <th>专业</th>\n",
       "      <th>学历编码</th>\n",
       "      <th>专业编码</th>\n",
       "      <th>高薪专业</th>\n",
       "      <th>热门专业</th>\n",
       "      <th>纬度</th>\n",
       "      <th>经度</th>\n",
       "      <th>专科</th>\n",
       "      <th>本科</th>\n",
       "      <th>双一流</th>\n",
       "      <th>211</th>\n",
       "      <th>C9</th>\n",
       "      <th>Top2</th>\n",
       "      <th>985</th>\n",
       "      <th>省份</th>\n",
       "      <th>省份编码</th>\n",
       "      <th>城市</th>\n",
       "      <th>薪酬</th>\n",
       "      <th>综合能力</th>\n",
       "    </tr>\n",
       "  </thead>\n",
       "  <tbody>\n",
       "    <tr>\n",
       "      <th>0</th>\n",
       "      <td>其他</td>\n",
       "      <td>2</td>\n",
       "      <td>1703</td>\n",
       "      <td>0</td>\n",
       "      <td>0</td>\n",
       "      <td>41.0</td>\n",
       "      <td>123</td>\n",
       "      <td>1</td>\n",
       "      <td>0</td>\n",
       "      <td>0</td>\n",
       "      <td>0</td>\n",
       "      <td>0</td>\n",
       "      <td>0</td>\n",
       "      <td>0</td>\n",
       "      <td>辽宁省</td>\n",
       "      <td>24</td>\n",
       "      <td>大连市</td>\n",
       "      <td>5531.999</td>\n",
       "      <td>21.700512</td>\n",
       "    </tr>\n",
       "    <tr>\n",
       "      <th>1</th>\n",
       "      <td>轮机工程</td>\n",
       "      <td>11</td>\n",
       "      <td>517</td>\n",
       "      <td>0</td>\n",
       "      <td>0</td>\n",
       "      <td>31.0</td>\n",
       "      <td>121</td>\n",
       "      <td>0</td>\n",
       "      <td>2</td>\n",
       "      <td>0</td>\n",
       "      <td>0</td>\n",
       "      <td>0</td>\n",
       "      <td>0</td>\n",
       "      <td>0</td>\n",
       "      <td>NaN</td>\n",
       "      <td>33</td>\n",
       "      <td>NaN</td>\n",
       "      <td>20783.795</td>\n",
       "      <td>79.545020</td>\n",
       "    </tr>\n",
       "    <tr>\n",
       "      <th>2</th>\n",
       "      <td>中药学</td>\n",
       "      <td>2</td>\n",
       "      <td>57</td>\n",
       "      <td>0</td>\n",
       "      <td>1</td>\n",
       "      <td>31.0</td>\n",
       "      <td>121</td>\n",
       "      <td>0</td>\n",
       "      <td>2</td>\n",
       "      <td>3</td>\n",
       "      <td>0</td>\n",
       "      <td>0</td>\n",
       "      <td>0</td>\n",
       "      <td>0</td>\n",
       "      <td>北京市</td>\n",
       "      <td>31</td>\n",
       "      <td>北京市</td>\n",
       "      <td>5902.643</td>\n",
       "      <td>25.959380</td>\n",
       "    </tr>\n",
       "    <tr>\n",
       "      <th>3</th>\n",
       "      <td>艺术设计</td>\n",
       "      <td>2</td>\n",
       "      <td>9</td>\n",
       "      <td>0</td>\n",
       "      <td>1</td>\n",
       "      <td>42.0</td>\n",
       "      <td>86</td>\n",
       "      <td>0</td>\n",
       "      <td>0</td>\n",
       "      <td>0</td>\n",
       "      <td>0</td>\n",
       "      <td>0</td>\n",
       "      <td>0</td>\n",
       "      <td>0</td>\n",
       "      <td>四川省</td>\n",
       "      <td>27</td>\n",
       "      <td>成都市</td>\n",
       "      <td>9718.143</td>\n",
       "      <td>61.326324</td>\n",
       "    </tr>\n",
       "    <tr>\n",
       "      <th>4</th>\n",
       "      <td>统计学</td>\n",
       "      <td>2</td>\n",
       "      <td>297</td>\n",
       "      <td>0</td>\n",
       "      <td>1</td>\n",
       "      <td>45.0</td>\n",
       "      <td>126</td>\n",
       "      <td>1</td>\n",
       "      <td>0</td>\n",
       "      <td>0</td>\n",
       "      <td>0</td>\n",
       "      <td>0</td>\n",
       "      <td>0</td>\n",
       "      <td>0</td>\n",
       "      <td>黑龙江省</td>\n",
       "      <td>15</td>\n",
       "      <td>哈尔滨市</td>\n",
       "      <td>11063.998</td>\n",
       "      <td>67.979126</td>\n",
       "    </tr>\n",
       "  </tbody>\n",
       "</table>\n",
       "</div>"
      ],
      "text/plain": [
       "     专业  学历编码  专业编码  高薪专业  热门专业    纬度   经度  专科  本科  双一流  211  C9  Top2  985  \\\n",
       "0    其他     2  1703     0     0  41.0  123   1   0    0    0   0     0    0   \n",
       "1  轮机工程    11   517     0     0  31.0  121   0   2    0    0   0     0    0   \n",
       "2   中药学     2    57     0     1  31.0  121   0   2    3    0   0     0    0   \n",
       "3  艺术设计     2     9     0     1  42.0   86   0   0    0    0   0     0    0   \n",
       "4   统计学     2   297     0     1  45.0  126   1   0    0    0   0     0    0   \n",
       "\n",
       "     省份  省份编码    城市         薪酬       综合能力  \n",
       "0   辽宁省    24   大连市   5531.999  21.700512  \n",
       "1   NaN    33   NaN  20783.795  79.545020  \n",
       "2   北京市    31   北京市   5902.643  25.959380  \n",
       "3   四川省    27   成都市   9718.143  61.326324  \n",
       "4  黑龙江省    15  哈尔滨市  11063.998  67.979126  "
      ]
     },
     "execution_count": 36,
     "metadata": {},
     "output_type": "execute_result"
    }
   ],
   "source": [
    "df.head()"
   ]
  },
  {
   "cell_type": "code",
   "execution_count": 37,
   "metadata": {},
   "outputs": [
    {
     "data": {
      "text/plain": [
       "专业      255516\n",
       "学历编码    255516\n",
       "专业编码    255516\n",
       "高薪专业    255516\n",
       "热门专业    255516\n",
       "纬度      255494\n",
       "经度      255516\n",
       "专科      255516\n",
       "本科      255516\n",
       "双一流     255516\n",
       "211     255516\n",
       "C9      255516\n",
       "Top2    255516\n",
       "985     255516\n",
       "省份      149945\n",
       "省份编码    255516\n",
       "城市      149945\n",
       "薪酬      255516\n",
       "综合能力    255516\n",
       "dtype: int64"
      ]
     },
     "execution_count": 37,
     "metadata": {},
     "output_type": "execute_result"
    }
   ],
   "source": [
    "df.count()"
   ]
  },
  {
   "cell_type": "code",
   "execution_count": 38,
   "metadata": {},
   "outputs": [
    {
     "data": {
      "text/plain": [
       "12"
      ]
     },
     "execution_count": 38,
     "metadata": {},
     "output_type": "execute_result"
    }
   ],
   "source": [
    "len(set(df[\"学历编码\"].values))"
   ]
  },
  {
   "cell_type": "code",
   "execution_count": 39,
   "metadata": {},
   "outputs": [
    {
     "data": {
      "text/plain": [
       "194"
      ]
     },
     "execution_count": 39,
     "metadata": {},
     "output_type": "execute_result"
    }
   ],
   "source": [
    "len(set(df[\"专业编码\"].values))"
   ]
  },
  {
   "cell_type": "code",
   "execution_count": 40,
   "metadata": {},
   "outputs": [
    {
     "data": {
      "text/plain": [
       "55"
      ]
     },
     "execution_count": 40,
     "metadata": {},
     "output_type": "execute_result"
    }
   ],
   "source": [
    "len(set(df[\"纬度\"].values))"
   ]
  },
  {
   "cell_type": "code",
   "execution_count": 41,
   "metadata": {},
   "outputs": [
    {
     "data": {
      "text/plain": [
       "46"
      ]
     },
     "execution_count": 41,
     "metadata": {},
     "output_type": "execute_result"
    }
   ],
   "source": [
    "len(set(df[\"经度\"].values))"
   ]
  },
  {
   "cell_type": "code",
   "execution_count": 42,
   "metadata": {},
   "outputs": [
    {
     "data": {
      "text/plain": [
       "32"
      ]
     },
     "execution_count": 42,
     "metadata": {},
     "output_type": "execute_result"
    }
   ],
   "source": [
    "len(set(df[\"省份编码\"].values))"
   ]
  },
  {
   "cell_type": "code",
   "execution_count": 43,
   "metadata": {},
   "outputs": [
    {
     "data": {
      "text/html": [
       "<div>\n",
       "<style scoped>\n",
       "    .dataframe tbody tr th:only-of-type {\n",
       "        vertical-align: middle;\n",
       "    }\n",
       "\n",
       "    .dataframe tbody tr th {\n",
       "        vertical-align: top;\n",
       "    }\n",
       "\n",
       "    .dataframe thead th {\n",
       "        text-align: right;\n",
       "    }\n",
       "</style>\n",
       "<table border=\"1\" class=\"dataframe\">\n",
       "  <thead>\n",
       "    <tr style=\"text-align: right;\">\n",
       "      <th></th>\n",
       "      <th>0</th>\n",
       "      <th>1</th>\n",
       "      <th>2</th>\n",
       "      <th>3</th>\n",
       "      <th>4</th>\n",
       "      <th>5</th>\n",
       "      <th>6</th>\n",
       "      <th>7</th>\n",
       "      <th>8</th>\n",
       "      <th>9</th>\n",
       "      <th>10</th>\n",
       "      <th>11</th>\n",
       "    </tr>\n",
       "  </thead>\n",
       "  <tbody>\n",
       "    <tr>\n",
       "      <th>1</th>\n",
       "      <td>1</td>\n",
       "      <td>0</td>\n",
       "      <td>0</td>\n",
       "      <td>0</td>\n",
       "      <td>0</td>\n",
       "      <td>0</td>\n",
       "      <td>0</td>\n",
       "      <td>0</td>\n",
       "      <td>0</td>\n",
       "      <td>0</td>\n",
       "      <td>0</td>\n",
       "      <td>0</td>\n",
       "    </tr>\n",
       "    <tr>\n",
       "      <th>2</th>\n",
       "      <td>0</td>\n",
       "      <td>1</td>\n",
       "      <td>0</td>\n",
       "      <td>0</td>\n",
       "      <td>0</td>\n",
       "      <td>0</td>\n",
       "      <td>0</td>\n",
       "      <td>0</td>\n",
       "      <td>0</td>\n",
       "      <td>0</td>\n",
       "      <td>0</td>\n",
       "      <td>0</td>\n",
       "    </tr>\n",
       "    <tr>\n",
       "      <th>3</th>\n",
       "      <td>0</td>\n",
       "      <td>0</td>\n",
       "      <td>1</td>\n",
       "      <td>0</td>\n",
       "      <td>0</td>\n",
       "      <td>0</td>\n",
       "      <td>0</td>\n",
       "      <td>0</td>\n",
       "      <td>0</td>\n",
       "      <td>0</td>\n",
       "      <td>0</td>\n",
       "      <td>0</td>\n",
       "    </tr>\n",
       "    <tr>\n",
       "      <th>4</th>\n",
       "      <td>0</td>\n",
       "      <td>0</td>\n",
       "      <td>0</td>\n",
       "      <td>1</td>\n",
       "      <td>0</td>\n",
       "      <td>0</td>\n",
       "      <td>0</td>\n",
       "      <td>0</td>\n",
       "      <td>0</td>\n",
       "      <td>0</td>\n",
       "      <td>0</td>\n",
       "      <td>0</td>\n",
       "    </tr>\n",
       "    <tr>\n",
       "      <th>5</th>\n",
       "      <td>0</td>\n",
       "      <td>0</td>\n",
       "      <td>0</td>\n",
       "      <td>0</td>\n",
       "      <td>1</td>\n",
       "      <td>0</td>\n",
       "      <td>0</td>\n",
       "      <td>0</td>\n",
       "      <td>0</td>\n",
       "      <td>0</td>\n",
       "      <td>0</td>\n",
       "      <td>0</td>\n",
       "    </tr>\n",
       "    <tr>\n",
       "      <th>6</th>\n",
       "      <td>0</td>\n",
       "      <td>0</td>\n",
       "      <td>0</td>\n",
       "      <td>0</td>\n",
       "      <td>0</td>\n",
       "      <td>1</td>\n",
       "      <td>0</td>\n",
       "      <td>0</td>\n",
       "      <td>0</td>\n",
       "      <td>0</td>\n",
       "      <td>0</td>\n",
       "      <td>0</td>\n",
       "    </tr>\n",
       "    <tr>\n",
       "      <th>7</th>\n",
       "      <td>0</td>\n",
       "      <td>0</td>\n",
       "      <td>0</td>\n",
       "      <td>0</td>\n",
       "      <td>0</td>\n",
       "      <td>0</td>\n",
       "      <td>1</td>\n",
       "      <td>0</td>\n",
       "      <td>0</td>\n",
       "      <td>0</td>\n",
       "      <td>0</td>\n",
       "      <td>0</td>\n",
       "    </tr>\n",
       "    <tr>\n",
       "      <th>8</th>\n",
       "      <td>0</td>\n",
       "      <td>0</td>\n",
       "      <td>0</td>\n",
       "      <td>0</td>\n",
       "      <td>0</td>\n",
       "      <td>0</td>\n",
       "      <td>0</td>\n",
       "      <td>1</td>\n",
       "      <td>0</td>\n",
       "      <td>0</td>\n",
       "      <td>0</td>\n",
       "      <td>0</td>\n",
       "    </tr>\n",
       "    <tr>\n",
       "      <th>9</th>\n",
       "      <td>0</td>\n",
       "      <td>0</td>\n",
       "      <td>0</td>\n",
       "      <td>0</td>\n",
       "      <td>0</td>\n",
       "      <td>0</td>\n",
       "      <td>0</td>\n",
       "      <td>0</td>\n",
       "      <td>1</td>\n",
       "      <td>0</td>\n",
       "      <td>0</td>\n",
       "      <td>0</td>\n",
       "    </tr>\n",
       "    <tr>\n",
       "      <th>10</th>\n",
       "      <td>0</td>\n",
       "      <td>0</td>\n",
       "      <td>0</td>\n",
       "      <td>0</td>\n",
       "      <td>0</td>\n",
       "      <td>0</td>\n",
       "      <td>0</td>\n",
       "      <td>0</td>\n",
       "      <td>0</td>\n",
       "      <td>1</td>\n",
       "      <td>0</td>\n",
       "      <td>0</td>\n",
       "    </tr>\n",
       "    <tr>\n",
       "      <th>11</th>\n",
       "      <td>0</td>\n",
       "      <td>0</td>\n",
       "      <td>0</td>\n",
       "      <td>0</td>\n",
       "      <td>0</td>\n",
       "      <td>0</td>\n",
       "      <td>0</td>\n",
       "      <td>0</td>\n",
       "      <td>0</td>\n",
       "      <td>0</td>\n",
       "      <td>1</td>\n",
       "      <td>0</td>\n",
       "    </tr>\n",
       "    <tr>\n",
       "      <th>12</th>\n",
       "      <td>0</td>\n",
       "      <td>0</td>\n",
       "      <td>0</td>\n",
       "      <td>0</td>\n",
       "      <td>0</td>\n",
       "      <td>0</td>\n",
       "      <td>0</td>\n",
       "      <td>0</td>\n",
       "      <td>0</td>\n",
       "      <td>0</td>\n",
       "      <td>0</td>\n",
       "      <td>1</td>\n",
       "    </tr>\n",
       "  </tbody>\n",
       "</table>\n",
       "</div>"
      ],
      "text/plain": [
       "    0   1   2   3   4   5   6   7   8   9   10  11\n",
       "1    1   0   0   0   0   0   0   0   0   0   0   0\n",
       "2    0   1   0   0   0   0   0   0   0   0   0   0\n",
       "3    0   0   1   0   0   0   0   0   0   0   0   0\n",
       "4    0   0   0   1   0   0   0   0   0   0   0   0\n",
       "5    0   0   0   0   1   0   0   0   0   0   0   0\n",
       "6    0   0   0   0   0   1   0   0   0   0   0   0\n",
       "7    0   0   0   0   0   0   1   0   0   0   0   0\n",
       "8    0   0   0   0   0   0   0   1   0   0   0   0\n",
       "9    0   0   0   0   0   0   0   0   1   0   0   0\n",
       "10   0   0   0   0   0   0   0   0   0   1   0   0\n",
       "11   0   0   0   0   0   0   0   0   0   0   1   0\n",
       "12   0   0   0   0   0   0   0   0   0   0   0   1"
      ]
     },
     "execution_count": 43,
     "metadata": {},
     "output_type": "execute_result"
    }
   ],
   "source": [
    "series = pd.Series(list(set(df[\"学历编码\"].values)))\n",
    "pd.get_dummies(series).T"
   ]
  },
  {
   "cell_type": "code",
   "execution_count": 44,
   "metadata": {},
   "outputs": [],
   "source": [
    "del df['专业']\n",
    "del df['省份']\n",
    "del df['城市']\n",
    "\n",
    "df_xl = pd.get_dummies(df[\"学历编码\"])\n",
    "df_zy = pd.get_dummies(df[\"专业编码\"])\n",
    "df_wd = pd.get_dummies(df['纬度'])\n",
    "df_jd = pd.get_dummies(df['经度'])\n",
    "df_sf = pd.get_dummies(df[\"省份编码\"])\n",
    "\n",
    "df = pd.concat([df, df_xl, df_zy, df_wd, df_jd, df_sf], axis=1)\n",
    "\n",
    "del df['学历编码']\n",
    "del df['专业编码']\n",
    "del df['纬度']\n",
    "del df['经度']\n",
    "del df['省份编码']"
   ]
  },
  {
   "cell_type": "code",
   "execution_count": 45,
   "metadata": {},
   "outputs": [
    {
     "data": {
      "text/html": [
       "<div>\n",
       "<style scoped>\n",
       "    .dataframe tbody tr th:only-of-type {\n",
       "        vertical-align: middle;\n",
       "    }\n",
       "\n",
       "    .dataframe tbody tr th {\n",
       "        vertical-align: top;\n",
       "    }\n",
       "\n",
       "    .dataframe thead th {\n",
       "        text-align: right;\n",
       "    }\n",
       "</style>\n",
       "<table border=\"1\" class=\"dataframe\">\n",
       "  <thead>\n",
       "    <tr style=\"text-align: right;\">\n",
       "      <th></th>\n",
       "      <th>高薪专业</th>\n",
       "      <th>热门专业</th>\n",
       "      <th>专科</th>\n",
       "      <th>本科</th>\n",
       "      <th>双一流</th>\n",
       "      <th>211</th>\n",
       "      <th>C9</th>\n",
       "      <th>Top2</th>\n",
       "      <th>985</th>\n",
       "      <th>薪酬</th>\n",
       "      <th>...</th>\n",
       "      <th>23</th>\n",
       "      <th>24</th>\n",
       "      <th>25</th>\n",
       "      <th>26</th>\n",
       "      <th>27</th>\n",
       "      <th>28</th>\n",
       "      <th>29</th>\n",
       "      <th>30</th>\n",
       "      <th>31</th>\n",
       "      <th>33</th>\n",
       "    </tr>\n",
       "  </thead>\n",
       "  <tbody>\n",
       "    <tr>\n",
       "      <th>0</th>\n",
       "      <td>0</td>\n",
       "      <td>0</td>\n",
       "      <td>1</td>\n",
       "      <td>0</td>\n",
       "      <td>0</td>\n",
       "      <td>0</td>\n",
       "      <td>0</td>\n",
       "      <td>0</td>\n",
       "      <td>0</td>\n",
       "      <td>5531.999</td>\n",
       "      <td>...</td>\n",
       "      <td>0</td>\n",
       "      <td>1</td>\n",
       "      <td>0</td>\n",
       "      <td>0</td>\n",
       "      <td>0</td>\n",
       "      <td>0</td>\n",
       "      <td>0</td>\n",
       "      <td>0</td>\n",
       "      <td>0</td>\n",
       "      <td>0</td>\n",
       "    </tr>\n",
       "    <tr>\n",
       "      <th>1</th>\n",
       "      <td>0</td>\n",
       "      <td>0</td>\n",
       "      <td>0</td>\n",
       "      <td>2</td>\n",
       "      <td>0</td>\n",
       "      <td>0</td>\n",
       "      <td>0</td>\n",
       "      <td>0</td>\n",
       "      <td>0</td>\n",
       "      <td>20783.795</td>\n",
       "      <td>...</td>\n",
       "      <td>0</td>\n",
       "      <td>0</td>\n",
       "      <td>0</td>\n",
       "      <td>0</td>\n",
       "      <td>0</td>\n",
       "      <td>0</td>\n",
       "      <td>0</td>\n",
       "      <td>0</td>\n",
       "      <td>0</td>\n",
       "      <td>1</td>\n",
       "    </tr>\n",
       "    <tr>\n",
       "      <th>2</th>\n",
       "      <td>0</td>\n",
       "      <td>1</td>\n",
       "      <td>0</td>\n",
       "      <td>2</td>\n",
       "      <td>3</td>\n",
       "      <td>0</td>\n",
       "      <td>0</td>\n",
       "      <td>0</td>\n",
       "      <td>0</td>\n",
       "      <td>5902.643</td>\n",
       "      <td>...</td>\n",
       "      <td>0</td>\n",
       "      <td>0</td>\n",
       "      <td>0</td>\n",
       "      <td>0</td>\n",
       "      <td>0</td>\n",
       "      <td>0</td>\n",
       "      <td>0</td>\n",
       "      <td>0</td>\n",
       "      <td>1</td>\n",
       "      <td>0</td>\n",
       "    </tr>\n",
       "    <tr>\n",
       "      <th>3</th>\n",
       "      <td>0</td>\n",
       "      <td>1</td>\n",
       "      <td>0</td>\n",
       "      <td>0</td>\n",
       "      <td>0</td>\n",
       "      <td>0</td>\n",
       "      <td>0</td>\n",
       "      <td>0</td>\n",
       "      <td>0</td>\n",
       "      <td>9718.143</td>\n",
       "      <td>...</td>\n",
       "      <td>0</td>\n",
       "      <td>0</td>\n",
       "      <td>0</td>\n",
       "      <td>0</td>\n",
       "      <td>1</td>\n",
       "      <td>0</td>\n",
       "      <td>0</td>\n",
       "      <td>0</td>\n",
       "      <td>0</td>\n",
       "      <td>0</td>\n",
       "    </tr>\n",
       "    <tr>\n",
       "      <th>4</th>\n",
       "      <td>0</td>\n",
       "      <td>1</td>\n",
       "      <td>1</td>\n",
       "      <td>0</td>\n",
       "      <td>0</td>\n",
       "      <td>0</td>\n",
       "      <td>0</td>\n",
       "      <td>0</td>\n",
       "      <td>0</td>\n",
       "      <td>11063.998</td>\n",
       "      <td>...</td>\n",
       "      <td>0</td>\n",
       "      <td>0</td>\n",
       "      <td>0</td>\n",
       "      <td>0</td>\n",
       "      <td>0</td>\n",
       "      <td>0</td>\n",
       "      <td>0</td>\n",
       "      <td>0</td>\n",
       "      <td>0</td>\n",
       "      <td>0</td>\n",
       "    </tr>\n",
       "  </tbody>\n",
       "</table>\n",
       "<p>5 rows × 328 columns</p>\n",
       "</div>"
      ],
      "text/plain": [
       "   高薪专业  热门专业  专科  本科  双一流  211  C9  Top2  985         薪酬  ...  23  24  25  \\\n",
       "0     0     0   1   0    0    0   0     0    0   5531.999  ...   0   1   0   \n",
       "1     0     0   0   2    0    0   0     0    0  20783.795  ...   0   0   0   \n",
       "2     0     1   0   2    3    0   0     0    0   5902.643  ...   0   0   0   \n",
       "3     0     1   0   0    0    0   0     0    0   9718.143  ...   0   0   0   \n",
       "4     0     1   1   0    0    0   0     0    0  11063.998  ...   0   0   0   \n",
       "\n",
       "   26  27  28  29  30  31  33  \n",
       "0   0   0   0   0   0   0   0  \n",
       "1   0   0   0   0   0   0   1  \n",
       "2   0   0   0   0   0   1   0  \n",
       "3   0   1   0   0   0   0   0  \n",
       "4   0   0   0   0   0   0   0  \n",
       "\n",
       "[5 rows x 328 columns]"
      ]
     },
     "execution_count": 45,
     "metadata": {},
     "output_type": "execute_result"
    }
   ],
   "source": [
    "df.head()"
   ]
  },
  {
   "cell_type": "code",
   "execution_count": 46,
   "metadata": {},
   "outputs": [
    {
     "data": {
      "text/html": [
       "<div>\n",
       "<style scoped>\n",
       "    .dataframe tbody tr th:only-of-type {\n",
       "        vertical-align: middle;\n",
       "    }\n",
       "\n",
       "    .dataframe tbody tr th {\n",
       "        vertical-align: top;\n",
       "    }\n",
       "\n",
       "    .dataframe thead th {\n",
       "        text-align: right;\n",
       "    }\n",
       "</style>\n",
       "<table border=\"1\" class=\"dataframe\">\n",
       "  <thead>\n",
       "    <tr style=\"text-align: right;\">\n",
       "      <th></th>\n",
       "      <th>高薪专业</th>\n",
       "      <th>热门专业</th>\n",
       "      <th>专科</th>\n",
       "      <th>本科</th>\n",
       "      <th>双一流</th>\n",
       "      <th>211</th>\n",
       "      <th>C9</th>\n",
       "      <th>Top2</th>\n",
       "      <th>985</th>\n",
       "      <th>薪酬</th>\n",
       "      <th>...</th>\n",
       "      <th>23</th>\n",
       "      <th>24</th>\n",
       "      <th>25</th>\n",
       "      <th>26</th>\n",
       "      <th>27</th>\n",
       "      <th>28</th>\n",
       "      <th>29</th>\n",
       "      <th>30</th>\n",
       "      <th>31</th>\n",
       "      <th>33</th>\n",
       "    </tr>\n",
       "  </thead>\n",
       "  <tbody>\n",
       "    <tr>\n",
       "      <th>count</th>\n",
       "      <td>255516.000000</td>\n",
       "      <td>255516.000000</td>\n",
       "      <td>255516.000000</td>\n",
       "      <td>255516.000000</td>\n",
       "      <td>255516.000000</td>\n",
       "      <td>255516.000000</td>\n",
       "      <td>255516.000000</td>\n",
       "      <td>255516.00000</td>\n",
       "      <td>255516.000000</td>\n",
       "      <td>255516.000000</td>\n",
       "      <td>...</td>\n",
       "      <td>255516.000000</td>\n",
       "      <td>255516.000000</td>\n",
       "      <td>255516.000000</td>\n",
       "      <td>255516.000000</td>\n",
       "      <td>255516.000000</td>\n",
       "      <td>255516.000000</td>\n",
       "      <td>255516.000000</td>\n",
       "      <td>255516.000000</td>\n",
       "      <td>255516.000000</td>\n",
       "      <td>255516.000000</td>\n",
       "    </tr>\n",
       "    <tr>\n",
       "      <th>mean</th>\n",
       "      <td>0.208633</td>\n",
       "      <td>0.843759</td>\n",
       "      <td>0.234263</td>\n",
       "      <td>1.162049</td>\n",
       "      <td>0.334077</td>\n",
       "      <td>0.298666</td>\n",
       "      <td>0.037822</td>\n",
       "      <td>0.01270</td>\n",
       "      <td>0.124407</td>\n",
       "      <td>7643.924622</td>\n",
       "      <td>...</td>\n",
       "      <td>0.017173</td>\n",
       "      <td>0.015408</td>\n",
       "      <td>0.016837</td>\n",
       "      <td>0.029008</td>\n",
       "      <td>0.022304</td>\n",
       "      <td>0.029673</td>\n",
       "      <td>0.049496</td>\n",
       "      <td>0.106068</td>\n",
       "      <td>0.201753</td>\n",
       "      <td>0.413168</td>\n",
       "    </tr>\n",
       "    <tr>\n",
       "      <th>std</th>\n",
       "      <td>0.406332</td>\n",
       "      <td>0.363084</td>\n",
       "      <td>0.423538</td>\n",
       "      <td>0.986785</td>\n",
       "      <td>0.943730</td>\n",
       "      <td>0.898221</td>\n",
       "      <td>0.387113</td>\n",
       "      <td>0.25167</td>\n",
       "      <td>0.598118</td>\n",
       "      <td>3799.981461</td>\n",
       "      <td>...</td>\n",
       "      <td>0.129916</td>\n",
       "      <td>0.123169</td>\n",
       "      <td>0.128659</td>\n",
       "      <td>0.167829</td>\n",
       "      <td>0.147670</td>\n",
       "      <td>0.169685</td>\n",
       "      <td>0.216901</td>\n",
       "      <td>0.307925</td>\n",
       "      <td>0.401309</td>\n",
       "      <td>0.492403</td>\n",
       "    </tr>\n",
       "    <tr>\n",
       "      <th>min</th>\n",
       "      <td>0.000000</td>\n",
       "      <td>0.000000</td>\n",
       "      <td>0.000000</td>\n",
       "      <td>0.000000</td>\n",
       "      <td>0.000000</td>\n",
       "      <td>0.000000</td>\n",
       "      <td>0.000000</td>\n",
       "      <td>0.00000</td>\n",
       "      <td>0.000000</td>\n",
       "      <td>2347.400000</td>\n",
       "      <td>...</td>\n",
       "      <td>0.000000</td>\n",
       "      <td>0.000000</td>\n",
       "      <td>0.000000</td>\n",
       "      <td>0.000000</td>\n",
       "      <td>0.000000</td>\n",
       "      <td>0.000000</td>\n",
       "      <td>0.000000</td>\n",
       "      <td>0.000000</td>\n",
       "      <td>0.000000</td>\n",
       "      <td>0.000000</td>\n",
       "    </tr>\n",
       "    <tr>\n",
       "      <th>25%</th>\n",
       "      <td>0.000000</td>\n",
       "      <td>1.000000</td>\n",
       "      <td>0.000000</td>\n",
       "      <td>0.000000</td>\n",
       "      <td>0.000000</td>\n",
       "      <td>0.000000</td>\n",
       "      <td>0.000000</td>\n",
       "      <td>0.00000</td>\n",
       "      <td>0.000000</td>\n",
       "      <td>5184.629000</td>\n",
       "      <td>...</td>\n",
       "      <td>0.000000</td>\n",
       "      <td>0.000000</td>\n",
       "      <td>0.000000</td>\n",
       "      <td>0.000000</td>\n",
       "      <td>0.000000</td>\n",
       "      <td>0.000000</td>\n",
       "      <td>0.000000</td>\n",
       "      <td>0.000000</td>\n",
       "      <td>0.000000</td>\n",
       "      <td>0.000000</td>\n",
       "    </tr>\n",
       "    <tr>\n",
       "      <th>50%</th>\n",
       "      <td>0.000000</td>\n",
       "      <td>1.000000</td>\n",
       "      <td>0.000000</td>\n",
       "      <td>2.000000</td>\n",
       "      <td>0.000000</td>\n",
       "      <td>0.000000</td>\n",
       "      <td>0.000000</td>\n",
       "      <td>0.00000</td>\n",
       "      <td>0.000000</td>\n",
       "      <td>6402.000000</td>\n",
       "      <td>...</td>\n",
       "      <td>0.000000</td>\n",
       "      <td>0.000000</td>\n",
       "      <td>0.000000</td>\n",
       "      <td>0.000000</td>\n",
       "      <td>0.000000</td>\n",
       "      <td>0.000000</td>\n",
       "      <td>0.000000</td>\n",
       "      <td>0.000000</td>\n",
       "      <td>0.000000</td>\n",
       "      <td>0.000000</td>\n",
       "    </tr>\n",
       "    <tr>\n",
       "      <th>75%</th>\n",
       "      <td>0.000000</td>\n",
       "      <td>1.000000</td>\n",
       "      <td>0.000000</td>\n",
       "      <td>2.000000</td>\n",
       "      <td>0.000000</td>\n",
       "      <td>0.000000</td>\n",
       "      <td>0.000000</td>\n",
       "      <td>0.00000</td>\n",
       "      <td>0.000000</td>\n",
       "      <td>8536.000000</td>\n",
       "      <td>...</td>\n",
       "      <td>0.000000</td>\n",
       "      <td>0.000000</td>\n",
       "      <td>0.000000</td>\n",
       "      <td>0.000000</td>\n",
       "      <td>0.000000</td>\n",
       "      <td>0.000000</td>\n",
       "      <td>0.000000</td>\n",
       "      <td>0.000000</td>\n",
       "      <td>0.000000</td>\n",
       "      <td>1.000000</td>\n",
       "    </tr>\n",
       "    <tr>\n",
       "      <th>max</th>\n",
       "      <td>1.000000</td>\n",
       "      <td>1.000000</td>\n",
       "      <td>1.000000</td>\n",
       "      <td>2.000000</td>\n",
       "      <td>3.000000</td>\n",
       "      <td>3.000000</td>\n",
       "      <td>4.000000</td>\n",
       "      <td>5.00000</td>\n",
       "      <td>3.000000</td>\n",
       "      <td>28690.324000</td>\n",
       "      <td>...</td>\n",
       "      <td>1.000000</td>\n",
       "      <td>1.000000</td>\n",
       "      <td>1.000000</td>\n",
       "      <td>1.000000</td>\n",
       "      <td>1.000000</td>\n",
       "      <td>1.000000</td>\n",
       "      <td>1.000000</td>\n",
       "      <td>1.000000</td>\n",
       "      <td>1.000000</td>\n",
       "      <td>1.000000</td>\n",
       "    </tr>\n",
       "  </tbody>\n",
       "</table>\n",
       "<p>8 rows × 328 columns</p>\n",
       "</div>"
      ],
      "text/plain": [
       "                高薪专业           热门专业             专科             本科  \\\n",
       "count  255516.000000  255516.000000  255516.000000  255516.000000   \n",
       "mean        0.208633       0.843759       0.234263       1.162049   \n",
       "std         0.406332       0.363084       0.423538       0.986785   \n",
       "min         0.000000       0.000000       0.000000       0.000000   \n",
       "25%         0.000000       1.000000       0.000000       0.000000   \n",
       "50%         0.000000       1.000000       0.000000       2.000000   \n",
       "75%         0.000000       1.000000       0.000000       2.000000   \n",
       "max         1.000000       1.000000       1.000000       2.000000   \n",
       "\n",
       "                 双一流            211             C9          Top2  \\\n",
       "count  255516.000000  255516.000000  255516.000000  255516.00000   \n",
       "mean        0.334077       0.298666       0.037822       0.01270   \n",
       "std         0.943730       0.898221       0.387113       0.25167   \n",
       "min         0.000000       0.000000       0.000000       0.00000   \n",
       "25%         0.000000       0.000000       0.000000       0.00000   \n",
       "50%         0.000000       0.000000       0.000000       0.00000   \n",
       "75%         0.000000       0.000000       0.000000       0.00000   \n",
       "max         3.000000       3.000000       4.000000       5.00000   \n",
       "\n",
       "                 985             薪酬  ...             23             24  \\\n",
       "count  255516.000000  255516.000000  ...  255516.000000  255516.000000   \n",
       "mean        0.124407    7643.924622  ...       0.017173       0.015408   \n",
       "std         0.598118    3799.981461  ...       0.129916       0.123169   \n",
       "min         0.000000    2347.400000  ...       0.000000       0.000000   \n",
       "25%         0.000000    5184.629000  ...       0.000000       0.000000   \n",
       "50%         0.000000    6402.000000  ...       0.000000       0.000000   \n",
       "75%         0.000000    8536.000000  ...       0.000000       0.000000   \n",
       "max         3.000000   28690.324000  ...       1.000000       1.000000   \n",
       "\n",
       "                  25             26             27             28  \\\n",
       "count  255516.000000  255516.000000  255516.000000  255516.000000   \n",
       "mean        0.016837       0.029008       0.022304       0.029673   \n",
       "std         0.128659       0.167829       0.147670       0.169685   \n",
       "min         0.000000       0.000000       0.000000       0.000000   \n",
       "25%         0.000000       0.000000       0.000000       0.000000   \n",
       "50%         0.000000       0.000000       0.000000       0.000000   \n",
       "75%         0.000000       0.000000       0.000000       0.000000   \n",
       "max         1.000000       1.000000       1.000000       1.000000   \n",
       "\n",
       "                  29             30             31             33  \n",
       "count  255516.000000  255516.000000  255516.000000  255516.000000  \n",
       "mean        0.049496       0.106068       0.201753       0.413168  \n",
       "std         0.216901       0.307925       0.401309       0.492403  \n",
       "min         0.000000       0.000000       0.000000       0.000000  \n",
       "25%         0.000000       0.000000       0.000000       0.000000  \n",
       "50%         0.000000       0.000000       0.000000       0.000000  \n",
       "75%         0.000000       0.000000       0.000000       1.000000  \n",
       "max         1.000000       1.000000       1.000000       1.000000  \n",
       "\n",
       "[8 rows x 328 columns]"
      ]
     },
     "execution_count": 46,
     "metadata": {},
     "output_type": "execute_result"
    }
   ],
   "source": [
    "df.describe()"
   ]
  },
  {
   "cell_type": "code",
   "execution_count": 47,
   "metadata": {},
   "outputs": [],
   "source": [
    "def z_score(series):\n",
    "    _mean = series.sum() / series.count()\n",
    "    print(_mean)\n",
    "    std = (((series - _mean) ** 2).sum() / (series.count() - 1)) ** 0.5\n",
    "    print(std)\n",
    "    new_series = (series - _mean) / std\n",
    "    return new_series"
   ]
  },
  {
   "cell_type": "code",
   "execution_count": 48,
   "metadata": {},
   "outputs": [],
   "source": [
    "dd = df['综合能力']"
   ]
  },
  {
   "cell_type": "code",
   "execution_count": 49,
   "metadata": {},
   "outputs": [
    {
     "name": "stdout",
     "output_type": "stream",
     "text": [
      "37.07904970227501\n",
      "21.75875929994074\n"
     ]
    }
   ],
   "source": [
    "new_series = z_score(dd)"
   ]
  },
  {
   "cell_type": "code",
   "execution_count": 50,
   "metadata": {},
   "outputs": [
    {
     "name": "stdout",
     "output_type": "stream",
     "text": [
      "-9.763441605432583e-17\n",
      "0.9999999999999999\n"
     ]
    }
   ],
   "source": [
    "df['综合能力'] = new_series\n",
    "\n",
    "print(df['综合能力'].mean())\n",
    "print(df['综合能力'].std())"
   ]
  },
  {
   "cell_type": "code",
   "execution_count": 51,
   "metadata": {},
   "outputs": [],
   "source": [
    "df.to_csv(\"salary_handled.csv\",encoding='utf8',index=None)"
   ]
  },
  {
   "cell_type": "markdown",
   "metadata": {},
   "source": [
    "## 使用Pytorch构建神经网络"
   ]
  },
  {
   "cell_type": "code",
   "execution_count": 52,
   "metadata": {},
   "outputs": [
    {
     "data": {
      "text/plain": [
       "Sequential(\n",
       "  (0): Linear(in_features=10, out_features=20, bias=True)\n",
       "  (1): ReLU()\n",
       "  (2): Linear(in_features=20, out_features=2, bias=True)\n",
       ")"
      ]
     },
     "execution_count": 52,
     "metadata": {},
     "output_type": "execute_result"
    }
   ],
   "source": [
    "import torch.nn as nn\n",
    "\n",
    "model = nn.Sequential(\n",
    "    nn.Linear(10, 20), \n",
    "    nn.ReLU(), \n",
    "    nn.Linear(20, 2))\n",
    "model"
   ]
  },
  {
   "cell_type": "code",
   "execution_count": 53,
   "metadata": {},
   "outputs": [],
   "source": [
    "class SimpleLayerNet(nn.Module):\n",
    "    \n",
    "    def __init__(self, D_in, H, D_out):\n",
    "        super(SimpleLayerNet, self).__init__()\n",
    "        self.linear1 = nn.Linear(D_in, H)\n",
    "        self.relu = nn.ReLU()\n",
    "        self.linear2 = nn.Linear(H, D_out)\n",
    "        \n",
    "    def forward(self, x):\n",
    "        h_relu = self.relu(self.linear1(x).clamp(min=0))\n",
    "        y_pred = self.linear2(h_relu)\n",
    "        return y_pred"
   ]
  },
  {
   "cell_type": "code",
   "execution_count": 54,
   "metadata": {},
   "outputs": [
    {
     "data": {
      "text/plain": [
       "SimpleLayerNet(\n",
       "  (linear1): Linear(in_features=10, out_features=20, bias=True)\n",
       "  (relu): ReLU()\n",
       "  (linear2): Linear(in_features=20, out_features=2, bias=True)\n",
       ")"
      ]
     },
     "execution_count": 54,
     "metadata": {},
     "output_type": "execute_result"
    }
   ],
   "source": [
    "model = SimpleLayerNet(10, 20, 2)\n",
    "model"
   ]
  },
  {
   "cell_type": "markdown",
   "metadata": {},
   "source": [
    "### 训练集和测试集的划分"
   ]
  },
  {
   "cell_type": "code",
   "execution_count": 55,
   "metadata": {},
   "outputs": [],
   "source": [
    "df = pd.read_csv(\"salary_handled.csv\", encoding='utf8')"
   ]
  },
  {
   "cell_type": "code",
   "execution_count": 56,
   "metadata": {},
   "outputs": [
    {
     "data": {
      "text/html": [
       "<div>\n",
       "<style scoped>\n",
       "    .dataframe tbody tr th:only-of-type {\n",
       "        vertical-align: middle;\n",
       "    }\n",
       "\n",
       "    .dataframe tbody tr th {\n",
       "        vertical-align: top;\n",
       "    }\n",
       "\n",
       "    .dataframe thead th {\n",
       "        text-align: right;\n",
       "    }\n",
       "</style>\n",
       "<table border=\"1\" class=\"dataframe\">\n",
       "  <thead>\n",
       "    <tr style=\"text-align: right;\">\n",
       "      <th></th>\n",
       "      <th>高薪专业</th>\n",
       "      <th>热门专业</th>\n",
       "      <th>专科</th>\n",
       "      <th>本科</th>\n",
       "      <th>双一流</th>\n",
       "      <th>211</th>\n",
       "      <th>C9</th>\n",
       "      <th>Top2</th>\n",
       "      <th>985</th>\n",
       "      <th>薪酬</th>\n",
       "      <th>...</th>\n",
       "      <th>23</th>\n",
       "      <th>24</th>\n",
       "      <th>25</th>\n",
       "      <th>26.1</th>\n",
       "      <th>27</th>\n",
       "      <th>28.1</th>\n",
       "      <th>29</th>\n",
       "      <th>30</th>\n",
       "      <th>31</th>\n",
       "      <th>33</th>\n",
       "    </tr>\n",
       "  </thead>\n",
       "  <tbody>\n",
       "    <tr>\n",
       "      <th>0</th>\n",
       "      <td>0</td>\n",
       "      <td>0</td>\n",
       "      <td>1</td>\n",
       "      <td>0</td>\n",
       "      <td>0</td>\n",
       "      <td>0</td>\n",
       "      <td>0</td>\n",
       "      <td>0</td>\n",
       "      <td>0</td>\n",
       "      <td>5531.999</td>\n",
       "      <td>...</td>\n",
       "      <td>0</td>\n",
       "      <td>1</td>\n",
       "      <td>0</td>\n",
       "      <td>0</td>\n",
       "      <td>0</td>\n",
       "      <td>0</td>\n",
       "      <td>0</td>\n",
       "      <td>0</td>\n",
       "      <td>0</td>\n",
       "      <td>0</td>\n",
       "    </tr>\n",
       "    <tr>\n",
       "      <th>1</th>\n",
       "      <td>0</td>\n",
       "      <td>0</td>\n",
       "      <td>0</td>\n",
       "      <td>2</td>\n",
       "      <td>0</td>\n",
       "      <td>0</td>\n",
       "      <td>0</td>\n",
       "      <td>0</td>\n",
       "      <td>0</td>\n",
       "      <td>20783.795</td>\n",
       "      <td>...</td>\n",
       "      <td>0</td>\n",
       "      <td>0</td>\n",
       "      <td>0</td>\n",
       "      <td>0</td>\n",
       "      <td>0</td>\n",
       "      <td>0</td>\n",
       "      <td>0</td>\n",
       "      <td>0</td>\n",
       "      <td>0</td>\n",
       "      <td>1</td>\n",
       "    </tr>\n",
       "    <tr>\n",
       "      <th>2</th>\n",
       "      <td>0</td>\n",
       "      <td>1</td>\n",
       "      <td>0</td>\n",
       "      <td>2</td>\n",
       "      <td>3</td>\n",
       "      <td>0</td>\n",
       "      <td>0</td>\n",
       "      <td>0</td>\n",
       "      <td>0</td>\n",
       "      <td>5902.643</td>\n",
       "      <td>...</td>\n",
       "      <td>0</td>\n",
       "      <td>0</td>\n",
       "      <td>0</td>\n",
       "      <td>0</td>\n",
       "      <td>0</td>\n",
       "      <td>0</td>\n",
       "      <td>0</td>\n",
       "      <td>0</td>\n",
       "      <td>1</td>\n",
       "      <td>0</td>\n",
       "    </tr>\n",
       "    <tr>\n",
       "      <th>3</th>\n",
       "      <td>0</td>\n",
       "      <td>1</td>\n",
       "      <td>0</td>\n",
       "      <td>0</td>\n",
       "      <td>0</td>\n",
       "      <td>0</td>\n",
       "      <td>0</td>\n",
       "      <td>0</td>\n",
       "      <td>0</td>\n",
       "      <td>9718.143</td>\n",
       "      <td>...</td>\n",
       "      <td>0</td>\n",
       "      <td>0</td>\n",
       "      <td>0</td>\n",
       "      <td>0</td>\n",
       "      <td>1</td>\n",
       "      <td>0</td>\n",
       "      <td>0</td>\n",
       "      <td>0</td>\n",
       "      <td>0</td>\n",
       "      <td>0</td>\n",
       "    </tr>\n",
       "    <tr>\n",
       "      <th>4</th>\n",
       "      <td>0</td>\n",
       "      <td>1</td>\n",
       "      <td>1</td>\n",
       "      <td>0</td>\n",
       "      <td>0</td>\n",
       "      <td>0</td>\n",
       "      <td>0</td>\n",
       "      <td>0</td>\n",
       "      <td>0</td>\n",
       "      <td>11063.998</td>\n",
       "      <td>...</td>\n",
       "      <td>0</td>\n",
       "      <td>0</td>\n",
       "      <td>0</td>\n",
       "      <td>0</td>\n",
       "      <td>0</td>\n",
       "      <td>0</td>\n",
       "      <td>0</td>\n",
       "      <td>0</td>\n",
       "      <td>0</td>\n",
       "      <td>0</td>\n",
       "    </tr>\n",
       "  </tbody>\n",
       "</table>\n",
       "<p>5 rows × 328 columns</p>\n",
       "</div>"
      ],
      "text/plain": [
       "   高薪专业  热门专业  专科  本科  双一流  211  C9  Top2  985         薪酬  ...  23  24  25  \\\n",
       "0     0     0   1   0    0    0   0     0    0   5531.999  ...   0   1   0   \n",
       "1     0     0   0   2    0    0   0     0    0  20783.795  ...   0   0   0   \n",
       "2     0     1   0   2    3    0   0     0    0   5902.643  ...   0   0   0   \n",
       "3     0     1   0   0    0    0   0     0    0   9718.143  ...   0   0   0   \n",
       "4     0     1   1   0    0    0   0     0    0  11063.998  ...   0   0   0   \n",
       "\n",
       "   26.1  27  28.1  29  30  31  33  \n",
       "0     0   0     0   0   0   0   0  \n",
       "1     0   0     0   0   0   0   1  \n",
       "2     0   0     0   0   0   1   0  \n",
       "3     0   1     0   0   0   0   0  \n",
       "4     0   0     0   0   0   0   0  \n",
       "\n",
       "[5 rows x 328 columns]"
      ]
     },
     "execution_count": 56,
     "metadata": {},
     "output_type": "execute_result"
    }
   ],
   "source": [
    "df.head()"
   ]
  },
  {
   "cell_type": "code",
   "execution_count": 57,
   "metadata": {},
   "outputs": [],
   "source": [
    "target = df[\"薪酬\"]\n",
    "del df[\"薪酬\"]"
   ]
  },
  {
   "cell_type": "code",
   "execution_count": 58,
   "metadata": {},
   "outputs": [
    {
     "data": {
      "text/plain": [
       "255516"
      ]
     },
     "execution_count": 58,
     "metadata": {},
     "output_type": "execute_result"
    }
   ],
   "source": [
    "size = target.count()\n",
    "size"
   ]
  },
  {
   "cell_type": "code",
   "execution_count": 59,
   "metadata": {},
   "outputs": [
    {
     "data": {
      "text/plain": [
       "255516"
      ]
     },
     "execution_count": 59,
     "metadata": {},
     "output_type": "execute_result"
    }
   ],
   "source": [
    "np.random.seed(1314)\n",
    "index = np.random.permutation(np.arange(size))\n",
    "index.size"
   ]
  },
  {
   "cell_type": "code",
   "execution_count": 60,
   "metadata": {},
   "outputs": [],
   "source": [
    "train_X = df.iloc[index[:200000]]\n",
    "test_X = df.iloc[index[200000:]]\n",
    "train_Y = target.iloc[index[:200000]]\n",
    "test_Y = target.iloc[index[200000:]]"
   ]
  },
  {
   "cell_type": "code",
   "execution_count": 61,
   "metadata": {},
   "outputs": [],
   "source": [
    "class SalaryNet(nn.Module):\n",
    "    \n",
    "    def __init__(self, in_size, h1_size, h2_size, out_size):\n",
    "        super(SalaryNet, self).__init__()\n",
    "        self.h1 = nn.Linear(in_size, h1_size)\n",
    "        self.relu = nn.ReLU()\n",
    "        self.h2 = nn.Linear(h1_size, h2_size)\n",
    "        self.out = nn.Linear(h2_size, out_size)\n",
    "        \n",
    "    def forward(self, x):\n",
    "        h1_relu = self.relu(self.h1(x))\n",
    "        h2_relu = self.relu(self.h2(h1_relu))\n",
    "        predict = self.out(h2_relu)\n",
    "        return predict"
   ]
  },
  {
   "cell_type": "code",
   "execution_count": 62,
   "metadata": {},
   "outputs": [
    {
     "data": {
      "text/plain": [
       "SalaryNet(\n",
       "  (h1): Linear(in_features=327, out_features=100, bias=True)\n",
       "  (relu): ReLU()\n",
       "  (h2): Linear(in_features=100, out_features=20, bias=True)\n",
       "  (out): Linear(in_features=20, out_features=1, bias=True)\n",
       ")"
      ]
     },
     "execution_count": 62,
     "metadata": {},
     "output_type": "execute_result"
    }
   ],
   "source": [
    "salarymodel = SalaryNet(327, 100, 20, 1)\n",
    "salarymodel"
   ]
  },
  {
   "cell_type": "code",
   "execution_count": 63,
   "metadata": {},
   "outputs": [],
   "source": [
    "criterion = nn.MSELoss()"
   ]
  },
  {
   "cell_type": "code",
   "execution_count": 64,
   "metadata": {},
   "outputs": [],
   "source": [
    "optimizer = torch.optim.Adam(salarymodel.parameters(), 0.001)"
   ]
  },
  {
   "cell_type": "code",
   "execution_count": 65,
   "metadata": {},
   "outputs": [
    {
     "data": {
      "text/plain": [
       "array([[1., 1., 0., ..., 0., 0., 1.],\n",
       "       [0., 0., 1., ..., 0., 1., 0.],\n",
       "       [0., 1., 0., ..., 0., 1., 0.],\n",
       "       ...,\n",
       "       [0., 1., 1., ..., 0., 0., 1.],\n",
       "       [0., 1., 0., ..., 1., 0., 0.],\n",
       "       [0., 1., 0., ..., 0., 0., 1.]])"
      ]
     },
     "execution_count": 65,
     "metadata": {},
     "output_type": "execute_result"
    }
   ],
   "source": [
    "train_X.values"
   ]
  },
  {
   "cell_type": "code",
   "execution_count": 66,
   "metadata": {},
   "outputs": [
    {
     "data": {
      "text/plain": [
       "array([[1., 1., 0., ..., 0., 0., 1.],\n",
       "       [0., 0., 1., ..., 0., 1., 0.],\n",
       "       [0., 1., 0., ..., 0., 1., 0.],\n",
       "       ...,\n",
       "       [0., 1., 0., ..., 1., 0., 0.],\n",
       "       [0., 1., 1., ..., 0., 0., 1.],\n",
       "       [0., 0., 1., ..., 0., 1., 0.]])"
      ]
     },
     "execution_count": 66,
     "metadata": {},
     "output_type": "execute_result"
    }
   ],
   "source": [
    "train_X.iloc[:10].values"
   ]
  },
  {
   "cell_type": "code",
   "execution_count": 67,
   "metadata": {},
   "outputs": [
    {
     "data": {
      "text/plain": [
       "array([[1., 1., 0., ..., 0., 0., 1.],\n",
       "       [0., 0., 1., ..., 0., 1., 0.],\n",
       "       [0., 1., 0., ..., 0., 1., 0.],\n",
       "       ...,\n",
       "       [0., 1., 0., ..., 1., 0., 0.],\n",
       "       [0., 1., 1., ..., 0., 0., 1.],\n",
       "       [0., 0., 1., ..., 0., 1., 0.]])"
      ]
     },
     "execution_count": 67,
     "metadata": {},
     "output_type": "execute_result"
    }
   ],
   "source": [
    "train_X[:10].values"
   ]
  },
  {
   "cell_type": "code",
   "execution_count": 68,
   "metadata": {},
   "outputs": [
    {
     "data": {
      "text/plain": [
       "numpy.ndarray"
      ]
     },
     "execution_count": 68,
     "metadata": {},
     "output_type": "execute_result"
    }
   ],
   "source": [
    "type(train_X.values)"
   ]
  },
  {
   "cell_type": "code",
   "execution_count": 69,
   "metadata": {
    "scrolled": true
   },
   "outputs": [
    {
     "name": "stdout",
     "output_type": "stream",
     "text": [
      "epoch: 0, Train Loss: 372.254974, Mean: 0.04, Min: -0.35, Max: 0.28, Median: 0.05, Dealed/Records: 512/200000\n",
      "epoch: 0, Train Loss: 384.652319, Mean: 0.10, Min: -0.28, Max: 0.35, Median: 0.09, Dealed/Records: 1024/200000\n",
      "epoch: 0, Train Loss: 384.903904, Mean: 0.15, Min: -0.16, Max: 0.41, Median: 0.15, Dealed/Records: 1536/200000\n",
      "epoch: 0, Train Loss: 378.786508, Mean: 0.20, Min: -0.03, Max: 0.43, Median: 0.20, Dealed/Records: 2048/200000\n",
      "epoch: 0, Train Loss: 398.621139, Mean: 0.25, Min: 0.03, Max: 0.48, Median: 0.25, Dealed/Records: 2560/200000\n",
      "epoch: 0, Train Loss: 383.352909, Mean: 0.30, Min: 0.04, Max: 0.55, Median: 0.30, Dealed/Records: 3072/200000\n",
      "epoch: 0, Train Loss: 375.297632, Mean: 0.35, Min: 0.09, Max: 0.61, Median: 0.35, Dealed/Records: 3584/200000\n",
      "epoch: 0, Train Loss: 373.090513, Mean: 0.41, Min: 0.10, Max: 0.75, Median: 0.41, Dealed/Records: 4096/200000\n",
      "epoch: 0, Train Loss: 373.636814, Mean: 0.45, Min: 0.16, Max: 0.78, Median: 0.45, Dealed/Records: 4608/200000\n",
      "epoch: 0, Train Loss: 364.617715, Mean: 0.49, Min: 0.25, Max: 0.81, Median: 0.49, Dealed/Records: 5120/200000\n",
      "epoch: 0, Train Loss: 374.669313, Mean: 0.53, Min: 0.24, Max: 0.99, Median: 0.52, Dealed/Records: 5632/200000\n",
      "epoch: 0, Train Loss: 376.139934, Mean: 0.58, Min: 0.31, Max: 1.11, Median: 0.58, Dealed/Records: 6144/200000\n",
      "epoch: 0, Train Loss: 393.314005, Mean: 0.64, Min: 0.35, Max: 1.28, Median: 0.63, Dealed/Records: 6656/200000\n",
      "epoch: 0, Train Loss: 376.012467, Mean: 0.69, Min: 0.37, Max: 1.40, Median: 0.67, Dealed/Records: 7168/200000\n",
      "epoch: 0, Train Loss: 393.481297, Mean: 0.74, Min: 0.40, Max: 1.36, Median: 0.72, Dealed/Records: 7680/200000\n",
      "epoch: 0, Train Loss: 371.013666, Mean: 0.78, Min: 0.42, Max: 1.62, Median: 0.76, Dealed/Records: 8192/200000\n",
      "epoch: 0, Train Loss: 378.993259, Mean: 0.84, Min: 0.48, Max: 1.66, Median: 0.83, Dealed/Records: 8704/200000\n",
      "epoch: 0, Train Loss: 378.390754, Mean: 0.91, Min: 0.55, Max: 1.81, Median: 0.89, Dealed/Records: 9216/200000\n",
      "epoch: 0, Train Loss: 374.243195, Mean: 0.97, Min: 0.60, Max: 2.00, Median: 0.94, Dealed/Records: 9728/200000\n",
      "epoch: 0, Train Loss: 368.578795, Mean: 1.04, Min: 0.66, Max: 2.02, Median: 1.00, Dealed/Records: 10240/200000\n",
      "epoch: 0, Train Loss: 376.734406, Mean: 1.10, Min: 0.60, Max: 2.20, Median: 1.07, Dealed/Records: 10752/200000\n",
      "epoch: 0, Train Loss: 364.563759, Mean: 1.15, Min: 0.59, Max: 2.32, Median: 1.10, Dealed/Records: 11264/200000\n",
      "epoch: 0, Train Loss: 372.136547, Mean: 1.25, Min: 0.73, Max: 2.59, Median: 1.19, Dealed/Records: 11776/200000\n",
      "epoch: 0, Train Loss: 361.211892, Mean: 1.35, Min: 0.76, Max: 2.72, Median: 1.30, Dealed/Records: 12288/200000\n",
      "epoch: 0, Train Loss: 383.172326, Mean: 1.41, Min: 0.63, Max: 2.89, Median: 1.37, Dealed/Records: 12800/200000\n",
      "epoch: 0, Train Loss: 340.038716, Mean: 1.50, Min: 0.87, Max: 3.20, Median: 1.44, Dealed/Records: 13312/200000\n",
      "epoch: 0, Train Loss: 381.495454, Mean: 1.66, Min: 0.90, Max: 3.35, Median: 1.56, Dealed/Records: 13824/200000\n",
      "epoch: 0, Train Loss: 398.766066, Mean: 1.77, Min: 1.08, Max: 3.96, Median: 1.69, Dealed/Records: 14336/200000\n",
      "epoch: 0, Train Loss: 376.265033, Mean: 1.86, Min: 1.09, Max: 3.86, Median: 1.74, Dealed/Records: 14848/200000\n",
      "epoch: 0, Train Loss: 377.608056, Mean: 2.00, Min: 1.11, Max: 4.36, Median: 1.90, Dealed/Records: 15360/200000\n",
      "epoch: 0, Train Loss: 370.818605, Mean: 2.09, Min: 1.27, Max: 4.50, Median: 1.97, Dealed/Records: 15872/200000\n",
      "epoch: 0, Train Loss: 359.326779, Mean: 2.19, Min: 1.26, Max: 4.44, Median: 2.06, Dealed/Records: 16384/200000\n",
      "epoch: 0, Train Loss: 373.961729, Mean: 2.36, Min: 1.47, Max: 4.94, Median: 2.25, Dealed/Records: 16896/200000\n",
      "epoch: 0, Train Loss: 391.169121, Mean: 2.53, Min: 1.27, Max: 5.47, Median: 2.36, Dealed/Records: 17408/200000\n",
      "epoch: 0, Train Loss: 362.956781, Mean: 2.68, Min: 1.63, Max: 6.15, Median: 2.53, Dealed/Records: 17920/200000\n",
      "epoch: 0, Train Loss: 369.478031, Mean: 2.82, Min: 1.35, Max: 6.22, Median: 2.68, Dealed/Records: 18432/200000\n",
      "epoch: 0, Train Loss: 371.984165, Mean: 2.96, Min: 1.63, Max: 6.73, Median: 2.79, Dealed/Records: 18944/200000\n",
      "epoch: 0, Train Loss: 362.718641, Mean: 3.13, Min: 1.86, Max: 6.47, Median: 2.99, Dealed/Records: 19456/200000\n",
      "epoch: 0, Train Loss: 367.035974, Mean: 3.38, Min: 1.75, Max: 7.72, Median: 3.12, Dealed/Records: 19968/200000\n",
      "epoch: 0, Train Loss: 364.723568, Mean: 3.56, Min: 2.04, Max: 7.40, Median: 3.37, Dealed/Records: 20480/200000\n",
      "epoch: 0, Train Loss: 391.741963, Mean: 3.81, Min: 2.14, Max: 8.49, Median: 3.56, Dealed/Records: 20992/200000\n",
      "epoch: 0, Train Loss: 395.364251, Mean: 4.07, Min: 2.06, Max: 8.94, Median: 3.80, Dealed/Records: 21504/200000\n",
      "epoch: 0, Train Loss: 370.828275, Mean: 4.15, Min: 2.03, Max: 9.39, Median: 3.93, Dealed/Records: 22016/200000\n",
      "epoch: 0, Train Loss: 387.420819, Mean: 4.49, Min: 2.47, Max: 10.48, Median: 4.16, Dealed/Records: 22528/200000\n",
      "epoch: 0, Train Loss: 351.436161, Mean: 4.64, Min: 2.31, Max: 10.17, Median: 4.34, Dealed/Records: 23040/200000\n",
      "epoch: 0, Train Loss: 368.572945, Mean: 4.86, Min: 2.67, Max: 11.18, Median: 4.60, Dealed/Records: 23552/200000\n",
      "epoch: 0, Train Loss: 369.191452, Mean: 5.13, Min: 2.93, Max: 11.65, Median: 4.86, Dealed/Records: 24064/200000\n",
      "epoch: 0, Train Loss: 380.240467, Mean: 5.54, Min: 3.01, Max: 12.42, Median: 5.12, Dealed/Records: 24576/200000\n",
      "epoch: 0, Train Loss: 359.559540, Mean: 5.73, Min: 2.76, Max: 14.06, Median: 5.40, Dealed/Records: 25088/200000\n",
      "epoch: 0, Train Loss: 402.640503, Mean: 6.12, Min: 3.34, Max: 14.01, Median: 5.68, Dealed/Records: 25600/200000\n",
      "epoch: 0, Train Loss: 388.748774, Mean: 6.38, Min: 3.38, Max: 15.00, Median: 6.00, Dealed/Records: 26112/200000\n",
      "epoch: 0, Train Loss: 389.005182, Mean: 6.72, Min: 3.37, Max: 15.69, Median: 6.19, Dealed/Records: 26624/200000\n",
      "epoch: 0, Train Loss: 375.842699, Mean: 6.98, Min: 3.90, Max: 16.41, Median: 6.49, Dealed/Records: 27136/200000\n",
      "epoch: 0, Train Loss: 374.903779, Mean: 7.35, Min: 3.54, Max: 15.95, Median: 6.88, Dealed/Records: 27648/200000\n",
      "epoch: 0, Train Loss: 392.589381, Mean: 7.88, Min: 4.30, Max: 18.22, Median: 7.23, Dealed/Records: 28160/200000\n",
      "epoch: 0, Train Loss: 380.230769, Mean: 8.12, Min: 4.06, Max: 19.71, Median: 7.63, Dealed/Records: 28672/200000\n",
      "epoch: 0, Train Loss: 365.771509, Mean: 8.40, Min: 4.76, Max: 19.81, Median: 7.87, Dealed/Records: 29184/200000\n",
      "epoch: 0, Train Loss: 380.569618, Mean: 8.97, Min: 4.11, Max: 21.28, Median: 8.42, Dealed/Records: 29696/200000\n",
      "epoch: 0, Train Loss: 383.839932, Mean: 9.34, Min: 4.96, Max: 22.89, Median: 8.64, Dealed/Records: 30208/200000\n",
      "epoch: 0, Train Loss: 372.598645, Mean: 9.66, Min: 4.74, Max: 23.83, Median: 9.06, Dealed/Records: 30720/200000\n",
      "epoch: 0, Train Loss: 368.905709, Mean: 10.29, Min: 4.96, Max: 25.01, Median: 9.46, Dealed/Records: 31232/200000\n",
      "epoch: 0, Train Loss: 368.768813, Mean: 10.66, Min: 5.56, Max: 27.93, Median: 9.85, Dealed/Records: 31744/200000\n",
      "epoch: 0, Train Loss: 372.826220, Mean: 11.18, Min: 6.24, Max: 27.94, Median: 10.38, Dealed/Records: 32256/200000\n",
      "epoch: 0, Train Loss: 385.509768, Mean: 11.87, Min: 6.36, Max: 29.07, Median: 10.83, Dealed/Records: 32768/200000\n",
      "epoch: 0, Train Loss: 379.157207, Mean: 12.27, Min: 6.96, Max: 30.39, Median: 11.32, Dealed/Records: 33280/200000\n",
      "epoch: 0, Train Loss: 373.864552, Mean: 12.69, Min: 6.05, Max: 31.27, Median: 11.80, Dealed/Records: 33792/200000\n",
      "epoch: 0, Train Loss: 359.537681, Mean: 13.49, Min: 7.00, Max: 30.90, Median: 12.65, Dealed/Records: 34304/200000\n",
      "epoch: 0, Train Loss: 355.060745, Mean: 13.82, Min: 5.82, Max: 36.98, Median: 12.88, Dealed/Records: 34816/200000\n",
      "epoch: 0, Train Loss: 390.644040, Mean: 14.66, Min: 7.56, Max: 37.20, Median: 13.57, Dealed/Records: 35328/200000\n",
      "epoch: 0, Train Loss: 369.812410, Mean: 15.09, Min: 7.09, Max: 39.11, Median: 14.00, Dealed/Records: 35840/200000\n",
      "epoch: 0, Train Loss: 376.515542, Mean: 15.93, Min: 8.16, Max: 41.84, Median: 14.51, Dealed/Records: 36352/200000\n",
      "epoch: 0, Train Loss: 362.851898, Mean: 16.34, Min: 8.46, Max: 37.39, Median: 15.61, Dealed/Records: 36864/200000\n",
      "epoch: 0, Train Loss: 383.261558, Mean: 17.70, Min: 7.87, Max: 42.61, Median: 16.18, Dealed/Records: 37376/200000\n",
      "epoch: 0, Train Loss: 376.707384, Mean: 18.40, Min: 9.42, Max: 47.18, Median: 16.78, Dealed/Records: 37888/200000\n",
      "epoch: 0, Train Loss: 383.367093, Mean: 18.67, Min: 9.40, Max: 49.14, Median: 17.20, Dealed/Records: 38400/200000\n",
      "epoch: 0, Train Loss: 376.886629, Mean: 19.69, Min: 8.69, Max: 49.51, Median: 18.12, Dealed/Records: 38912/200000\n",
      "epoch: 0, Train Loss: 401.557553, Mean: 20.74, Min: 10.50, Max: 52.49, Median: 19.22, Dealed/Records: 39424/200000\n",
      "epoch: 0, Train Loss: 374.474006, Mean: 20.94, Min: 12.33, Max: 53.38, Median: 19.35, Dealed/Records: 39936/200000\n",
      "epoch: 0, Train Loss: 364.373563, Mean: 21.36, Min: 11.66, Max: 52.57, Median: 19.79, Dealed/Records: 40448/200000\n",
      "epoch: 0, Train Loss: 368.815778, Mean: 22.28, Min: 12.22, Max: 53.62, Median: 20.95, Dealed/Records: 40960/200000\n",
      "epoch: 0, Train Loss: 387.566244, Mean: 24.02, Min: 12.62, Max: 62.31, Median: 21.62, Dealed/Records: 41472/200000\n",
      "epoch: 0, Train Loss: 387.090832, Mean: 24.81, Min: 12.61, Max: 65.81, Median: 22.61, Dealed/Records: 41984/200000\n",
      "epoch: 0, Train Loss: 380.826527, Mean: 24.94, Min: 12.92, Max: 63.12, Median: 23.08, Dealed/Records: 42496/200000\n",
      "epoch: 0, Train Loss: 370.676620, Mean: 27.49, Min: 13.98, Max: 71.54, Median: 24.96, Dealed/Records: 43008/200000\n",
      "epoch: 0, Train Loss: 376.121594, Mean: 26.31, Min: 14.96, Max: 66.85, Median: 25.14, Dealed/Records: 43520/200000\n",
      "epoch: 0, Train Loss: 364.762059, Mean: 28.36, Min: 13.59, Max: 74.81, Median: 26.21, Dealed/Records: 44032/200000\n",
      "epoch: 0, Train Loss: 374.365672, Mean: 29.88, Min: 14.57, Max: 75.67, Median: 27.29, Dealed/Records: 44544/200000\n",
      "epoch: 0, Train Loss: 385.676698, Mean: 31.07, Min: 17.05, Max: 83.82, Median: 28.50, Dealed/Records: 45056/200000\n",
      "epoch: 0, Train Loss: 383.655180, Mean: 32.14, Min: 17.49, Max: 89.94, Median: 29.92, Dealed/Records: 45568/200000\n",
      "epoch: 0, Train Loss: 392.079333, Mean: 32.72, Min: 15.79, Max: 84.64, Median: 30.52, Dealed/Records: 46080/200000\n",
      "epoch: 0, Train Loss: 399.414630, Mean: 34.03, Min: 15.76, Max: 91.50, Median: 31.30, Dealed/Records: 46592/200000\n",
      "epoch: 0, Train Loss: 360.541856, Mean: 34.52, Min: 16.08, Max: 91.18, Median: 32.46, Dealed/Records: 47104/200000\n",
      "epoch: 0, Train Loss: 362.633553, Mean: 35.63, Min: 20.06, Max: 104.83, Median: 32.79, Dealed/Records: 47616/200000\n",
      "epoch: 0, Train Loss: 387.375726, Mean: 37.93, Min: 19.61, Max: 98.46, Median: 35.06, Dealed/Records: 48128/200000\n"
     ]
    },
    {
     "name": "stdout",
     "output_type": "stream",
     "text": [
      "epoch: 0, Train Loss: 355.881761, Mean: 37.92, Min: 20.62, Max: 103.99, Median: 35.50, Dealed/Records: 48640/200000\n",
      "epoch: 0, Train Loss: 392.366020, Mean: 40.43, Min: 20.61, Max: 109.65, Median: 37.34, Dealed/Records: 49152/200000\n",
      "epoch: 0, Train Loss: 385.308764, Mean: 42.43, Min: 21.10, Max: 105.55, Median: 39.36, Dealed/Records: 49664/200000\n",
      "epoch: 0, Train Loss: 390.397033, Mean: 42.76, Min: 23.49, Max: 121.07, Median: 39.37, Dealed/Records: 50176/200000\n",
      "epoch: 0, Train Loss: 371.261174, Mean: 44.37, Min: 23.99, Max: 117.31, Median: 40.84, Dealed/Records: 50688/200000\n",
      "epoch: 0, Train Loss: 381.674374, Mean: 46.37, Min: 23.13, Max: 125.59, Median: 42.86, Dealed/Records: 51200/200000\n",
      "epoch: 0, Train Loss: 360.029480, Mean: 46.73, Min: 25.25, Max: 127.00, Median: 43.57, Dealed/Records: 51712/200000\n",
      "epoch: 0, Train Loss: 380.178248, Mean: 49.87, Min: 22.07, Max: 138.76, Median: 45.40, Dealed/Records: 52224/200000\n",
      "epoch: 0, Train Loss: 369.186987, Mean: 51.31, Min: 25.91, Max: 144.62, Median: 46.85, Dealed/Records: 52736/200000\n",
      "epoch: 0, Train Loss: 373.095874, Mean: 52.77, Min: 26.67, Max: 145.75, Median: 47.99, Dealed/Records: 53248/200000\n",
      "epoch: 0, Train Loss: 376.997265, Mean: 54.61, Min: 27.88, Max: 149.59, Median: 50.74, Dealed/Records: 53760/200000\n",
      "epoch: 0, Train Loss: 370.177111, Mean: 56.40, Min: 29.93, Max: 154.48, Median: 52.32, Dealed/Records: 54272/200000\n",
      "epoch: 0, Train Loss: 371.898361, Mean: 57.92, Min: 29.88, Max: 129.07, Median: 53.65, Dealed/Records: 54784/200000\n",
      "epoch: 0, Train Loss: 378.394759, Mean: 59.10, Min: 31.09, Max: 160.51, Median: 54.67, Dealed/Records: 55296/200000\n",
      "epoch: 0, Train Loss: 379.487051, Mean: 62.43, Min: 33.29, Max: 171.57, Median: 56.83, Dealed/Records: 55808/200000\n",
      "epoch: 0, Train Loss: 371.403693, Mean: 64.38, Min: 31.26, Max: 173.33, Median: 57.77, Dealed/Records: 56320/200000\n",
      "epoch: 0, Train Loss: 371.151334, Mean: 64.56, Min: 35.54, Max: 183.58, Median: 59.17, Dealed/Records: 56832/200000\n",
      "epoch: 0, Train Loss: 377.097799, Mean: 68.91, Min: 35.57, Max: 167.64, Median: 62.10, Dealed/Records: 57344/200000\n",
      "epoch: 0, Train Loss: 374.903112, Mean: 69.91, Min: 36.68, Max: 188.99, Median: 64.16, Dealed/Records: 57856/200000\n",
      "epoch: 0, Train Loss: 389.088157, Mean: 71.91, Min: 33.15, Max: 198.99, Median: 66.37, Dealed/Records: 58368/200000\n",
      "epoch: 0, Train Loss: 377.434845, Mean: 74.18, Min: 40.66, Max: 187.96, Median: 68.44, Dealed/Records: 58880/200000\n",
      "epoch: 0, Train Loss: 373.632967, Mean: 76.83, Min: 40.86, Max: 213.20, Median: 69.85, Dealed/Records: 59392/200000\n",
      "epoch: 0, Train Loss: 360.918252, Mean: 77.93, Min: 37.68, Max: 219.40, Median: 70.63, Dealed/Records: 59904/200000\n",
      "epoch: 0, Train Loss: 376.154598, Mean: 80.76, Min: 40.34, Max: 227.52, Median: 73.46, Dealed/Records: 60416/200000\n",
      "epoch: 0, Train Loss: 378.626671, Mean: 82.36, Min: 43.51, Max: 229.49, Median: 76.33, Dealed/Records: 60928/200000\n",
      "epoch: 0, Train Loss: 360.199207, Mean: 83.62, Min: 45.98, Max: 229.87, Median: 77.16, Dealed/Records: 61440/200000\n",
      "epoch: 0, Train Loss: 370.129179, Mean: 84.79, Min: 40.47, Max: 232.21, Median: 77.98, Dealed/Records: 61952/200000\n",
      "epoch: 0, Train Loss: 363.069746, Mean: 89.03, Min: 44.98, Max: 258.93, Median: 82.73, Dealed/Records: 62464/200000\n",
      "epoch: 0, Train Loss: 382.607583, Mean: 93.26, Min: 49.66, Max: 237.69, Median: 85.74, Dealed/Records: 62976/200000\n",
      "epoch: 0, Train Loss: 377.791154, Mean: 93.64, Min: 50.45, Max: 248.18, Median: 87.14, Dealed/Records: 63488/200000\n",
      "epoch: 0, Train Loss: 355.275212, Mean: 96.78, Min: 50.30, Max: 288.33, Median: 88.21, Dealed/Records: 64000/200000\n",
      "epoch: 0, Train Loss: 370.138635, Mean: 98.48, Min: 51.04, Max: 296.33, Median: 90.61, Dealed/Records: 64512/200000\n",
      "epoch: 0, Train Loss: 365.093973, Mean: 105.39, Min: 53.34, Max: 300.98, Median: 94.37, Dealed/Records: 65024/200000\n",
      "epoch: 0, Train Loss: 367.110572, Mean: 104.81, Min: 49.27, Max: 300.48, Median: 95.36, Dealed/Records: 65536/200000\n",
      "epoch: 0, Train Loss: 376.198003, Mean: 110.05, Min: 58.05, Max: 309.66, Median: 97.98, Dealed/Records: 66048/200000\n",
      "epoch: 0, Train Loss: 376.360200, Mean: 109.05, Min: 53.11, Max: 306.04, Median: 101.66, Dealed/Records: 66560/200000\n",
      "epoch: 0, Train Loss: 378.518122, Mean: 111.69, Min: 54.85, Max: 288.74, Median: 104.62, Dealed/Records: 67072/200000\n",
      "epoch: 0, Train Loss: 367.681035, Mean: 116.03, Min: 60.34, Max: 304.88, Median: 106.46, Dealed/Records: 67584/200000\n",
      "epoch: 0, Train Loss: 360.301653, Mean: 120.53, Min: 61.68, Max: 348.44, Median: 110.56, Dealed/Records: 68096/200000\n",
      "epoch: 0, Train Loss: 378.816228, Mean: 122.02, Min: 59.59, Max: 351.82, Median: 111.13, Dealed/Records: 68608/200000\n",
      "epoch: 0, Train Loss: 378.202823, Mean: 125.54, Min: 64.73, Max: 369.17, Median: 114.12, Dealed/Records: 69120/200000\n",
      "epoch: 0, Train Loss: 390.599999, Mean: 130.83, Min: 67.75, Max: 352.53, Median: 118.52, Dealed/Records: 69632/200000\n",
      "epoch: 0, Train Loss: 384.466310, Mean: 132.63, Min: 69.94, Max: 335.47, Median: 119.38, Dealed/Records: 70144/200000\n",
      "epoch: 0, Train Loss: 376.439757, Mean: 135.01, Min: 70.34, Max: 351.47, Median: 122.84, Dealed/Records: 70656/200000\n",
      "epoch: 0, Train Loss: 350.977096, Mean: 138.08, Min: 78.14, Max: 384.37, Median: 127.91, Dealed/Records: 71168/200000\n",
      "epoch: 0, Train Loss: 388.363896, Mean: 141.79, Min: 76.40, Max: 368.62, Median: 129.45, Dealed/Records: 71680/200000\n",
      "epoch: 0, Train Loss: 373.024777, Mean: 144.65, Min: 67.88, Max: 418.83, Median: 133.39, Dealed/Records: 72192/200000\n",
      "epoch: 0, Train Loss: 366.729848, Mean: 145.52, Min: 78.32, Max: 425.63, Median: 134.30, Dealed/Records: 72704/200000\n",
      "epoch: 0, Train Loss: 370.000718, Mean: 151.09, Min: 78.81, Max: 424.89, Median: 137.41, Dealed/Records: 73216/200000\n",
      "epoch: 0, Train Loss: 372.645735, Mean: 155.30, Min: 74.65, Max: 439.48, Median: 145.04, Dealed/Records: 73728/200000\n",
      "epoch: 0, Train Loss: 381.131805, Mean: 161.76, Min: 79.86, Max: 385.93, Median: 145.93, Dealed/Records: 74240/200000\n",
      "epoch: 0, Train Loss: 335.251398, Mean: 157.62, Min: 78.84, Max: 465.77, Median: 145.02, Dealed/Records: 74752/200000\n",
      "epoch: 0, Train Loss: 378.546129, Mean: 167.84, Min: 88.05, Max: 412.14, Median: 155.50, Dealed/Records: 75264/200000\n",
      "epoch: 0, Train Loss: 377.168874, Mean: 171.67, Min: 88.59, Max: 425.14, Median: 158.92, Dealed/Records: 75776/200000\n",
      "epoch: 0, Train Loss: 359.685279, Mean: 176.20, Min: 90.78, Max: 435.70, Median: 159.01, Dealed/Records: 76288/200000\n",
      "epoch: 0, Train Loss: 382.313006, Mean: 180.54, Min: 94.38, Max: 513.44, Median: 167.19, Dealed/Records: 76800/200000\n",
      "epoch: 0, Train Loss: 363.816274, Mean: 178.05, Min: 93.89, Max: 472.05, Median: 164.33, Dealed/Records: 77312/200000\n",
      "epoch: 0, Train Loss: 378.299154, Mean: 185.34, Min: 101.71, Max: 509.36, Median: 171.87, Dealed/Records: 77824/200000\n",
      "epoch: 0, Train Loss: 373.203007, Mean: 186.66, Min: 96.37, Max: 474.62, Median: 172.33, Dealed/Records: 78336/200000\n",
      "epoch: 0, Train Loss: 360.949713, Mean: 195.43, Min: 102.90, Max: 556.82, Median: 178.58, Dealed/Records: 78848/200000\n",
      "epoch: 0, Train Loss: 373.913885, Mean: 194.46, Min: 100.72, Max: 522.87, Median: 179.07, Dealed/Records: 79360/200000\n",
      "epoch: 0, Train Loss: 379.482707, Mean: 206.69, Min: 111.22, Max: 571.85, Median: 190.43, Dealed/Records: 79872/200000\n",
      "epoch: 0, Train Loss: 377.527545, Mean: 202.44, Min: 109.70, Max: 466.33, Median: 186.55, Dealed/Records: 80384/200000\n",
      "epoch: 0, Train Loss: 366.046765, Mean: 209.10, Min: 111.24, Max: 607.69, Median: 191.74, Dealed/Records: 80896/200000\n",
      "epoch: 0, Train Loss: 376.201139, Mean: 222.07, Min: 116.54, Max: 533.20, Median: 202.62, Dealed/Records: 81408/200000\n",
      "epoch: 0, Train Loss: 374.752272, Mean: 225.55, Min: 118.86, Max: 661.07, Median: 204.53, Dealed/Records: 81920/200000\n",
      "epoch: 0, Train Loss: 362.312926, Mean: 222.76, Min: 109.62, Max: 627.85, Median: 207.11, Dealed/Records: 82432/200000\n",
      "epoch: 0, Train Loss: 352.927423, Mean: 231.98, Min: 99.16, Max: 593.02, Median: 210.49, Dealed/Records: 82944/200000\n",
      "epoch: 0, Train Loss: 356.834827, Mean: 233.13, Min: 123.61, Max: 655.61, Median: 214.78, Dealed/Records: 83456/200000\n",
      "epoch: 0, Train Loss: 362.257117, Mean: 238.56, Min: 129.57, Max: 665.85, Median: 220.80, Dealed/Records: 83968/200000\n",
      "epoch: 0, Train Loss: 389.277737, Mean: 248.22, Min: 132.85, Max: 679.55, Median: 227.29, Dealed/Records: 84480/200000\n",
      "epoch: 0, Train Loss: 371.272327, Mean: 248.67, Min: 130.48, Max: 716.69, Median: 226.75, Dealed/Records: 84992/200000\n",
      "epoch: 0, Train Loss: 366.590541, Mean: 256.45, Min: 127.46, Max: 704.09, Median: 235.27, Dealed/Records: 85504/200000\n",
      "epoch: 0, Train Loss: 362.411412, Mean: 262.46, Min: 142.54, Max: 709.98, Median: 241.36, Dealed/Records: 86016/200000\n",
      "epoch: 0, Train Loss: 375.297757, Mean: 271.69, Min: 141.65, Max: 742.70, Median: 240.54, Dealed/Records: 86528/200000\n",
      "epoch: 0, Train Loss: 366.581676, Mean: 269.52, Min: 140.74, Max: 740.02, Median: 247.56, Dealed/Records: 87040/200000\n",
      "epoch: 0, Train Loss: 359.909570, Mean: 278.23, Min: 151.58, Max: 758.93, Median: 255.46, Dealed/Records: 87552/200000\n",
      "epoch: 0, Train Loss: 351.892295, Mean: 280.41, Min: 147.08, Max: 781.83, Median: 254.72, Dealed/Records: 88064/200000\n",
      "epoch: 0, Train Loss: 367.278781, Mean: 285.57, Min: 134.50, Max: 820.54, Median: 266.71, Dealed/Records: 88576/200000\n",
      "epoch: 0, Train Loss: 371.945266, Mean: 292.34, Min: 157.12, Max: 834.78, Median: 272.07, Dealed/Records: 89088/200000\n",
      "epoch: 0, Train Loss: 349.529673, Mean: 292.60, Min: 153.05, Max: 849.07, Median: 268.49, Dealed/Records: 89600/200000\n",
      "epoch: 0, Train Loss: 370.306060, Mean: 303.47, Min: 159.42, Max: 846.48, Median: 277.16, Dealed/Records: 90112/200000\n",
      "epoch: 0, Train Loss: 372.892641, Mean: 312.77, Min: 156.25, Max: 775.87, Median: 283.00, Dealed/Records: 90624/200000\n",
      "epoch: 0, Train Loss: 359.853301, Mean: 315.03, Min: 158.25, Max: 827.96, Median: 288.70, Dealed/Records: 91136/200000\n",
      "epoch: 0, Train Loss: 363.285765, Mean: 321.04, Min: 160.96, Max: 901.14, Median: 295.78, Dealed/Records: 91648/200000\n",
      "epoch: 0, Train Loss: 363.382761, Mean: 321.12, Min: 163.93, Max: 820.86, Median: 303.56, Dealed/Records: 92160/200000\n",
      "epoch: 0, Train Loss: 365.179001, Mean: 328.20, Min: 178.41, Max: 828.56, Median: 308.81, Dealed/Records: 92672/200000\n",
      "epoch: 0, Train Loss: 383.741388, Mean: 334.83, Min: 175.59, Max: 931.52, Median: 309.34, Dealed/Records: 93184/200000\n",
      "epoch: 0, Train Loss: 359.043521, Mean: 345.41, Min: 185.24, Max: 981.68, Median: 314.76, Dealed/Records: 93696/200000\n",
      "epoch: 0, Train Loss: 370.164554, Mean: 350.04, Min: 184.97, Max: 1015.30, Median: 321.65, Dealed/Records: 94208/200000\n",
      "epoch: 0, Train Loss: 369.790291, Mean: 365.20, Min: 186.37, Max: 1026.00, Median: 330.47, Dealed/Records: 94720/200000\n",
      "epoch: 0, Train Loss: 364.269174, Mean: 354.29, Min: 193.28, Max: 955.43, Median: 332.62, Dealed/Records: 95232/200000\n",
      "epoch: 0, Train Loss: 369.627684, Mean: 369.99, Min: 193.35, Max: 1055.02, Median: 343.83, Dealed/Records: 95744/200000\n",
      "epoch: 0, Train Loss: 362.042254, Mean: 379.85, Min: 181.47, Max: 1047.22, Median: 346.66, Dealed/Records: 96256/200000\n",
      "epoch: 0, Train Loss: 356.660641, Mean: 389.01, Min: 210.67, Max: 1088.82, Median: 359.00, Dealed/Records: 96768/200000\n",
      "epoch: 0, Train Loss: 370.908366, Mean: 393.43, Min: 221.66, Max: 1013.77, Median: 356.94, Dealed/Records: 97280/200000\n",
      "epoch: 0, Train Loss: 349.402727, Mean: 398.17, Min: 179.15, Max: 1155.81, Median: 368.58, Dealed/Records: 97792/200000\n",
      "epoch: 0, Train Loss: 383.618768, Mean: 409.10, Min: 180.28, Max: 1140.20, Median: 382.17, Dealed/Records: 98304/200000\n",
      "epoch: 0, Train Loss: 366.259087, Mean: 409.97, Min: 210.97, Max: 1191.62, Median: 384.42, Dealed/Records: 98816/200000\n",
      "epoch: 0, Train Loss: 374.245658, Mean: 432.79, Min: 214.62, Max: 1219.31, Median: 390.98, Dealed/Records: 99328/200000\n",
      "epoch: 0, Train Loss: 384.402499, Mean: 421.36, Min: 198.29, Max: 1127.79, Median: 385.90, Dealed/Records: 99840/200000\n",
      "epoch: 0, Train Loss: 354.661811, Mean: 435.60, Min: 236.93, Max: 1217.64, Median: 395.92, Dealed/Records: 100352/200000\n",
      "epoch: 0, Train Loss: 347.253836, Mean: 432.11, Min: 235.24, Max: 1059.41, Median: 399.36, Dealed/Records: 100864/200000\n",
      "epoch: 0, Train Loss: 352.455593, Mean: 451.35, Min: 221.20, Max: 1339.06, Median: 409.83, Dealed/Records: 101376/200000\n",
      "epoch: 0, Train Loss: 361.576971, Mean: 457.90, Min: 238.39, Max: 1275.27, Median: 420.29, Dealed/Records: 101888/200000\n",
      "epoch: 0, Train Loss: 343.250228, Mean: 465.81, Min: 262.45, Max: 1242.36, Median: 426.12, Dealed/Records: 102400/200000\n",
      "epoch: 0, Train Loss: 376.722979, Mean: 477.00, Min: 247.26, Max: 1308.47, Median: 437.45, Dealed/Records: 102912/200000\n",
      "epoch: 0, Train Loss: 346.218196, Mean: 473.52, Min: 259.19, Max: 1174.62, Median: 438.22, Dealed/Records: 103424/200000\n",
      "epoch: 0, Train Loss: 362.251143, Mean: 486.64, Min: 236.84, Max: 1280.51, Median: 450.15, Dealed/Records: 103936/200000\n",
      "epoch: 0, Train Loss: 374.938328, Mean: 495.86, Min: 268.61, Max: 1242.85, Median: 455.88, Dealed/Records: 104448/200000\n",
      "epoch: 0, Train Loss: 320.382047, Mean: 502.90, Min: 246.06, Max: 1264.29, Median: 460.02, Dealed/Records: 104960/200000\n",
      "epoch: 0, Train Loss: 354.456560, Mean: 508.91, Min: 270.07, Max: 1465.29, Median: 470.56, Dealed/Records: 105472/200000\n"
     ]
    },
    {
     "name": "stdout",
     "output_type": "stream",
     "text": [
      "epoch: 0, Train Loss: 351.527082, Mean: 522.31, Min: 245.16, Max: 1421.33, Median: 473.34, Dealed/Records: 105984/200000\n",
      "epoch: 0, Train Loss: 361.336052, Mean: 533.88, Min: 282.26, Max: 1532.61, Median: 485.57, Dealed/Records: 106496/200000\n",
      "epoch: 0, Train Loss: 341.788300, Mean: 523.17, Min: 270.80, Max: 1510.14, Median: 484.84, Dealed/Records: 107008/200000\n",
      "epoch: 0, Train Loss: 357.142457, Mean: 540.91, Min: 292.42, Max: 1545.30, Median: 504.75, Dealed/Records: 107520/200000\n",
      "epoch: 0, Train Loss: 356.323282, Mean: 559.91, Min: 280.87, Max: 1533.88, Median: 516.09, Dealed/Records: 108032/200000\n",
      "epoch: 0, Train Loss: 342.458323, Mean: 564.68, Min: 275.53, Max: 1452.90, Median: 510.62, Dealed/Records: 108544/200000\n",
      "epoch: 0, Train Loss: 350.914052, Mean: 577.77, Min: 257.37, Max: 1665.42, Median: 515.92, Dealed/Records: 109056/200000\n",
      "epoch: 0, Train Loss: 334.034102, Mean: 566.03, Min: 313.36, Max: 1526.69, Median: 525.58, Dealed/Records: 109568/200000\n",
      "epoch: 0, Train Loss: 348.911511, Mean: 592.79, Min: 321.62, Max: 1631.04, Median: 546.62, Dealed/Records: 110080/200000\n",
      "epoch: 0, Train Loss: 360.226665, Mean: 612.48, Min: 310.61, Max: 1740.52, Median: 548.90, Dealed/Records: 110592/200000\n",
      "epoch: 0, Train Loss: 330.993108, Mean: 600.02, Min: 281.61, Max: 1759.37, Median: 554.06, Dealed/Records: 111104/200000\n",
      "epoch: 0, Train Loss: 351.095273, Mean: 623.11, Min: 284.14, Max: 1707.62, Median: 572.98, Dealed/Records: 111616/200000\n",
      "epoch: 0, Train Loss: 360.921293, Mean: 638.65, Min: 294.38, Max: 1804.37, Median: 584.78, Dealed/Records: 112128/200000\n",
      "epoch: 0, Train Loss: 368.606731, Mean: 648.59, Min: 333.86, Max: 1781.31, Median: 586.38, Dealed/Records: 112640/200000\n",
      "epoch: 0, Train Loss: 351.186705, Mean: 650.69, Min: 318.27, Max: 1775.94, Median: 598.51, Dealed/Records: 113152/200000\n",
      "epoch: 0, Train Loss: 346.756421, Mean: 664.75, Min: 311.83, Max: 1884.20, Median: 602.65, Dealed/Records: 113664/200000\n",
      "epoch: 0, Train Loss: 353.505503, Mean: 657.77, Min: 315.51, Max: 1746.58, Median: 615.85, Dealed/Records: 114176/200000\n",
      "epoch: 0, Train Loss: 377.114269, Mean: 669.43, Min: 351.55, Max: 1838.38, Median: 619.90, Dealed/Records: 114688/200000\n",
      "epoch: 0, Train Loss: 334.343410, Mean: 671.60, Min: 361.65, Max: 1456.76, Median: 622.33, Dealed/Records: 115200/200000\n",
      "epoch: 0, Train Loss: 348.270840, Mean: 689.48, Min: 342.21, Max: 1951.16, Median: 641.28, Dealed/Records: 115712/200000\n",
      "epoch: 0, Train Loss: 333.404444, Mean: 689.38, Min: 371.05, Max: 1929.26, Median: 626.12, Dealed/Records: 116224/200000\n",
      "epoch: 0, Train Loss: 340.745369, Mean: 727.75, Min: 406.83, Max: 1789.38, Median: 662.67, Dealed/Records: 116736/200000\n",
      "epoch: 0, Train Loss: 348.610221, Mean: 738.30, Min: 340.63, Max: 2104.90, Median: 670.41, Dealed/Records: 117248/200000\n",
      "epoch: 0, Train Loss: 324.619609, Mean: 740.54, Min: 385.32, Max: 2136.58, Median: 686.51, Dealed/Records: 117760/200000\n",
      "epoch: 0, Train Loss: 346.638388, Mean: 763.96, Min: 382.60, Max: 2243.88, Median: 676.12, Dealed/Records: 118272/200000\n",
      "epoch: 0, Train Loss: 344.481030, Mean: 745.76, Min: 392.81, Max: 2056.53, Median: 681.45, Dealed/Records: 118784/200000\n",
      "epoch: 0, Train Loss: 342.896907, Mean: 765.33, Min: 416.49, Max: 2212.39, Median: 705.10, Dealed/Records: 119296/200000\n",
      "epoch: 0, Train Loss: 342.427889, Mean: 792.05, Min: 410.20, Max: 2198.09, Median: 715.69, Dealed/Records: 119808/200000\n",
      "epoch: 0, Train Loss: 342.362370, Mean: 778.87, Min: 403.10, Max: 2317.46, Median: 716.50, Dealed/Records: 120320/200000\n",
      "epoch: 0, Train Loss: 343.516773, Mean: 807.72, Min: 422.41, Max: 2270.51, Median: 733.14, Dealed/Records: 120832/200000\n",
      "epoch: 0, Train Loss: 343.003086, Mean: 803.31, Min: 403.69, Max: 2116.21, Median: 751.19, Dealed/Records: 121344/200000\n",
      "epoch: 0, Train Loss: 351.868894, Mean: 828.15, Min: 404.85, Max: 2388.27, Median: 749.08, Dealed/Records: 121856/200000\n",
      "epoch: 0, Train Loss: 351.540427, Mean: 834.92, Min: 435.13, Max: 2268.68, Median: 758.09, Dealed/Records: 122368/200000\n",
      "epoch: 0, Train Loss: 333.353322, Mean: 849.13, Min: 430.60, Max: 2407.25, Median: 763.15, Dealed/Records: 122880/200000\n",
      "epoch: 0, Train Loss: 352.615739, Mean: 836.38, Min: 453.00, Max: 2064.96, Median: 778.42, Dealed/Records: 123392/200000\n",
      "epoch: 0, Train Loss: 366.385896, Mean: 887.32, Min: 454.90, Max: 2479.88, Median: 799.31, Dealed/Records: 123904/200000\n",
      "epoch: 0, Train Loss: 329.276064, Mean: 882.16, Min: 403.14, Max: 2591.94, Median: 809.16, Dealed/Records: 124416/200000\n",
      "epoch: 0, Train Loss: 337.222258, Mean: 893.34, Min: 442.98, Max: 2166.81, Median: 825.13, Dealed/Records: 124928/200000\n",
      "epoch: 0, Train Loss: 331.928444, Mean: 900.35, Min: 436.84, Max: 2628.99, Median: 829.57, Dealed/Records: 125440/200000\n",
      "epoch: 0, Train Loss: 333.190906, Mean: 918.31, Min: 418.03, Max: 2548.91, Median: 837.17, Dealed/Records: 125952/200000\n",
      "epoch: 0, Train Loss: 351.594526, Mean: 908.31, Min: 494.81, Max: 2231.68, Median: 846.85, Dealed/Records: 126464/200000\n",
      "epoch: 0, Train Loss: 361.621425, Mean: 945.61, Min: 491.20, Max: 2710.92, Median: 868.56, Dealed/Records: 126976/200000\n",
      "epoch: 0, Train Loss: 332.195208, Mean: 934.25, Min: 487.37, Max: 2756.34, Median: 881.02, Dealed/Records: 127488/200000\n",
      "epoch: 0, Train Loss: 330.829320, Mean: 954.88, Min: 476.08, Max: 2501.06, Median: 897.97, Dealed/Records: 128000/200000\n",
      "epoch: 0, Train Loss: 343.025316, Mean: 986.75, Min: 541.82, Max: 2692.73, Median: 898.27, Dealed/Records: 128512/200000\n",
      "epoch: 0, Train Loss: 337.219374, Mean: 963.84, Min: 481.05, Max: 2801.78, Median: 885.41, Dealed/Records: 129024/200000\n",
      "epoch: 0, Train Loss: 328.991487, Mean: 1005.76, Min: 538.50, Max: 2809.82, Median: 916.56, Dealed/Records: 129536/200000\n",
      "epoch: 0, Train Loss: 352.068874, Mean: 1042.20, Min: 469.54, Max: 2913.37, Median: 927.75, Dealed/Records: 130048/200000\n",
      "epoch: 0, Train Loss: 332.624331, Mean: 999.22, Min: 515.17, Max: 2593.28, Median: 921.79, Dealed/Records: 130560/200000\n",
      "epoch: 0, Train Loss: 317.960186, Mean: 1029.37, Min: 485.29, Max: 3023.35, Median: 948.55, Dealed/Records: 131072/200000\n",
      "epoch: 0, Train Loss: 338.661278, Mean: 1053.45, Min: 549.29, Max: 2771.46, Median: 960.55, Dealed/Records: 131584/200000\n",
      "epoch: 0, Train Loss: 327.688472, Mean: 1066.52, Min: 496.26, Max: 3177.67, Median: 958.53, Dealed/Records: 132096/200000\n",
      "epoch: 0, Train Loss: 341.746308, Mean: 1074.75, Min: 557.18, Max: 3057.76, Median: 988.30, Dealed/Records: 132608/200000\n",
      "epoch: 0, Train Loss: 329.392635, Mean: 1106.35, Min: 472.34, Max: 2923.78, Median: 1013.27, Dealed/Records: 133120/200000\n",
      "epoch: 0, Train Loss: 329.081071, Mean: 1094.47, Min: 514.45, Max: 3118.15, Median: 1012.46, Dealed/Records: 133632/200000\n",
      "epoch: 0, Train Loss: 338.880083, Mean: 1123.52, Min: 596.00, Max: 3255.70, Median: 1023.79, Dealed/Records: 134144/200000\n",
      "epoch: 0, Train Loss: 336.915837, Mean: 1127.75, Min: 548.29, Max: 3276.02, Median: 1034.74, Dealed/Records: 134656/200000\n",
      "epoch: 0, Train Loss: 329.365465, Mean: 1101.98, Min: 556.15, Max: 3474.10, Median: 1034.34, Dealed/Records: 135168/200000\n",
      "epoch: 0, Train Loss: 342.679515, Mean: 1153.50, Min: 583.02, Max: 2855.70, Median: 1061.32, Dealed/Records: 135680/200000\n",
      "epoch: 0, Train Loss: 336.112693, Mean: 1149.57, Min: 599.90, Max: 3037.22, Median: 1062.54, Dealed/Records: 136192/200000\n",
      "epoch: 0, Train Loss: 324.939369, Mean: 1214.23, Min: 625.98, Max: 3370.74, Median: 1104.11, Dealed/Records: 136704/200000\n",
      "epoch: 0, Train Loss: 309.813313, Mean: 1173.64, Min: 620.45, Max: 3305.28, Median: 1082.12, Dealed/Records: 137216/200000\n",
      "epoch: 0, Train Loss: 319.557543, Mean: 1239.29, Min: 615.97, Max: 3494.88, Median: 1117.70, Dealed/Records: 137728/200000\n",
      "epoch: 0, Train Loss: 337.763878, Mean: 1240.01, Min: 605.87, Max: 3245.30, Median: 1130.72, Dealed/Records: 138240/200000\n",
      "epoch: 0, Train Loss: 338.258118, Mean: 1241.19, Min: 599.66, Max: 3714.93, Median: 1151.67, Dealed/Records: 138752/200000\n",
      "epoch: 0, Train Loss: 329.797511, Mean: 1258.92, Min: 650.62, Max: 3356.73, Median: 1147.64, Dealed/Records: 139264/200000\n",
      "epoch: 0, Train Loss: 326.088454, Mean: 1272.40, Min: 635.90, Max: 3803.95, Median: 1148.45, Dealed/Records: 139776/200000\n",
      "epoch: 0, Train Loss: 315.704569, Mean: 1264.16, Min: 670.19, Max: 3767.31, Median: 1148.89, Dealed/Records: 140288/200000\n",
      "epoch: 0, Train Loss: 319.420728, Mean: 1296.07, Min: 679.75, Max: 3797.67, Median: 1184.27, Dealed/Records: 140800/200000\n",
      "epoch: 0, Train Loss: 328.287020, Mean: 1309.67, Min: 702.51, Max: 3641.25, Median: 1219.98, Dealed/Records: 141312/200000\n",
      "epoch: 0, Train Loss: 320.055855, Mean: 1305.89, Min: 673.91, Max: 3835.39, Median: 1211.01, Dealed/Records: 141824/200000\n",
      "epoch: 0, Train Loss: 341.703110, Mean: 1313.21, Min: 643.19, Max: 3793.36, Median: 1211.80, Dealed/Records: 142336/200000\n",
      "epoch: 0, Train Loss: 339.446068, Mean: 1342.80, Min: 547.80, Max: 3834.16, Median: 1240.35, Dealed/Records: 142848/200000\n",
      "epoch: 0, Train Loss: 306.374439, Mean: 1334.74, Min: 741.73, Max: 3691.03, Median: 1243.08, Dealed/Records: 143360/200000\n",
      "epoch: 0, Train Loss: 310.741590, Mean: 1414.19, Min: 711.99, Max: 4019.77, Median: 1285.94, Dealed/Records: 143872/200000\n",
      "epoch: 0, Train Loss: 318.770759, Mean: 1432.02, Min: 715.56, Max: 4241.93, Median: 1305.45, Dealed/Records: 144384/200000\n",
      "epoch: 0, Train Loss: 311.244829, Mean: 1418.80, Min: 735.48, Max: 3849.84, Median: 1280.93, Dealed/Records: 144896/200000\n",
      "epoch: 0, Train Loss: 313.783166, Mean: 1416.15, Min: 730.21, Max: 4076.18, Median: 1302.64, Dealed/Records: 145408/200000\n",
      "epoch: 0, Train Loss: 317.335575, Mean: 1450.31, Min: 725.59, Max: 4180.61, Median: 1317.01, Dealed/Records: 145920/200000\n",
      "epoch: 0, Train Loss: 316.242663, Mean: 1454.56, Min: 682.30, Max: 3857.17, Median: 1349.37, Dealed/Records: 146432/200000\n",
      "epoch: 0, Train Loss: 296.364772, Mean: 1439.68, Min: 760.97, Max: 4335.17, Median: 1344.84, Dealed/Records: 146944/200000\n",
      "epoch: 0, Train Loss: 314.069372, Mean: 1510.34, Min: 842.08, Max: 4174.71, Median: 1388.14, Dealed/Records: 147456/200000\n",
      "epoch: 0, Train Loss: 299.497287, Mean: 1543.09, Min: 776.60, Max: 4226.49, Median: 1380.60, Dealed/Records: 147968/200000\n",
      "epoch: 0, Train Loss: 325.720044, Mean: 1522.81, Min: 790.30, Max: 4088.79, Median: 1419.94, Dealed/Records: 148480/200000\n",
      "epoch: 0, Train Loss: 319.919204, Mean: 1543.20, Min: 746.93, Max: 4526.48, Median: 1402.34, Dealed/Records: 148992/200000\n",
      "epoch: 0, Train Loss: 292.341864, Mean: 1565.48, Min: 821.13, Max: 4494.19, Median: 1409.94, Dealed/Records: 149504/200000\n",
      "epoch: 0, Train Loss: 325.770373, Mean: 1589.56, Min: 796.84, Max: 4608.50, Median: 1442.45, Dealed/Records: 150016/200000\n",
      "epoch: 0, Train Loss: 319.452840, Mean: 1574.48, Min: 760.45, Max: 4569.19, Median: 1444.62, Dealed/Records: 150528/200000\n",
      "epoch: 0, Train Loss: 300.576854, Mean: 1613.38, Min: 826.71, Max: 4382.72, Median: 1473.26, Dealed/Records: 151040/200000\n",
      "epoch: 0, Train Loss: 292.108927, Mean: 1579.58, Min: 820.50, Max: 4717.81, Median: 1472.17, Dealed/Records: 151552/200000\n",
      "epoch: 0, Train Loss: 302.131827, Mean: 1632.57, Min: 800.29, Max: 4180.35, Median: 1507.07, Dealed/Records: 152064/200000\n",
      "epoch: 0, Train Loss: 304.987051, Mean: 1644.83, Min: 859.32, Max: 4728.89, Median: 1488.53, Dealed/Records: 152576/200000\n",
      "epoch: 0, Train Loss: 304.735195, Mean: 1671.99, Min: 791.85, Max: 4239.44, Median: 1552.74, Dealed/Records: 153088/200000\n",
      "epoch: 0, Train Loss: 290.713535, Mean: 1643.91, Min: 895.99, Max: 4466.34, Median: 1523.52, Dealed/Records: 153600/200000\n",
      "epoch: 0, Train Loss: 292.141046, Mean: 1741.35, Min: 802.18, Max: 4337.89, Median: 1578.03, Dealed/Records: 154112/200000\n",
      "epoch: 0, Train Loss: 307.134666, Mean: 1699.28, Min: 937.76, Max: 4226.11, Median: 1606.58, Dealed/Records: 154624/200000\n",
      "epoch: 0, Train Loss: 306.421036, Mean: 1751.09, Min: 907.32, Max: 5081.70, Median: 1608.13, Dealed/Records: 155136/200000\n",
      "epoch: 0, Train Loss: 300.138549, Mean: 1785.93, Min: 854.40, Max: 5357.56, Median: 1594.57, Dealed/Records: 155648/200000\n",
      "epoch: 0, Train Loss: 292.299290, Mean: 1742.56, Min: 904.08, Max: 4404.38, Median: 1629.23, Dealed/Records: 156160/200000\n",
      "epoch: 0, Train Loss: 311.815751, Mean: 1813.42, Min: 864.77, Max: 4736.85, Median: 1632.33, Dealed/Records: 156672/200000\n",
      "epoch: 0, Train Loss: 285.929146, Mean: 1842.82, Min: 916.74, Max: 5301.98, Median: 1688.43, Dealed/Records: 157184/200000\n",
      "epoch: 0, Train Loss: 312.663645, Mean: 1867.35, Min: 957.48, Max: 5283.53, Median: 1689.47, Dealed/Records: 157696/200000\n",
      "epoch: 0, Train Loss: 288.882586, Mean: 1797.62, Min: 950.82, Max: 4482.43, Median: 1693.62, Dealed/Records: 158208/200000\n",
      "epoch: 0, Train Loss: 311.031776, Mean: 1843.03, Min: 991.49, Max: 5419.67, Median: 1719.25, Dealed/Records: 158720/200000\n",
      "epoch: 0, Train Loss: 297.101295, Mean: 1869.38, Min: 1013.27, Max: 5471.49, Median: 1737.46, Dealed/Records: 159232/200000\n",
      "epoch: 0, Train Loss: 299.182023, Mean: 1888.90, Min: 857.88, Max: 5465.96, Median: 1751.01, Dealed/Records: 159744/200000\n",
      "epoch: 0, Train Loss: 288.205561, Mean: 1917.75, Min: 918.21, Max: 5273.04, Median: 1742.46, Dealed/Records: 160256/200000\n",
      "epoch: 0, Train Loss: 282.404561, Mean: 1926.17, Min: 1007.77, Max: 5169.02, Median: 1793.75, Dealed/Records: 160768/200000\n",
      "epoch: 0, Train Loss: 291.246204, Mean: 1950.10, Min: 920.12, Max: 4755.00, Median: 1771.05, Dealed/Records: 161280/200000\n",
      "epoch: 0, Train Loss: 297.841086, Mean: 1936.92, Min: 1040.36, Max: 5206.10, Median: 1806.67, Dealed/Records: 161792/200000\n",
      "epoch: 0, Train Loss: 295.306078, Mean: 1962.67, Min: 1031.88, Max: 5361.90, Median: 1835.52, Dealed/Records: 162304/200000\n",
      "epoch: 0, Train Loss: 299.460087, Mean: 2024.73, Min: 1082.79, Max: 5058.85, Median: 1864.95, Dealed/Records: 162816/200000\n",
      "epoch: 0, Train Loss: 284.874369, Mean: 1993.19, Min: 1025.05, Max: 5928.99, Median: 1826.74, Dealed/Records: 163328/200000\n",
      "epoch: 0, Train Loss: 288.920661, Mean: 2060.72, Min: 1028.87, Max: 5672.77, Median: 1921.37, Dealed/Records: 163840/200000\n",
      "epoch: 0, Train Loss: 276.075737, Mean: 2041.06, Min: 1087.42, Max: 5293.25, Median: 1855.12, Dealed/Records: 164352/200000\n"
     ]
    },
    {
     "name": "stdout",
     "output_type": "stream",
     "text": [
      "epoch: 0, Train Loss: 296.315842, Mean: 2109.32, Min: 1161.86, Max: 5663.96, Median: 1927.45, Dealed/Records: 164864/200000\n",
      "epoch: 0, Train Loss: 289.115569, Mean: 2094.18, Min: 1064.03, Max: 5415.14, Median: 1906.64, Dealed/Records: 165376/200000\n",
      "epoch: 0, Train Loss: 283.988198, Mean: 2117.20, Min: 992.73, Max: 4995.89, Median: 1922.95, Dealed/Records: 165888/200000\n",
      "epoch: 0, Train Loss: 289.079952, Mean: 2178.46, Min: 1106.23, Max: 6016.85, Median: 2019.06, Dealed/Records: 166400/200000\n",
      "epoch: 0, Train Loss: 271.308044, Mean: 2157.35, Min: 1076.46, Max: 6302.28, Median: 1959.55, Dealed/Records: 166912/200000\n",
      "epoch: 0, Train Loss: 284.633234, Mean: 2242.06, Min: 1088.88, Max: 6023.09, Median: 2031.85, Dealed/Records: 167424/200000\n",
      "epoch: 0, Train Loss: 304.912398, Mean: 2157.67, Min: 1167.67, Max: 6331.20, Median: 1979.43, Dealed/Records: 167936/200000\n",
      "epoch: 0, Train Loss: 286.263564, Mean: 2165.92, Min: 1166.32, Max: 5588.68, Median: 2016.72, Dealed/Records: 168448/200000\n",
      "epoch: 0, Train Loss: 288.504468, Mean: 2275.35, Min: 1214.13, Max: 6311.70, Median: 2077.98, Dealed/Records: 168960/200000\n",
      "epoch: 0, Train Loss: 276.508448, Mean: 2301.61, Min: 1208.83, Max: 5884.28, Median: 2052.64, Dealed/Records: 169472/200000\n",
      "epoch: 0, Train Loss: 291.506191, Mean: 2319.87, Min: 1168.75, Max: 6192.13, Median: 2134.81, Dealed/Records: 169984/200000\n",
      "epoch: 0, Train Loss: 286.338523, Mean: 2276.14, Min: 1138.46, Max: 6350.30, Median: 2140.32, Dealed/Records: 170496/200000\n",
      "epoch: 0, Train Loss: 288.611642, Mean: 2303.92, Min: 1137.25, Max: 5812.64, Median: 2117.74, Dealed/Records: 171008/200000\n",
      "epoch: 0, Train Loss: 264.625443, Mean: 2320.31, Min: 1048.62, Max: 6339.95, Median: 2167.77, Dealed/Records: 171520/200000\n",
      "epoch: 0, Train Loss: 283.882045, Mean: 2309.80, Min: 1118.20, Max: 6845.08, Median: 2145.62, Dealed/Records: 172032/200000\n",
      "epoch: 0, Train Loss: 264.635495, Mean: 2429.04, Min: 1205.83, Max: 6035.12, Median: 2152.03, Dealed/Records: 172544/200000\n",
      "epoch: 0, Train Loss: 271.416668, Mean: 2396.49, Min: 1267.03, Max: 6939.03, Median: 2197.96, Dealed/Records: 173056/200000\n",
      "epoch: 0, Train Loss: 279.071745, Mean: 2485.42, Min: 1343.72, Max: 7031.35, Median: 2234.78, Dealed/Records: 173568/200000\n",
      "epoch: 0, Train Loss: 279.472354, Mean: 2368.63, Min: 1189.76, Max: 6373.76, Median: 2200.16, Dealed/Records: 174080/200000\n",
      "epoch: 0, Train Loss: 267.902443, Mean: 2464.68, Min: 1414.61, Max: 5905.45, Median: 2246.71, Dealed/Records: 174592/200000\n",
      "epoch: 0, Train Loss: 281.586077, Mean: 2459.40, Min: 1204.36, Max: 5622.10, Median: 2300.14, Dealed/Records: 175104/200000\n",
      "epoch: 0, Train Loss: 261.460352, Mean: 2517.78, Min: 1267.89, Max: 7155.20, Median: 2309.08, Dealed/Records: 175616/200000\n",
      "epoch: 0, Train Loss: 265.240457, Mean: 2561.46, Min: 1228.68, Max: 7123.06, Median: 2350.28, Dealed/Records: 176128/200000\n",
      "epoch: 0, Train Loss: 267.952363, Mean: 2557.74, Min: 1309.08, Max: 7241.59, Median: 2360.42, Dealed/Records: 176640/200000\n",
      "epoch: 0, Train Loss: 280.395062, Mean: 2594.13, Min: 1328.00, Max: 7404.16, Median: 2379.53, Dealed/Records: 177152/200000\n",
      "epoch: 0, Train Loss: 271.976475, Mean: 2604.61, Min: 1318.22, Max: 7494.83, Median: 2376.36, Dealed/Records: 177664/200000\n",
      "epoch: 0, Train Loss: 285.371414, Mean: 2654.77, Min: 1283.79, Max: 7283.47, Median: 2426.14, Dealed/Records: 178176/200000\n",
      "epoch: 0, Train Loss: 280.389419, Mean: 2654.30, Min: 1407.39, Max: 6804.11, Median: 2418.34, Dealed/Records: 178688/200000\n",
      "epoch: 0, Train Loss: 278.115885, Mean: 2631.54, Min: 1405.07, Max: 7661.32, Median: 2402.40, Dealed/Records: 179200/200000\n",
      "epoch: 0, Train Loss: 278.929763, Mean: 2688.31, Min: 1335.43, Max: 7639.36, Median: 2454.82, Dealed/Records: 179712/200000\n",
      "epoch: 0, Train Loss: 279.970046, Mean: 2707.51, Min: 1255.83, Max: 6752.50, Median: 2500.80, Dealed/Records: 180224/200000\n",
      "epoch: 0, Train Loss: 278.346471, Mean: 2754.54, Min: 1377.74, Max: 7181.09, Median: 2537.63, Dealed/Records: 180736/200000\n",
      "epoch: 0, Train Loss: 256.041180, Mean: 2716.06, Min: 1383.39, Max: 6793.44, Median: 2501.63, Dealed/Records: 181248/200000\n",
      "epoch: 0, Train Loss: 265.318264, Mean: 2733.84, Min: 1519.66, Max: 6841.87, Median: 2542.05, Dealed/Records: 181760/200000\n",
      "epoch: 0, Train Loss: 258.356343, Mean: 2776.39, Min: 1488.38, Max: 8297.98, Median: 2504.69, Dealed/Records: 182272/200000\n",
      "epoch: 0, Train Loss: 269.804631, Mean: 2815.12, Min: 1318.52, Max: 8273.25, Median: 2622.26, Dealed/Records: 182784/200000\n",
      "epoch: 0, Train Loss: 252.339553, Mean: 2713.09, Min: 1393.99, Max: 6343.02, Median: 2540.60, Dealed/Records: 183296/200000\n",
      "epoch: 0, Train Loss: 262.964485, Mean: 2939.18, Min: 1550.93, Max: 7812.79, Median: 2653.87, Dealed/Records: 183808/200000\n",
      "epoch: 0, Train Loss: 253.418025, Mean: 2886.54, Min: 1528.26, Max: 8239.12, Median: 2602.33, Dealed/Records: 184320/200000\n",
      "epoch: 0, Train Loss: 258.630679, Mean: 2902.98, Min: 1508.69, Max: 8166.93, Median: 2671.13, Dealed/Records: 184832/200000\n",
      "epoch: 0, Train Loss: 240.713263, Mean: 2943.57, Min: 1446.86, Max: 7485.23, Median: 2700.13, Dealed/Records: 185344/200000\n",
      "epoch: 0, Train Loss: 266.862046, Mean: 2950.06, Min: 1378.53, Max: 8274.14, Median: 2711.04, Dealed/Records: 185856/200000\n",
      "epoch: 0, Train Loss: 247.507883, Mean: 2906.17, Min: 1565.30, Max: 8370.73, Median: 2696.08, Dealed/Records: 186368/200000\n",
      "epoch: 0, Train Loss: 270.833782, Mean: 2978.72, Min: 1425.41, Max: 8457.84, Median: 2748.29, Dealed/Records: 186880/200000\n",
      "epoch: 0, Train Loss: 263.920221, Mean: 2983.13, Min: 1529.84, Max: 7875.57, Median: 2740.01, Dealed/Records: 187392/200000\n",
      "epoch: 0, Train Loss: 269.520190, Mean: 3105.16, Min: 1635.65, Max: 8685.32, Median: 2815.61, Dealed/Records: 187904/200000\n",
      "epoch: 0, Train Loss: 240.822857, Mean: 2971.80, Min: 1589.20, Max: 8277.72, Median: 2745.91, Dealed/Records: 188416/200000\n",
      "epoch: 0, Train Loss: 247.125482, Mean: 3049.74, Min: 1580.96, Max: 8846.69, Median: 2780.67, Dealed/Records: 188928/200000\n",
      "epoch: 0, Train Loss: 258.527410, Mean: 3096.19, Min: 1614.21, Max: 9201.10, Median: 2806.88, Dealed/Records: 189440/200000\n",
      "epoch: 0, Train Loss: 255.252173, Mean: 3125.82, Min: 1515.93, Max: 7811.86, Median: 2820.02, Dealed/Records: 189952/200000\n",
      "epoch: 0, Train Loss: 236.911417, Mean: 3144.69, Min: 1654.56, Max: 9090.02, Median: 2891.81, Dealed/Records: 190464/200000\n",
      "epoch: 0, Train Loss: 234.404773, Mean: 3156.12, Min: 1470.67, Max: 8965.09, Median: 2875.20, Dealed/Records: 190976/200000\n",
      "epoch: 0, Train Loss: 262.815272, Mean: 3096.95, Min: 1632.48, Max: 8925.29, Median: 2891.25, Dealed/Records: 191488/200000\n",
      "epoch: 0, Train Loss: 238.965348, Mean: 3223.22, Min: 1589.67, Max: 9207.62, Median: 2948.45, Dealed/Records: 192000/200000\n",
      "epoch: 0, Train Loss: 235.466989, Mean: 3287.07, Min: 1587.24, Max: 9281.02, Median: 3010.28, Dealed/Records: 192512/200000\n",
      "epoch: 0, Train Loss: 220.506519, Mean: 3265.18, Min: 1728.61, Max: 7975.75, Median: 2984.90, Dealed/Records: 193024/200000\n",
      "epoch: 0, Train Loss: 248.285291, Mean: 3280.71, Min: 1679.34, Max: 8376.75, Median: 3057.08, Dealed/Records: 193536/200000\n",
      "epoch: 0, Train Loss: 240.974713, Mean: 3301.44, Min: 1557.17, Max: 9325.90, Median: 3055.09, Dealed/Records: 194048/200000\n",
      "epoch: 0, Train Loss: 253.435242, Mean: 3387.89, Min: 1749.73, Max: 9274.37, Median: 3064.21, Dealed/Records: 194560/200000\n",
      "epoch: 0, Train Loss: 240.007479, Mean: 3421.87, Min: 1542.79, Max: 8534.06, Median: 3141.18, Dealed/Records: 195072/200000\n",
      "epoch: 0, Train Loss: 235.316733, Mean: 3345.87, Min: 1692.70, Max: 9334.39, Median: 3059.06, Dealed/Records: 195584/200000\n",
      "epoch: 0, Train Loss: 255.296144, Mean: 3358.97, Min: 1748.82, Max: 9207.98, Median: 3052.53, Dealed/Records: 196096/200000\n",
      "epoch: 0, Train Loss: 255.916925, Mean: 3471.56, Min: 1812.84, Max: 9618.31, Median: 3155.73, Dealed/Records: 196608/200000\n",
      "epoch: 0, Train Loss: 233.993306, Mean: 3452.86, Min: 1667.12, Max: 8964.69, Median: 3172.80, Dealed/Records: 197120/200000\n",
      "epoch: 0, Train Loss: 235.038021, Mean: 3498.21, Min: 1722.49, Max: 9620.97, Median: 3185.32, Dealed/Records: 197632/200000\n",
      "epoch: 0, Train Loss: 234.583524, Mean: 3430.02, Min: 1618.22, Max: 9830.32, Median: 3186.81, Dealed/Records: 198144/200000\n",
      "epoch: 0, Train Loss: 242.356957, Mean: 3482.37, Min: 1694.67, Max: 8894.31, Median: 3239.66, Dealed/Records: 198656/200000\n",
      "epoch: 0, Train Loss: 246.270970, Mean: 3473.03, Min: 1738.55, Max: 9318.09, Median: 3176.00, Dealed/Records: 199168/200000\n",
      "epoch: 0, Train Loss: 272.870362, Mean: 3527.42, Min: 1810.01, Max: 9993.33, Median: 3259.06, Dealed/Records: 199680/200000\n",
      "epoch: 0, Train Loss: 253.624430, Mean: 3586.06, Min: 2003.22, Max: 9287.36, Median: 3362.00, Dealed/Records: 200192/200000\n",
      "epoch: 1, Train Loss: 223.804454, Mean: 3622.57, Min: 1740.84, Max: 9917.24, Median: 3260.54, Dealed/Records: 512/200000\n",
      "epoch: 1, Train Loss: 246.720830, Mean: 3583.96, Min: 1965.34, Max: 9446.63, Median: 3350.74, Dealed/Records: 1024/200000\n",
      "epoch: 1, Train Loss: 243.200703, Mean: 3620.93, Min: 1861.89, Max: 10354.03, Median: 3358.72, Dealed/Records: 1536/200000\n",
      "epoch: 1, Train Loss: 231.861843, Mean: 3661.14, Min: 1706.19, Max: 9460.21, Median: 3356.98, Dealed/Records: 2048/200000\n",
      "epoch: 1, Train Loss: 255.561277, Mean: 3680.82, Min: 1853.56, Max: 10148.78, Median: 3412.33, Dealed/Records: 2560/200000\n",
      "epoch: 1, Train Loss: 236.288902, Mean: 3801.66, Min: 2148.28, Max: 9418.37, Median: 3450.70, Dealed/Records: 3072/200000\n",
      "epoch: 1, Train Loss: 224.045066, Mean: 3756.45, Min: 1690.74, Max: 10572.44, Median: 3440.59, Dealed/Records: 3584/200000\n",
      "epoch: 1, Train Loss: 222.165242, Mean: 3763.05, Min: 1810.99, Max: 10334.21, Median: 3434.85, Dealed/Records: 4096/200000\n",
      "epoch: 1, Train Loss: 226.134985, Mean: 3835.73, Min: 1965.05, Max: 9789.14, Median: 3495.37, Dealed/Records: 4608/200000\n",
      "epoch: 1, Train Loss: 212.578092, Mean: 3818.25, Min: 1965.70, Max: 10438.99, Median: 3499.42, Dealed/Records: 5120/200000\n",
      "epoch: 1, Train Loss: 226.569879, Mean: 3738.40, Min: 1797.00, Max: 10177.56, Median: 3479.09, Dealed/Records: 5632/200000\n",
      "epoch: 1, Train Loss: 229.497804, Mean: 3751.32, Min: 1966.22, Max: 9997.92, Median: 3464.28, Dealed/Records: 6144/200000\n",
      "epoch: 1, Train Loss: 238.783317, Mean: 3917.90, Min: 1932.01, Max: 9462.61, Median: 3615.46, Dealed/Records: 6656/200000\n",
      "epoch: 1, Train Loss: 224.735487, Mean: 3879.17, Min: 2026.17, Max: 9796.16, Median: 3611.19, Dealed/Records: 7168/200000\n",
      "epoch: 1, Train Loss: 241.415924, Mean: 3954.69, Min: 1901.32, Max: 10779.66, Median: 3632.09, Dealed/Records: 7680/200000\n",
      "epoch: 1, Train Loss: 217.347279, Mean: 3949.28, Min: 1783.95, Max: 10915.57, Median: 3584.80, Dealed/Records: 8192/200000\n",
      "epoch: 1, Train Loss: 223.759305, Mean: 3916.07, Min: 1994.67, Max: 10298.85, Median: 3633.66, Dealed/Records: 8704/200000\n",
      "epoch: 1, Train Loss: 224.004255, Mean: 3974.54, Min: 1967.81, Max: 10611.83, Median: 3639.07, Dealed/Records: 9216/200000\n",
      "epoch: 1, Train Loss: 215.605361, Mean: 4029.79, Min: 2132.79, Max: 10759.56, Median: 3699.36, Dealed/Records: 9728/200000\n",
      "epoch: 1, Train Loss: 206.396558, Mean: 4100.10, Min: 1997.60, Max: 11296.48, Median: 3767.10, Dealed/Records: 10240/200000\n",
      "epoch: 1, Train Loss: 217.320418, Mean: 4068.90, Min: 1925.87, Max: 11512.39, Median: 3781.68, Dealed/Records: 10752/200000\n",
      "epoch: 1, Train Loss: 207.893659, Mean: 3920.07, Min: 1995.46, Max: 12051.59, Median: 3694.93, Dealed/Records: 11264/200000\n",
      "epoch: 1, Train Loss: 211.716349, Mean: 4069.49, Min: 1863.85, Max: 11222.92, Median: 3679.46, Dealed/Records: 11776/200000\n",
      "epoch: 1, Train Loss: 198.145563, Mean: 4125.74, Min: 1912.30, Max: 10729.01, Median: 3824.42, Dealed/Records: 12288/200000\n",
      "epoch: 1, Train Loss: 221.768821, Mean: 4057.18, Min: 1988.57, Max: 12207.45, Median: 3862.13, Dealed/Records: 12800/200000\n",
      "epoch: 1, Train Loss: 179.319269, Mean: 4042.49, Min: 1865.59, Max: 11179.74, Median: 3759.25, Dealed/Records: 13312/200000\n",
      "epoch: 1, Train Loss: 214.044424, Mean: 4270.64, Min: 2398.16, Max: 11880.02, Median: 3918.72, Dealed/Records: 13824/200000\n",
      "epoch: 1, Train Loss: 233.712965, Mean: 4296.81, Min: 2243.94, Max: 11956.03, Median: 3948.20, Dealed/Records: 14336/200000\n",
      "epoch: 1, Train Loss: 203.780471, Mean: 4273.43, Min: 2217.87, Max: 12459.52, Median: 3870.23, Dealed/Records: 14848/200000\n",
      "epoch: 1, Train Loss: 211.846283, Mean: 4302.54, Min: 2399.61, Max: 10668.93, Median: 3887.70, Dealed/Records: 15360/200000\n",
      "epoch: 1, Train Loss: 203.461970, Mean: 4199.76, Min: 2267.62, Max: 10652.64, Median: 3883.01, Dealed/Records: 15872/200000\n",
      "epoch: 1, Train Loss: 197.037264, Mean: 4178.94, Min: 2232.34, Max: 11952.04, Median: 3847.13, Dealed/Records: 16384/200000\n",
      "epoch: 1, Train Loss: 209.818914, Mean: 4285.35, Min: 2244.35, Max: 11476.41, Median: 4036.88, Dealed/Records: 16896/200000\n",
      "epoch: 1, Train Loss: 225.025537, Mean: 4363.13, Min: 2141.33, Max: 12651.70, Median: 4011.62, Dealed/Records: 17408/200000\n",
      "epoch: 1, Train Loss: 197.655329, Mean: 4352.69, Min: 2304.76, Max: 11598.83, Median: 4008.00, Dealed/Records: 17920/200000\n",
      "epoch: 1, Train Loss: 201.720181, Mean: 4358.06, Min: 2357.52, Max: 11249.18, Median: 4041.26, Dealed/Records: 18432/200000\n",
      "epoch: 1, Train Loss: 202.607234, Mean: 4362.91, Min: 2315.56, Max: 12188.87, Median: 4058.87, Dealed/Records: 18944/200000\n",
      "epoch: 1, Train Loss: 193.153062, Mean: 4357.59, Min: 2328.00, Max: 9982.88, Median: 4044.18, Dealed/Records: 19456/200000\n",
      "epoch: 1, Train Loss: 190.645757, Mean: 4501.37, Min: 2048.16, Max: 12414.18, Median: 4058.06, Dealed/Records: 19968/200000\n"
     ]
    },
    {
     "name": "stdout",
     "output_type": "stream",
     "text": [
      "epoch: 1, Train Loss: 191.515471, Mean: 4476.08, Min: 2338.88, Max: 10241.50, Median: 4087.94, Dealed/Records: 20480/200000\n",
      "epoch: 1, Train Loss: 215.671426, Mean: 4600.39, Min: 2390.10, Max: 11412.43, Median: 4184.90, Dealed/Records: 20992/200000\n",
      "epoch: 1, Train Loss: 216.378611, Mean: 4643.98, Min: 2174.80, Max: 11596.56, Median: 4234.22, Dealed/Records: 21504/200000\n",
      "epoch: 1, Train Loss: 197.116479, Mean: 4500.63, Min: 2148.02, Max: 11032.22, Median: 4214.23, Dealed/Records: 22016/200000\n",
      "epoch: 1, Train Loss: 212.027158, Mean: 4641.77, Min: 2349.02, Max: 13369.14, Median: 4192.22, Dealed/Records: 22528/200000\n",
      "epoch: 1, Train Loss: 178.501532, Mean: 4556.16, Min: 2249.58, Max: 10845.03, Median: 4163.38, Dealed/Records: 23040/200000\n",
      "epoch: 1, Train Loss: 190.744594, Mean: 4555.97, Min: 2440.84, Max: 11700.03, Median: 4240.20, Dealed/Records: 23552/200000\n",
      "epoch: 1, Train Loss: 193.157198, Mean: 4575.45, Min: 2530.61, Max: 11420.99, Median: 4267.71, Dealed/Records: 24064/200000\n",
      "epoch: 1, Train Loss: 198.841272, Mean: 4737.23, Min: 2462.84, Max: 11688.27, Median: 4303.08, Dealed/Records: 24576/200000\n",
      "epoch: 1, Train Loss: 176.099027, Mean: 4690.83, Min: 2500.97, Max: 13681.53, Median: 4364.58, Dealed/Records: 25088/200000\n",
      "epoch: 1, Train Loss: 220.568672, Mean: 4792.41, Min: 2471.53, Max: 11578.59, Median: 4366.69, Dealed/Records: 25600/200000\n",
      "epoch: 1, Train Loss: 210.791468, Mean: 4766.31, Min: 2345.35, Max: 13007.82, Median: 4393.92, Dealed/Records: 26112/200000\n",
      "epoch: 1, Train Loss: 207.053294, Mean: 4797.52, Min: 2399.20, Max: 12895.36, Median: 4341.73, Dealed/Records: 26624/200000\n",
      "epoch: 1, Train Loss: 198.318301, Mean: 4767.52, Min: 2545.20, Max: 13141.23, Median: 4385.00, Dealed/Records: 27136/200000\n",
      "epoch: 1, Train Loss: 196.200870, Mean: 4785.09, Min: 1823.23, Max: 11520.60, Median: 4443.77, Dealed/Records: 27648/200000\n",
      "epoch: 1, Train Loss: 211.598658, Mean: 4939.18, Min: 2561.63, Max: 12791.30, Median: 4503.08, Dealed/Records: 28160/200000\n",
      "epoch: 1, Train Loss: 197.702705, Mean: 4853.53, Min: 2429.95, Max: 13274.41, Median: 4464.22, Dealed/Records: 28672/200000\n",
      "epoch: 1, Train Loss: 181.309516, Mean: 4800.23, Min: 2600.23, Max: 12124.41, Median: 4437.92, Dealed/Records: 29184/200000\n",
      "epoch: 1, Train Loss: 198.423110, Mean: 4929.63, Min: 2241.21, Max: 12630.70, Median: 4576.08, Dealed/Records: 29696/200000\n",
      "epoch: 1, Train Loss: 200.832156, Mean: 4916.14, Min: 2648.11, Max: 13553.42, Median: 4486.56, Dealed/Records: 30208/200000\n",
      "epoch: 1, Train Loss: 192.405141, Mean: 4874.90, Min: 2344.13, Max: 12804.82, Median: 4510.77, Dealed/Records: 30720/200000\n",
      "epoch: 1, Train Loss: 182.266385, Mean: 4976.55, Min: 2334.31, Max: 13198.62, Median: 4523.10, Dealed/Records: 31232/200000\n",
      "epoch: 1, Train Loss: 187.434072, Mean: 4958.27, Min: 2474.88, Max: 14211.54, Median: 4546.06, Dealed/Records: 31744/200000\n",
      "epoch: 1, Train Loss: 187.760985, Mean: 4989.94, Min: 2667.82, Max: 13594.47, Median: 4563.38, Dealed/Records: 32256/200000\n",
      "epoch: 1, Train Loss: 195.317050, Mean: 5101.94, Min: 2669.46, Max: 13654.80, Median: 4627.83, Dealed/Records: 32768/200000\n",
      "epoch: 1, Train Loss: 191.860881, Mean: 5067.71, Min: 2777.35, Max: 13497.24, Median: 4689.58, Dealed/Records: 33280/200000\n",
      "epoch: 1, Train Loss: 182.725471, Mean: 5015.74, Min: 2493.54, Max: 12911.44, Median: 4690.86, Dealed/Records: 33792/200000\n",
      "epoch: 1, Train Loss: 164.283173, Mean: 5127.23, Min: 2476.88, Max: 12091.17, Median: 4790.36, Dealed/Records: 34304/200000\n",
      "epoch: 1, Train Loss: 170.267844, Mean: 5053.84, Min: 2265.81, Max: 14604.80, Median: 4621.67, Dealed/Records: 34816/200000\n",
      "epoch: 1, Train Loss: 194.493764, Mean: 5172.30, Min: 2699.94, Max: 14157.91, Median: 4738.82, Dealed/Records: 35328/200000\n",
      "epoch: 1, Train Loss: 176.827125, Mean: 5105.98, Min: 2401.98, Max: 14222.40, Median: 4691.33, Dealed/Records: 35840/200000\n",
      "epoch: 1, Train Loss: 186.240814, Mean: 5213.30, Min: 2606.87, Max: 14540.80, Median: 4691.64, Dealed/Records: 36352/200000\n",
      "epoch: 1, Train Loss: 167.683674, Mean: 5136.18, Min: 2776.76, Max: 11961.87, Median: 4897.52, Dealed/Records: 36864/200000\n",
      "epoch: 1, Train Loss: 181.965484, Mean: 5373.61, Min: 2452.25, Max: 13143.37, Median: 4906.09, Dealed/Records: 37376/200000\n",
      "epoch: 1, Train Loss: 176.774044, Mean: 5386.00, Min: 2784.49, Max: 14397.08, Median: 4911.45, Dealed/Records: 37888/200000\n",
      "epoch: 1, Train Loss: 187.883036, Mean: 5268.57, Min: 2742.86, Max: 14334.10, Median: 4836.90, Dealed/Records: 38400/200000\n",
      "epoch: 1, Train Loss: 177.178026, Mean: 5347.29, Min: 2509.27, Max: 13931.58, Median: 4947.73, Dealed/Records: 38912/200000\n",
      "epoch: 1, Train Loss: 199.709643, Mean: 5435.57, Min: 2737.69, Max: 13937.70, Median: 5001.88, Dealed/Records: 39424/200000\n",
      "epoch: 1, Train Loss: 186.044266, Mean: 5282.48, Min: 2912.03, Max: 13603.62, Median: 4903.73, Dealed/Records: 39936/200000\n",
      "epoch: 1, Train Loss: 174.354787, Mean: 5193.22, Min: 2679.68, Max: 12766.17, Median: 4802.65, Dealed/Records: 40448/200000\n",
      "epoch: 1, Train Loss: 173.356941, Mean: 5232.00, Min: 2760.57, Max: 12596.85, Median: 4907.49, Dealed/Records: 40960/200000\n",
      "epoch: 1, Train Loss: 185.674310, Mean: 5452.54, Min: 2865.23, Max: 14367.26, Median: 4900.97, Dealed/Records: 41472/200000\n",
      "epoch: 1, Train Loss: 187.096827, Mean: 5453.56, Min: 2817.03, Max: 14707.54, Median: 4955.96, Dealed/Records: 41984/200000\n",
      "epoch: 1, Train Loss: 188.206565, Mean: 5303.96, Min: 2813.00, Max: 13184.53, Median: 4940.16, Dealed/Records: 42496/200000\n",
      "epoch: 1, Train Loss: 173.350992, Mean: 5629.48, Min: 2921.51, Max: 14786.91, Median: 5098.81, Dealed/Records: 43008/200000\n",
      "epoch: 1, Train Loss: 186.639996, Mean: 5214.90, Min: 2886.82, Max: 13194.89, Median: 5016.97, Dealed/Records: 43520/200000\n",
      "epoch: 1, Train Loss: 162.767076, Mean: 5432.56, Min: 2743.89, Max: 14124.64, Median: 5048.91, Dealed/Records: 44032/200000\n",
      "epoch: 1, Train Loss: 166.457519, Mean: 5550.53, Min: 2665.15, Max: 14050.19, Median: 5112.32, Dealed/Records: 44544/200000\n",
      "epoch: 1, Train Loss: 178.137543, Mean: 5581.82, Min: 2949.37, Max: 15019.27, Median: 5185.72, Dealed/Records: 45056/200000\n",
      "epoch: 1, Train Loss: 176.192195, Mean: 5589.67, Min: 2944.84, Max: 15670.19, Median: 5187.44, Dealed/Records: 45568/200000\n",
      "epoch: 1, Train Loss: 193.438863, Mean: 5529.71, Min: 2689.28, Max: 13970.49, Median: 5170.65, Dealed/Records: 46080/200000\n",
      "epoch: 1, Train Loss: 194.636761, Mean: 5556.47, Min: 2671.20, Max: 14852.99, Median: 5128.85, Dealed/Records: 46592/200000\n",
      "epoch: 1, Train Loss: 158.781444, Mean: 5456.99, Min: 2608.48, Max: 14106.37, Median: 5164.04, Dealed/Records: 47104/200000\n",
      "epoch: 1, Train Loss: 159.907426, Mean: 5458.07, Min: 2972.67, Max: 15872.00, Median: 4987.36, Dealed/Records: 47616/200000\n",
      "epoch: 1, Train Loss: 186.713005, Mean: 5640.20, Min: 3010.79, Max: 14063.04, Median: 5232.02, Dealed/Records: 48128/200000\n",
      "epoch: 1, Train Loss: 147.839037, Mean: 5475.07, Min: 2918.85, Max: 14671.37, Median: 5152.68, Dealed/Records: 48640/200000\n",
      "epoch: 1, Train Loss: 184.889811, Mean: 5661.26, Min: 2867.71, Max: 15058.71, Median: 5280.52, Dealed/Records: 49152/200000\n",
      "epoch: 1, Train Loss: 176.983596, Mean: 5760.53, Min: 2816.57, Max: 13925.70, Median: 5343.44, Dealed/Records: 49664/200000\n",
      "epoch: 1, Train Loss: 189.669305, Mean: 5640.71, Min: 3068.89, Max: 15627.15, Median: 5251.68, Dealed/Records: 50176/200000\n",
      "epoch: 1, Train Loss: 165.381183, Mean: 5673.94, Min: 3007.54, Max: 14620.07, Median: 5264.42, Dealed/Records: 50688/200000\n",
      "epoch: 1, Train Loss: 176.413040, Mean: 5765.14, Min: 2900.89, Max: 15201.93, Median: 5349.94, Dealed/Records: 51200/200000\n",
      "epoch: 1, Train Loss: 163.282539, Mean: 5631.08, Min: 3075.97, Max: 14630.96, Median: 5283.72, Dealed/Records: 51712/200000\n",
      "epoch: 1, Train Loss: 171.694621, Mean: 5845.47, Min: 2569.18, Max: 15716.76, Median: 5358.87, Dealed/Records: 52224/200000\n",
      "epoch: 1, Train Loss: 164.962934, Mean: 5834.66, Min: 3030.41, Max: 15964.39, Median: 5347.37, Dealed/Records: 52736/200000\n",
      "epoch: 1, Train Loss: 162.931968, Mean: 5834.01, Min: 2959.62, Max: 15644.63, Median: 5308.67, Dealed/Records: 53248/200000\n",
      "epoch: 1, Train Loss: 165.218050, Mean: 5876.74, Min: 2919.79, Max: 15499.71, Median: 5467.34, Dealed/Records: 53760/200000\n",
      "epoch: 1, Train Loss: 156.946566, Mean: 5893.84, Min: 3079.33, Max: 15522.65, Median: 5487.39, Dealed/Records: 54272/200000\n",
      "epoch: 1, Train Loss: 158.151949, Mean: 5896.74, Min: 3061.07, Max: 12435.24, Median: 5488.87, Dealed/Records: 54784/200000\n",
      "epoch: 1, Train Loss: 171.676573, Mean: 5858.96, Min: 3148.88, Max: 15174.40, Median: 5447.99, Dealed/Records: 55296/200000\n",
      "epoch: 1, Train Loss: 167.501790, Mean: 6010.76, Min: 3193.61, Max: 15634.60, Median: 5505.98, Dealed/Records: 55808/200000\n",
      "epoch: 1, Train Loss: 160.537671, Mean: 6014.04, Min: 2906.45, Max: 15275.48, Median: 5447.37, Dealed/Records: 56320/200000\n",
      "epoch: 1, Train Loss: 165.561633, Mean: 5883.37, Min: 3178.95, Max: 15884.91, Median: 5458.99, Dealed/Records: 56832/200000\n",
      "epoch: 1, Train Loss: 157.726511, Mean: 6109.57, Min: 3168.76, Max: 14179.95, Median: 5547.74, Dealed/Records: 57344/200000\n",
      "epoch: 1, Train Loss: 157.544246, Mean: 6046.18, Min: 3149.97, Max: 15263.94, Median: 5593.17, Dealed/Records: 57856/200000\n",
      "epoch: 1, Train Loss: 173.343753, Mean: 6063.48, Min: 2793.28, Max: 15812.89, Median: 5650.36, Dealed/Records: 58368/200000\n",
      "epoch: 1, Train Loss: 162.338417, Mean: 6086.92, Min: 3367.94, Max: 14502.04, Median: 5681.31, Dealed/Records: 58880/200000\n",
      "epoch: 1, Train Loss: 166.453682, Mean: 6134.89, Min: 3264.40, Max: 15897.82, Median: 5627.85, Dealed/Records: 59392/200000\n",
      "epoch: 1, Train Loss: 147.297444, Mean: 6044.52, Min: 2985.32, Max: 16050.26, Median: 5517.95, Dealed/Records: 59904/200000\n",
      "epoch: 1, Train Loss: 158.348385, Mean: 6121.37, Min: 3048.01, Max: 16112.44, Median: 5599.17, Dealed/Records: 60416/200000\n",
      "epoch: 1, Train Loss: 175.016634, Mean: 6086.84, Min: 3225.88, Max: 15636.85, Median: 5713.17, Dealed/Records: 60928/200000\n",
      "epoch: 1, Train Loss: 154.239212, Mean: 6018.74, Min: 3436.99, Max: 15093.20, Median: 5592.47, Dealed/Records: 61440/200000\n",
      "epoch: 1, Train Loss: 161.112769, Mean: 5967.51, Min: 2823.89, Max: 14808.20, Median: 5521.46, Dealed/Records: 61952/200000\n",
      "epoch: 1, Train Loss: 146.478221, Mean: 6107.88, Min: 3122.80, Max: 16540.90, Median: 5729.35, Dealed/Records: 62464/200000\n",
      "epoch: 1, Train Loss: 166.229604, Mean: 6236.98, Min: 3400.16, Max: 14946.12, Median: 5742.16, Dealed/Records: 62976/200000\n",
      "epoch: 1, Train Loss: 166.381521, Mean: 6119.48, Min: 3270.80, Max: 14621.66, Median: 5720.32, Dealed/Records: 63488/200000\n",
      "epoch: 1, Train Loss: 139.764359, Mean: 6144.37, Min: 3174.54, Max: 17008.14, Median: 5621.41, Dealed/Records: 64000/200000\n",
      "epoch: 1, Train Loss: 152.755057, Mean: 6129.00, Min: 3181.96, Max: 17037.64, Median: 5696.03, Dealed/Records: 64512/200000\n",
      "epoch: 1, Train Loss: 149.649649, Mean: 6380.18, Min: 3207.07, Max: 16882.60, Median: 5810.23, Dealed/Records: 65024/200000\n",
      "epoch: 1, Train Loss: 151.184012, Mean: 6214.95, Min: 2939.71, Max: 16270.77, Median: 5747.23, Dealed/Records: 65536/200000\n",
      "epoch: 1, Train Loss: 162.299353, Mean: 6345.04, Min: 3314.27, Max: 16373.29, Median: 5751.74, Dealed/Records: 66048/200000\n",
      "epoch: 1, Train Loss: 167.160161, Mean: 6171.48, Min: 3084.33, Max: 15531.61, Median: 5837.95, Dealed/Records: 66560/200000\n",
      "epoch: 1, Train Loss: 159.734558, Mean: 6197.25, Min: 3113.64, Max: 15011.50, Median: 5839.85, Dealed/Records: 67072/200000\n",
      "epoch: 1, Train Loss: 152.111319, Mean: 6270.86, Min: 3279.79, Max: 14508.50, Median: 5876.64, Dealed/Records: 67584/200000\n",
      "epoch: 1, Train Loss: 137.077048, Mean: 6352.75, Min: 3278.43, Max: 16652.48, Median: 5887.61, Dealed/Records: 68096/200000\n",
      "epoch: 1, Train Loss: 153.630562, Mean: 6306.63, Min: 3113.80, Max: 16435.60, Median: 5808.26, Dealed/Records: 68608/200000\n",
      "epoch: 1, Train Loss: 165.687135, Mean: 6319.36, Min: 3196.76, Max: 16895.81, Median: 5838.86, Dealed/Records: 69120/200000\n",
      "epoch: 1, Train Loss: 178.412925, Mean: 6448.30, Min: 3330.19, Max: 15358.18, Median: 5962.50, Dealed/Records: 69632/200000\n",
      "epoch: 1, Train Loss: 167.075360, Mean: 6395.61, Min: 3389.54, Max: 14840.36, Median: 5894.62, Dealed/Records: 70144/200000\n",
      "epoch: 1, Train Loss: 157.296825, Mean: 6373.68, Min: 3305.77, Max: 15413.44, Median: 5903.78, Dealed/Records: 70656/200000\n",
      "epoch: 1, Train Loss: 135.437601, Mean: 6366.91, Min: 3633.67, Max: 15655.39, Median: 5955.67, Dealed/Records: 71168/200000\n",
      "epoch: 1, Train Loss: 173.159637, Mean: 6393.71, Min: 3440.56, Max: 15417.82, Median: 5964.15, Dealed/Records: 71680/200000\n",
      "epoch: 1, Train Loss: 149.444767, Mean: 6384.05, Min: 2955.09, Max: 16594.24, Median: 5964.29, Dealed/Records: 72192/200000\n",
      "epoch: 1, Train Loss: 143.779189, Mean: 6307.97, Min: 3457.56, Max: 16373.41, Median: 5871.87, Dealed/Records: 72704/200000\n",
      "epoch: 1, Train Loss: 159.844737, Mean: 6391.57, Min: 3358.30, Max: 15982.48, Median: 5851.04, Dealed/Records: 73216/200000\n",
      "epoch: 1, Train Loss: 152.137479, Mean: 6444.42, Min: 3108.04, Max: 16075.87, Median: 6090.70, Dealed/Records: 73728/200000\n",
      "epoch: 1, Train Loss: 166.065499, Mean: 6540.51, Min: 3213.49, Max: 14197.91, Median: 6032.28, Dealed/Records: 74240/200000\n",
      "epoch: 1, Train Loss: 117.854266, Mean: 6250.35, Min: 3348.90, Max: 16527.56, Median: 5791.75, Dealed/Records: 74752/200000\n",
      "epoch: 1, Train Loss: 156.838405, Mean: 6523.37, Min: 3410.48, Max: 14643.14, Median: 6071.73, Dealed/Records: 75264/200000\n"
     ]
    },
    {
     "name": "stdout",
     "output_type": "stream",
     "text": [
      "epoch: 1, Train Loss: 154.456216, Mean: 6537.82, Min: 3388.21, Max: 14831.00, Median: 6120.02, Dealed/Records: 75776/200000\n",
      "epoch: 1, Train Loss: 144.637998, Mean: 6558.94, Min: 3436.68, Max: 14718.12, Median: 6000.49, Dealed/Records: 76288/200000\n",
      "epoch: 1, Train Loss: 161.561080, Mean: 6591.93, Min: 3523.83, Max: 16728.01, Median: 6185.27, Dealed/Records: 76800/200000\n",
      "epoch: 1, Train Loss: 152.103891, Mean: 6380.10, Min: 3436.65, Max: 15457.64, Median: 5983.30, Dealed/Records: 77312/200000\n",
      "epoch: 1, Train Loss: 163.430354, Mean: 6515.16, Min: 3689.18, Max: 15489.94, Median: 6132.11, Dealed/Records: 77824/200000\n",
      "epoch: 1, Train Loss: 159.521501, Mean: 6426.27, Min: 3420.76, Max: 14903.76, Median: 5991.97, Dealed/Records: 78336/200000\n",
      "epoch: 1, Train Loss: 133.007401, Mean: 6587.49, Min: 3475.27, Max: 16650.55, Median: 6123.76, Dealed/Records: 78848/200000\n",
      "epoch: 1, Train Loss: 158.197748, Mean: 6441.41, Min: 3417.95, Max: 15777.65, Median: 6026.43, Dealed/Records: 79360/200000\n",
      "epoch: 1, Train Loss: 173.126252, Mean: 6677.57, Min: 3599.95, Max: 16283.52, Median: 6215.91, Dealed/Records: 79872/200000\n",
      "epoch: 1, Train Loss: 158.515710, Mean: 6461.75, Min: 3498.00, Max: 14075.05, Median: 5965.24, Dealed/Records: 80384/200000\n",
      "epoch: 1, Train Loss: 150.576159, Mean: 6527.72, Min: 3469.02, Max: 16776.70, Median: 6065.30, Dealed/Records: 80896/200000\n",
      "epoch: 1, Train Loss: 160.543231, Mean: 6775.77, Min: 3594.79, Max: 14686.71, Median: 6238.40, Dealed/Records: 81408/200000\n",
      "epoch: 1, Train Loss: 153.105707, Mean: 6757.47, Min: 3628.41, Max: 17653.93, Median: 6219.32, Dealed/Records: 81920/200000\n",
      "epoch: 1, Train Loss: 149.486726, Mean: 6575.67, Min: 3262.22, Max: 16070.29, Median: 6218.58, Dealed/Records: 82432/200000\n",
      "epoch: 1, Train Loss: 147.547821, Mean: 6670.47, Min: 2859.48, Max: 15500.40, Median: 6162.42, Dealed/Records: 82944/200000\n",
      "epoch: 1, Train Loss: 137.179876, Mean: 6615.62, Min: 3586.61, Max: 16107.24, Median: 6209.55, Dealed/Records: 83456/200000\n",
      "epoch: 1, Train Loss: 145.542613, Mean: 6641.09, Min: 3735.64, Max: 16043.43, Median: 6247.25, Dealed/Records: 83968/200000\n",
      "epoch: 1, Train Loss: 171.507380, Mean: 6786.35, Min: 3711.23, Max: 16261.44, Median: 6363.00, Dealed/Records: 84480/200000\n",
      "epoch: 1, Train Loss: 149.548494, Mean: 6667.89, Min: 3599.63, Max: 16869.43, Median: 6190.99, Dealed/Records: 84992/200000\n",
      "epoch: 1, Train Loss: 154.398632, Mean: 6739.14, Min: 3433.24, Max: 16076.83, Median: 6311.03, Dealed/Records: 85504/200000\n",
      "epoch: 1, Train Loss: 145.098485, Mean: 6780.27, Min: 3583.45, Max: 15686.21, Median: 6303.09, Dealed/Records: 86016/200000\n",
      "epoch: 1, Train Loss: 153.216535, Mean: 6869.40, Min: 3627.30, Max: 16285.98, Median: 6270.66, Dealed/Records: 86528/200000\n",
      "epoch: 1, Train Loss: 149.143754, Mean: 6718.51, Min: 3562.91, Max: 15733.03, Median: 6285.99, Dealed/Records: 87040/200000\n",
      "epoch: 1, Train Loss: 139.400208, Mean: 6803.82, Min: 3782.95, Max: 15854.33, Median: 6324.74, Dealed/Records: 87552/200000\n",
      "epoch: 1, Train Loss: 147.705623, Mean: 6704.64, Min: 3597.61, Max: 15969.13, Median: 6196.96, Dealed/Records: 88064/200000\n",
      "epoch: 1, Train Loss: 155.949837, Mean: 6748.82, Min: 3219.32, Max: 16685.50, Median: 6392.66, Dealed/Records: 88576/200000\n",
      "epoch: 1, Train Loss: 148.715706, Mean: 6801.89, Min: 3705.70, Max: 16664.12, Median: 6355.51, Dealed/Records: 89088/200000\n",
      "epoch: 1, Train Loss: 140.027362, Mean: 6663.05, Min: 3481.45, Max: 16527.03, Median: 6166.91, Dealed/Records: 89600/200000\n",
      "epoch: 1, Train Loss: 153.563282, Mean: 6791.01, Min: 3644.02, Max: 16241.57, Median: 6345.78, Dealed/Records: 90112/200000\n",
      "epoch: 1, Train Loss: 159.850712, Mean: 6873.36, Min: 3594.66, Max: 15054.95, Median: 6360.18, Dealed/Records: 90624/200000\n",
      "epoch: 1, Train Loss: 144.393296, Mean: 6791.88, Min: 3492.52, Max: 15970.34, Median: 6342.10, Dealed/Records: 91136/200000\n",
      "epoch: 1, Train Loss: 146.032196, Mean: 6827.38, Min: 3559.05, Max: 16376.23, Median: 6428.67, Dealed/Records: 91648/200000\n",
      "epoch: 1, Train Loss: 145.773161, Mean: 6737.27, Min: 3565.63, Max: 15109.20, Median: 6477.44, Dealed/Records: 92160/200000\n",
      "epoch: 1, Train Loss: 150.616720, Mean: 6767.42, Min: 3729.68, Max: 14980.39, Median: 6443.44, Dealed/Records: 92672/200000\n",
      "epoch: 1, Train Loss: 171.482689, Mean: 6784.70, Min: 3616.32, Max: 15705.01, Median: 6445.74, Dealed/Records: 93184/200000\n",
      "epoch: 1, Train Loss: 139.550303, Mean: 6856.30, Min: 3756.97, Max: 16388.30, Median: 6361.23, Dealed/Records: 93696/200000\n",
      "epoch: 1, Train Loss: 149.182577, Mean: 6855.80, Min: 3741.61, Max: 16887.44, Median: 6435.10, Dealed/Records: 94208/200000\n",
      "epoch: 1, Train Loss: 144.209016, Mean: 7016.08, Min: 3670.08, Max: 16677.82, Median: 6501.80, Dealed/Records: 94720/200000\n",
      "epoch: 1, Train Loss: 148.368616, Mean: 6740.11, Min: 3762.75, Max: 14566.29, Median: 6409.96, Dealed/Records: 95232/200000\n",
      "epoch: 1, Train Loss: 144.325722, Mean: 6898.32, Min: 3760.12, Max: 16399.86, Median: 6476.06, Dealed/Records: 95744/200000\n",
      "epoch: 1, Train Loss: 143.530008, Mean: 6935.71, Min: 3199.52, Max: 16070.88, Median: 6442.97, Dealed/Records: 96256/200000\n",
      "epoch: 1, Train Loss: 139.064853, Mean: 6981.48, Min: 3901.95, Max: 16405.04, Median: 6582.24, Dealed/Records: 96768/200000\n",
      "epoch: 1, Train Loss: 149.692582, Mean: 6965.68, Min: 3976.10, Max: 15708.99, Median: 6427.00, Dealed/Records: 97280/200000\n",
      "epoch: 1, Train Loss: 133.998091, Mean: 6925.47, Min: 3200.20, Max: 17035.40, Median: 6477.72, Dealed/Records: 97792/200000\n",
      "epoch: 1, Train Loss: 168.626569, Mean: 7022.71, Min: 3135.63, Max: 16229.46, Median: 6656.83, Dealed/Records: 98304/200000\n",
      "epoch: 1, Train Loss: 143.351615, Mean: 6960.34, Min: 3695.39, Max: 16927.31, Median: 6609.81, Dealed/Records: 98816/200000\n",
      "epoch: 1, Train Loss: 154.809762, Mean: 7153.98, Min: 3716.94, Max: 17022.93, Median: 6587.42, Dealed/Records: 99328/200000\n",
      "epoch: 1, Train Loss: 166.822370, Mean: 6919.73, Min: 3331.22, Max: 16134.26, Median: 6457.90, Dealed/Records: 99840/200000\n",
      "epoch: 1, Train Loss: 135.290565, Mean: 7012.47, Min: 3757.81, Max: 16080.50, Median: 6540.06, Dealed/Records: 100352/200000\n",
      "epoch: 1, Train Loss: 133.456373, Mean: 6867.85, Min: 3793.12, Max: 13997.78, Median: 6472.75, Dealed/Records: 100864/200000\n",
      "epoch: 1, Train Loss: 138.026025, Mean: 7029.74, Min: 3562.15, Max: 17482.02, Median: 6555.60, Dealed/Records: 101376/200000\n",
      "epoch: 1, Train Loss: 148.555723, Mean: 7017.34, Min: 3674.06, Max: 16239.69, Median: 6554.78, Dealed/Records: 101888/200000\n",
      "epoch: 1, Train Loss: 133.057120, Mean: 7021.07, Min: 4091.13, Max: 15305.90, Median: 6498.88, Dealed/Records: 102400/200000\n",
      "epoch: 1, Train Loss: 161.128224, Mean: 7094.96, Min: 3711.57, Max: 16143.00, Median: 6598.67, Dealed/Records: 102912/200000\n",
      "epoch: 1, Train Loss: 127.425495, Mean: 6960.39, Min: 3989.20, Max: 14674.59, Median: 6509.30, Dealed/Records: 103424/200000\n",
      "epoch: 1, Train Loss: 140.882279, Mean: 7054.04, Min: 3608.37, Max: 16083.09, Median: 6672.09, Dealed/Records: 103936/200000\n",
      "epoch: 1, Train Loss: 155.632386, Mean: 7078.32, Min: 3970.09, Max: 15223.14, Median: 6602.93, Dealed/Records: 104448/200000\n",
      "epoch: 1, Train Loss: 110.488320, Mean: 7015.08, Min: 3535.98, Max: 15317.99, Median: 6556.66, Dealed/Records: 104960/200000\n",
      "epoch: 1, Train Loss: 139.081642, Mean: 7042.03, Min: 3791.56, Max: 16531.88, Median: 6596.06, Dealed/Records: 105472/200000\n",
      "epoch: 1, Train Loss: 141.505038, Mean: 7095.51, Min: 3319.91, Max: 15698.33, Median: 6543.27, Dealed/Records: 105984/200000\n",
      "epoch: 1, Train Loss: 140.832652, Mean: 7148.71, Min: 3908.78, Max: 16902.71, Median: 6658.71, Dealed/Records: 106496/200000\n",
      "epoch: 1, Train Loss: 129.674751, Mean: 6915.45, Min: 3699.31, Max: 16090.45, Median: 6542.46, Dealed/Records: 107008/200000\n",
      "epoch: 1, Train Loss: 148.518136, Mean: 7050.04, Min: 3910.82, Max: 16411.39, Median: 6681.47, Dealed/Records: 107520/200000\n",
      "epoch: 1, Train Loss: 136.528056, Mean: 7175.81, Min: 3807.76, Max: 16166.74, Median: 6736.54, Dealed/Records: 108032/200000\n",
      "epoch: 1, Train Loss: 139.158618, Mean: 7099.76, Min: 3625.96, Max: 14731.11, Median: 6634.94, Dealed/Records: 108544/200000\n",
      "epoch: 1, Train Loss: 153.856194, Mean: 7142.22, Min: 3266.25, Max: 16846.12, Median: 6513.84, Dealed/Records: 109056/200000\n",
      "epoch: 1, Train Loss: 123.743150, Mean: 6975.00, Min: 4046.71, Max: 16161.15, Median: 6626.91, Dealed/Records: 109568/200000\n",
      "epoch: 1, Train Loss: 150.655987, Mean: 7141.84, Min: 4071.60, Max: 16003.97, Median: 6679.83, Dealed/Records: 110080/200000\n",
      "epoch: 1, Train Loss: 139.554446, Mean: 7272.43, Min: 3907.87, Max: 17063.24, Median: 6710.20, Dealed/Records: 110592/200000\n",
      "epoch: 1, Train Loss: 120.626619, Mean: 7068.19, Min: 3367.09, Max: 16950.98, Median: 6635.62, Dealed/Records: 111104/200000\n",
      "epoch: 1, Train Loss: 145.622760, Mean: 7215.83, Min: 3394.85, Max: 15636.10, Median: 6783.39, Dealed/Records: 111616/200000\n",
      "epoch: 1, Train Loss: 155.091449, Mean: 7269.18, Min: 3515.70, Max: 16746.85, Median: 6728.11, Dealed/Records: 112128/200000\n",
      "epoch: 1, Train Loss: 162.204852, Mean: 7259.15, Min: 3860.95, Max: 16308.94, Median: 6677.57, Dealed/Records: 112640/200000\n",
      "epoch: 1, Train Loss: 136.857505, Mean: 7223.10, Min: 3712.10, Max: 15664.88, Median: 6833.39, Dealed/Records: 113152/200000\n",
      "epoch: 1, Train Loss: 140.028854, Mean: 7255.43, Min: 3579.01, Max: 16459.44, Median: 6751.30, Dealed/Records: 113664/200000\n",
      "epoch: 1, Train Loss: 138.495318, Mean: 7147.65, Min: 3515.01, Max: 15247.41, Median: 6817.00, Dealed/Records: 114176/200000\n",
      "epoch: 1, Train Loss: 163.004397, Mean: 7194.55, Min: 3878.98, Max: 15117.61, Median: 6824.83, Dealed/Records: 114688/200000\n",
      "epoch: 1, Train Loss: 125.733982, Mean: 7087.44, Min: 4001.28, Max: 13739.15, Median: 6713.81, Dealed/Records: 115200/200000\n",
      "epoch: 1, Train Loss: 136.141463, Mean: 7190.06, Min: 3773.07, Max: 16046.76, Median: 6807.15, Dealed/Records: 115712/200000\n",
      "epoch: 1, Train Loss: 131.143446, Mean: 7067.41, Min: 3748.15, Max: 15273.48, Median: 6579.34, Dealed/Records: 116224/200000\n",
      "epoch: 1, Train Loss: 122.921370, Mean: 7338.09, Min: 4355.00, Max: 14845.08, Median: 6773.89, Dealed/Records: 116736/200000\n",
      "epoch: 1, Train Loss: 145.664627, Mean: 7300.75, Min: 3552.31, Max: 16888.21, Median: 6808.40, Dealed/Records: 117248/200000\n",
      "epoch: 1, Train Loss: 121.172168, Mean: 7241.87, Min: 3892.29, Max: 16766.91, Median: 6828.31, Dealed/Records: 117760/200000\n",
      "epoch: 1, Train Loss: 143.885656, Mean: 7337.82, Min: 3952.43, Max: 17617.27, Median: 6748.15, Dealed/Records: 118272/200000\n",
      "epoch: 1, Train Loss: 139.844096, Mean: 7155.90, Min: 4076.69, Max: 15419.93, Median: 6661.50, Dealed/Records: 118784/200000\n",
      "epoch: 1, Train Loss: 134.120224, Mean: 7231.03, Min: 4152.71, Max: 16602.98, Median: 6774.85, Dealed/Records: 119296/200000\n",
      "epoch: 1, Train Loss: 134.238790, Mean: 7332.92, Min: 4042.86, Max: 16028.47, Median: 6749.25, Dealed/Records: 119808/200000\n",
      "epoch: 1, Train Loss: 136.049322, Mean: 7195.87, Min: 3830.29, Max: 16825.67, Median: 6774.27, Dealed/Records: 120320/200000\n",
      "epoch: 1, Train Loss: 140.435184, Mean: 7297.67, Min: 4039.06, Max: 16286.64, Median: 6819.10, Dealed/Records: 120832/200000\n",
      "epoch: 1, Train Loss: 138.470185, Mean: 7242.00, Min: 3851.44, Max: 15786.17, Median: 6933.70, Dealed/Records: 121344/200000\n",
      "epoch: 1, Train Loss: 153.308245, Mean: 7306.00, Min: 3656.12, Max: 16719.01, Median: 6843.04, Dealed/Records: 121856/200000\n",
      "epoch: 1, Train Loss: 145.952729, Mean: 7283.44, Min: 3708.38, Max: 15105.59, Median: 6807.85, Dealed/Records: 122368/200000\n",
      "epoch: 1, Train Loss: 128.674583, Mean: 7274.92, Min: 3870.35, Max: 16332.37, Median: 6770.67, Dealed/Records: 122880/200000\n",
      "epoch: 1, Train Loss: 149.164836, Mean: 7184.53, Min: 4007.38, Max: 14587.69, Median: 6831.52, Dealed/Records: 123392/200000\n",
      "epoch: 1, Train Loss: 155.751731, Mean: 7444.44, Min: 4094.82, Max: 16116.50, Median: 6956.94, Dealed/Records: 123904/200000\n",
      "epoch: 1, Train Loss: 120.405694, Mean: 7281.91, Min: 3478.07, Max: 16794.44, Median: 6803.55, Dealed/Records: 124416/200000\n",
      "epoch: 1, Train Loss: 117.554862, Mean: 7350.55, Min: 3854.00, Max: 14737.08, Median: 6905.36, Dealed/Records: 124928/200000\n",
      "epoch: 1, Train Loss: 135.012022, Mean: 7265.81, Min: 3663.22, Max: 16596.19, Median: 6875.49, Dealed/Records: 125440/200000\n",
      "epoch: 1, Train Loss: 139.439965, Mean: 7303.84, Min: 3469.45, Max: 15818.16, Median: 6823.70, Dealed/Records: 125952/200000\n",
      "epoch: 1, Train Loss: 149.952584, Mean: 7221.50, Min: 4170.25, Max: 14804.08, Median: 6908.42, Dealed/Records: 126464/200000\n",
      "epoch: 1, Train Loss: 160.460014, Mean: 7400.31, Min: 3986.70, Max: 16406.82, Median: 6962.99, Dealed/Records: 126976/200000\n",
      "epoch: 1, Train Loss: 125.205433, Mean: 7248.44, Min: 3950.61, Max: 16502.48, Median: 6934.37, Dealed/Records: 127488/200000\n",
      "epoch: 1, Train Loss: 135.535051, Mean: 7275.85, Min: 3747.89, Max: 15628.37, Median: 6949.55, Dealed/Records: 128000/200000\n",
      "epoch: 1, Train Loss: 148.492542, Mean: 7361.83, Min: 4101.27, Max: 15979.36, Median: 6826.28, Dealed/Records: 128512/200000\n",
      "epoch: 1, Train Loss: 143.057769, Mean: 7166.17, Min: 3718.80, Max: 15775.03, Median: 6672.31, Dealed/Records: 129024/200000\n",
      "epoch: 1, Train Loss: 129.279660, Mean: 7358.07, Min: 4100.30, Max: 15496.30, Median: 6913.53, Dealed/Records: 129536/200000\n",
      "epoch: 1, Train Loss: 158.503851, Mean: 7469.45, Min: 3508.64, Max: 16355.49, Median: 6897.72, Dealed/Records: 130048/200000\n",
      "epoch: 1, Train Loss: 128.526900, Mean: 7214.42, Min: 3708.29, Max: 15314.21, Median: 6818.89, Dealed/Records: 130560/200000\n",
      "epoch: 1, Train Loss: 116.099108, Mean: 7294.75, Min: 3607.80, Max: 16609.98, Median: 6894.86, Dealed/Records: 131072/200000\n",
      "epoch: 1, Train Loss: 135.593120, Mean: 7375.05, Min: 4052.86, Max: 15059.03, Median: 6927.52, Dealed/Records: 131584/200000\n",
      "epoch: 1, Train Loss: 133.498917, Mean: 7322.91, Min: 3519.06, Max: 16997.18, Median: 6823.27, Dealed/Records: 132096/200000\n",
      "epoch: 1, Train Loss: 144.659960, Mean: 7350.94, Min: 4092.72, Max: 15881.68, Median: 6912.00, Dealed/Records: 132608/200000\n",
      "epoch: 1, Train Loss: 131.550823, Mean: 7447.21, Min: 3359.21, Max: 16072.24, Median: 7043.99, Dealed/Records: 133120/200000\n",
      "epoch: 1, Train Loss: 128.590352, Mean: 7322.98, Min: 3520.06, Max: 16066.21, Median: 6839.06, Dealed/Records: 133632/200000\n",
      "epoch: 1, Train Loss: 143.642827, Mean: 7399.92, Min: 4257.65, Max: 16578.57, Median: 6927.05, Dealed/Records: 134144/200000\n",
      "epoch: 1, Train Loss: 142.121722, Mean: 7366.93, Min: 3807.64, Max: 16313.62, Median: 6902.56, Dealed/Records: 134656/200000\n"
     ]
    },
    {
     "name": "stdout",
     "output_type": "stream",
     "text": [
      "epoch: 1, Train Loss: 131.514065, Mean: 7186.60, Min: 3779.46, Max: 17361.83, Median: 6818.21, Dealed/Records: 135168/200000\n",
      "epoch: 1, Train Loss: 143.288055, Mean: 7386.50, Min: 3801.27, Max: 14832.89, Median: 7039.92, Dealed/Records: 135680/200000\n",
      "epoch: 1, Train Loss: 150.036883, Mean: 7268.52, Min: 4162.37, Max: 15535.33, Median: 6840.41, Dealed/Records: 136192/200000\n",
      "epoch: 1, Train Loss: 141.128868, Mean: 7501.73, Min: 4063.33, Max: 15726.67, Median: 7043.90, Dealed/Records: 136704/200000\n",
      "epoch: 1, Train Loss: 109.248127, Mean: 7265.80, Min: 4107.62, Max: 15497.35, Median: 6826.37, Dealed/Records: 137216/200000\n",
      "epoch: 1, Train Loss: 131.496510, Mean: 7487.28, Min: 3988.59, Max: 16101.86, Median: 7004.90, Dealed/Records: 137728/200000\n",
      "epoch: 1, Train Loss: 145.187036, Mean: 7477.57, Min: 3920.23, Max: 15983.07, Median: 7032.20, Dealed/Records: 138240/200000\n",
      "epoch: 1, Train Loss: 149.169812, Mean: 7400.66, Min: 3841.59, Max: 16962.79, Median: 7012.65, Dealed/Records: 138752/200000\n",
      "epoch: 1, Train Loss: 131.388825, Mean: 7431.76, Min: 4043.19, Max: 15853.20, Median: 7037.14, Dealed/Records: 139264/200000\n",
      "epoch: 1, Train Loss: 139.908571, Mean: 7390.12, Min: 4102.79, Max: 16948.92, Median: 6946.45, Dealed/Records: 139776/200000\n",
      "epoch: 1, Train Loss: 122.267597, Mean: 7298.84, Min: 4115.84, Max: 16530.55, Median: 6796.44, Dealed/Records: 140288/200000\n",
      "epoch: 1, Train Loss: 120.885147, Mean: 7420.45, Min: 4020.77, Max: 16356.22, Median: 6963.32, Dealed/Records: 140800/200000\n",
      "epoch: 1, Train Loss: 137.534271, Mean: 7440.21, Min: 4236.19, Max: 14895.84, Median: 6995.54, Dealed/Records: 141312/200000\n",
      "epoch: 1, Train Loss: 133.373228, Mean: 7337.53, Min: 3957.17, Max: 15928.64, Median: 6970.42, Dealed/Records: 141824/200000\n",
      "epoch: 1, Train Loss: 154.543424, Mean: 7324.69, Min: 3772.38, Max: 14977.70, Median: 6923.34, Dealed/Records: 142336/200000\n",
      "epoch: 1, Train Loss: 152.331573, Mean: 7393.35, Min: 3040.01, Max: 15237.76, Median: 6914.88, Dealed/Records: 142848/200000\n",
      "epoch: 1, Train Loss: 130.889169, Mean: 7253.50, Min: 4388.95, Max: 14228.32, Median: 6847.43, Dealed/Records: 143360/200000\n",
      "epoch: 1, Train Loss: 131.490828, Mean: 7496.17, Min: 4170.79, Max: 16009.44, Median: 7052.55, Dealed/Records: 143872/200000\n",
      "epoch: 1, Train Loss: 130.835387, Mean: 7549.62, Min: 4029.61, Max: 16928.31, Median: 7041.02, Dealed/Records: 144384/200000\n",
      "epoch: 1, Train Loss: 130.258007, Mean: 7426.59, Min: 4084.20, Max: 15893.08, Median: 6996.08, Dealed/Records: 144896/200000\n",
      "epoch: 1, Train Loss: 126.417826, Mean: 7374.89, Min: 4092.56, Max: 15206.29, Median: 6963.62, Dealed/Records: 145408/200000\n",
      "epoch: 1, Train Loss: 131.884923, Mean: 7422.56, Min: 3969.52, Max: 15878.74, Median: 6967.92, Dealed/Records: 145920/200000\n",
      "epoch: 1, Train Loss: 136.906888, Mean: 7403.27, Min: 3746.45, Max: 15390.05, Median: 7039.92, Dealed/Records: 146432/200000\n",
      "epoch: 1, Train Loss: 119.619445, Mean: 7276.56, Min: 4048.83, Max: 16242.54, Median: 6990.42, Dealed/Records: 146944/200000\n",
      "epoch: 1, Train Loss: 129.845514, Mean: 7528.93, Min: 4081.65, Max: 14825.29, Median: 7124.22, Dealed/Records: 147456/200000\n",
      "epoch: 1, Train Loss: 119.514300, Mean: 7513.02, Min: 4082.64, Max: 14876.87, Median: 6983.65, Dealed/Records: 147968/200000\n",
      "epoch: 1, Train Loss: 139.798020, Mean: 7501.79, Min: 4164.17, Max: 13448.23, Median: 7150.22, Dealed/Records: 148480/200000\n",
      "epoch: 1, Train Loss: 137.564530, Mean: 7441.93, Min: 3866.28, Max: 16302.41, Median: 6977.90, Dealed/Records: 148992/200000\n",
      "epoch: 1, Train Loss: 118.264707, Mean: 7418.30, Min: 4105.76, Max: 15768.94, Median: 6919.55, Dealed/Records: 149504/200000\n",
      "epoch: 1, Train Loss: 143.242978, Mean: 7517.74, Min: 4007.10, Max: 16140.95, Median: 7084.12, Dealed/Records: 150016/200000\n",
      "epoch: 1, Train Loss: 135.358436, Mean: 7428.84, Min: 3776.66, Max: 15788.45, Median: 6974.00, Dealed/Records: 150528/200000\n",
      "epoch: 1, Train Loss: 123.979298, Mean: 7472.20, Min: 4187.03, Max: 15532.22, Median: 6990.81, Dealed/Records: 151040/200000\n",
      "epoch: 1, Train Loss: 118.826168, Mean: 7297.74, Min: 4026.21, Max: 16038.18, Median: 6960.35, Dealed/Records: 151552/200000\n",
      "epoch: 1, Train Loss: 125.409836, Mean: 7426.94, Min: 3846.69, Max: 15002.85, Median: 7008.72, Dealed/Records: 152064/200000\n",
      "epoch: 1, Train Loss: 131.149150, Mean: 7387.27, Min: 4179.28, Max: 15742.38, Median: 6871.54, Dealed/Records: 152576/200000\n",
      "epoch: 1, Train Loss: 129.222079, Mean: 7455.90, Min: 3929.78, Max: 14845.65, Median: 7107.39, Dealed/Records: 153088/200000\n",
      "epoch: 1, Train Loss: 114.775324, Mean: 7315.48, Min: 4238.62, Max: 15710.58, Median: 6966.49, Dealed/Records: 153600/200000\n",
      "epoch: 1, Train Loss: 118.489665, Mean: 7550.01, Min: 3702.39, Max: 14843.33, Median: 7027.76, Dealed/Records: 154112/200000\n",
      "epoch: 1, Train Loss: 130.092305, Mean: 7424.79, Min: 4133.29, Max: 14622.60, Median: 7074.39, Dealed/Records: 154624/200000\n",
      "epoch: 1, Train Loss: 129.383688, Mean: 7536.75, Min: 4116.93, Max: 15765.35, Median: 7157.34, Dealed/Records: 155136/200000\n",
      "epoch: 1, Train Loss: 130.403026, Mean: 7535.22, Min: 3914.81, Max: 16852.89, Median: 7069.12, Dealed/Records: 155648/200000\n",
      "epoch: 1, Train Loss: 119.452785, Mean: 7361.86, Min: 4167.65, Max: 14492.42, Median: 7044.01, Dealed/Records: 156160/200000\n",
      "epoch: 1, Train Loss: 139.005993, Mean: 7517.20, Min: 4084.54, Max: 15625.54, Median: 7030.64, Dealed/Records: 156672/200000\n",
      "epoch: 1, Train Loss: 113.332919, Mean: 7552.88, Min: 4087.38, Max: 16090.67, Median: 7108.79, Dealed/Records: 157184/200000\n",
      "epoch: 1, Train Loss: 136.956611, Mean: 7614.60, Min: 4255.98, Max: 15434.25, Median: 7156.90, Dealed/Records: 157696/200000\n",
      "epoch: 1, Train Loss: 123.561247, Mean: 7315.50, Min: 4147.18, Max: 14783.95, Median: 7044.00, Dealed/Records: 158208/200000\n",
      "epoch: 1, Train Loss: 141.880458, Mean: 7453.89, Min: 4309.91, Max: 15843.01, Median: 7089.34, Dealed/Records: 158720/200000\n",
      "epoch: 1, Train Loss: 124.648408, Mean: 7492.15, Min: 4214.72, Max: 15827.04, Median: 7178.80, Dealed/Records: 159232/200000\n",
      "epoch: 1, Train Loss: 129.764811, Mean: 7471.90, Min: 3624.76, Max: 15481.87, Median: 7111.22, Dealed/Records: 159744/200000\n",
      "epoch: 1, Train Loss: 122.091414, Mean: 7475.00, Min: 3847.79, Max: 14876.45, Median: 7017.80, Dealed/Records: 160256/200000\n",
      "epoch: 1, Train Loss: 110.780223, Mean: 7514.22, Min: 4283.13, Max: 14114.95, Median: 7144.35, Dealed/Records: 160768/200000\n",
      "epoch: 1, Train Loss: 126.240269, Mean: 7483.96, Min: 3715.84, Max: 14592.33, Median: 7037.49, Dealed/Records: 161280/200000\n",
      "epoch: 1, Train Loss: 133.835545, Mean: 7411.55, Min: 4142.73, Max: 15506.56, Median: 7042.96, Dealed/Records: 161792/200000\n",
      "epoch: 1, Train Loss: 123.971196, Mean: 7461.97, Min: 3848.86, Max: 14642.16, Median: 7204.33, Dealed/Records: 162304/200000\n",
      "epoch: 1, Train Loss: 130.858046, Mean: 7574.24, Min: 4404.48, Max: 14391.24, Median: 7133.48, Dealed/Records: 162816/200000\n",
      "epoch: 1, Train Loss: 118.322062, Mean: 7390.26, Min: 3849.19, Max: 16055.94, Median: 6946.99, Dealed/Records: 163328/200000\n",
      "epoch: 1, Train Loss: 121.860231, Mean: 7581.37, Min: 4036.72, Max: 14409.98, Median: 7240.43, Dealed/Records: 163840/200000\n",
      "epoch: 1, Train Loss: 116.721749, Mean: 7412.90, Min: 4208.31, Max: 14782.93, Median: 6941.17, Dealed/Records: 164352/200000\n",
      "epoch: 1, Train Loss: 134.324198, Mean: 7561.61, Min: 4143.73, Max: 14657.33, Median: 7157.25, Dealed/Records: 164864/200000\n",
      "epoch: 1, Train Loss: 127.276497, Mean: 7483.39, Min: 3844.62, Max: 14949.23, Median: 7051.97, Dealed/Records: 165376/200000\n",
      "epoch: 1, Train Loss: 120.380196, Mean: 7493.12, Min: 3658.06, Max: 14631.82, Median: 6973.27, Dealed/Records: 165888/200000\n",
      "epoch: 1, Train Loss: 125.724300, Mean: 7643.77, Min: 4122.75, Max: 14930.58, Median: 7330.89, Dealed/Records: 166400/200000\n",
      "epoch: 1, Train Loss: 114.467526, Mean: 7477.77, Min: 4062.35, Max: 15957.43, Median: 6996.94, Dealed/Records: 166912/200000\n",
      "epoch: 1, Train Loss: 120.902563, Mean: 7687.51, Min: 3988.17, Max: 14608.38, Median: 7176.44, Dealed/Records: 167424/200000\n",
      "epoch: 1, Train Loss: 144.857702, Mean: 7431.39, Min: 4066.44, Max: 15471.95, Median: 6964.60, Dealed/Records: 167936/200000\n",
      "epoch: 1, Train Loss: 129.329302, Mean: 7385.34, Min: 4325.16, Max: 14743.79, Median: 7054.77, Dealed/Records: 168448/200000\n",
      "epoch: 1, Train Loss: 135.202113, Mean: 7623.11, Min: 4163.06, Max: 15093.43, Median: 7187.82, Dealed/Records: 168960/200000\n",
      "epoch: 1, Train Loss: 128.489223, Mean: 7594.25, Min: 3870.93, Max: 15230.21, Median: 7114.10, Dealed/Records: 169472/200000\n",
      "epoch: 1, Train Loss: 131.875452, Mean: 7646.78, Min: 4196.16, Max: 15146.42, Median: 7244.40, Dealed/Records: 169984/200000\n",
      "epoch: 1, Train Loss: 125.182784, Mean: 7527.70, Min: 3988.65, Max: 14214.82, Median: 7222.68, Dealed/Records: 170496/200000\n",
      "epoch: 1, Train Loss: 130.951357, Mean: 7504.01, Min: 3961.12, Max: 14553.97, Median: 7091.80, Dealed/Records: 171008/200000\n",
      "epoch: 1, Train Loss: 114.610716, Mean: 7457.43, Min: 3443.03, Max: 15423.42, Median: 7109.09, Dealed/Records: 171520/200000\n",
      "epoch: 1, Train Loss: 132.586602, Mean: 7413.87, Min: 3720.31, Max: 15777.82, Median: 6980.92, Dealed/Records: 172032/200000\n",
      "epoch: 1, Train Loss: 111.463428, Mean: 7628.94, Min: 4081.39, Max: 14523.10, Median: 7054.23, Dealed/Records: 172544/200000\n",
      "epoch: 1, Train Loss: 124.261860, Mean: 7494.88, Min: 4012.07, Max: 15441.19, Median: 7082.34, Dealed/Records: 173056/200000\n",
      "epoch: 1, Train Loss: 124.094919, Mean: 7669.63, Min: 4220.13, Max: 15875.69, Median: 7149.58, Dealed/Records: 173568/200000\n",
      "epoch: 1, Train Loss: 124.672277, Mean: 7390.83, Min: 3917.62, Max: 15198.61, Median: 7017.88, Dealed/Records: 174080/200000\n",
      "epoch: 1, Train Loss: 118.502114, Mean: 7558.46, Min: 4436.91, Max: 14304.91, Median: 7139.22, Dealed/Records: 174592/200000\n",
      "epoch: 1, Train Loss: 127.364887, Mean: 7563.92, Min: 4005.54, Max: 14577.77, Median: 7298.05, Dealed/Records: 175104/200000\n",
      "epoch: 1, Train Loss: 115.426743, Mean: 7581.02, Min: 4091.98, Max: 15536.78, Median: 7229.13, Dealed/Records: 175616/200000\n",
      "epoch: 1, Train Loss: 110.399603, Mean: 7650.79, Min: 3968.16, Max: 15526.65, Median: 7252.99, Dealed/Records: 176128/200000\n",
      "epoch: 1, Train Loss: 112.197667, Mean: 7601.69, Min: 4319.84, Max: 15271.74, Median: 7255.15, Dealed/Records: 176640/200000\n",
      "epoch: 1, Train Loss: 131.254613, Mean: 7608.31, Min: 4300.03, Max: 15698.10, Median: 7178.38, Dealed/Records: 177152/200000\n",
      "epoch: 1, Train Loss: 127.062911, Mean: 7577.53, Min: 4235.80, Max: 15826.88, Median: 7126.87, Dealed/Records: 177664/200000\n",
      "epoch: 1, Train Loss: 131.052232, Mean: 7714.91, Min: 4044.51, Max: 14739.12, Median: 7325.21, Dealed/Records: 178176/200000\n",
      "epoch: 1, Train Loss: 138.322914, Mean: 7606.52, Min: 4499.24, Max: 15041.29, Median: 7126.62, Dealed/Records: 178688/200000\n",
      "epoch: 1, Train Loss: 138.822623, Mean: 7518.73, Min: 4226.23, Max: 15629.97, Median: 7074.29, Dealed/Records: 179200/200000\n",
      "epoch: 1, Train Loss: 135.572153, Mean: 7597.68, Min: 4273.03, Max: 15436.05, Median: 7115.58, Dealed/Records: 179712/200000\n",
      "epoch: 1, Train Loss: 132.845400, Mean: 7627.39, Min: 3783.32, Max: 14532.00, Median: 7161.62, Dealed/Records: 180224/200000\n",
      "epoch: 1, Train Loss: 136.550586, Mean: 7660.29, Min: 4193.54, Max: 14402.54, Median: 7268.23, Dealed/Records: 180736/200000\n",
      "epoch: 1, Train Loss: 118.209696, Mean: 7513.51, Min: 3924.07, Max: 14284.25, Median: 7092.22, Dealed/Records: 181248/200000\n",
      "epoch: 1, Train Loss: 128.827616, Mean: 7537.16, Min: 4039.86, Max: 14326.60, Median: 7238.09, Dealed/Records: 181760/200000\n",
      "epoch: 1, Train Loss: 119.643428, Mean: 7534.90, Min: 4336.45, Max: 16245.83, Median: 7115.03, Dealed/Records: 182272/200000\n",
      "epoch: 1, Train Loss: 128.778092, Mean: 7638.76, Min: 3720.70, Max: 15885.75, Median: 7319.45, Dealed/Records: 182784/200000\n",
      "epoch: 1, Train Loss: 122.475492, Mean: 7338.79, Min: 3879.27, Max: 14249.83, Median: 7082.01, Dealed/Records: 183296/200000\n",
      "epoch: 1, Train Loss: 129.398307, Mean: 7743.47, Min: 4499.18, Max: 15398.82, Median: 7255.55, Dealed/Records: 183808/200000\n",
      "epoch: 1, Train Loss: 118.588492, Mean: 7610.52, Min: 4278.25, Max: 15494.09, Median: 7161.27, Dealed/Records: 184320/200000\n",
      "epoch: 1, Train Loss: 127.013306, Mean: 7586.10, Min: 4388.27, Max: 15002.70, Median: 7219.40, Dealed/Records: 184832/200000\n",
      "epoch: 1, Train Loss: 111.811845, Mean: 7604.18, Min: 4158.34, Max: 14681.34, Median: 7226.88, Dealed/Records: 185344/200000\n",
      "epoch: 1, Train Loss: 130.536393, Mean: 7629.78, Min: 3942.44, Max: 14858.88, Median: 7267.12, Dealed/Records: 185856/200000\n",
      "epoch: 1, Train Loss: 116.530010, Mean: 7503.97, Min: 4363.68, Max: 14821.53, Median: 7181.39, Dealed/Records: 186368/200000\n",
      "epoch: 1, Train Loss: 130.925648, Mean: 7663.04, Min: 4060.36, Max: 15140.05, Median: 7351.13, Dealed/Records: 186880/200000\n",
      "epoch: 1, Train Loss: 136.212968, Mean: 7530.70, Min: 3953.11, Max: 15412.11, Median: 7087.28, Dealed/Records: 187392/200000\n",
      "epoch: 1, Train Loss: 137.706166, Mean: 7764.63, Min: 4214.13, Max: 15441.94, Median: 7348.49, Dealed/Records: 187904/200000\n",
      "epoch: 1, Train Loss: 111.738552, Mean: 7442.65, Min: 4090.00, Max: 14881.67, Median: 7028.64, Dealed/Records: 188416/200000\n",
      "epoch: 1, Train Loss: 120.728756, Mean: 7547.37, Min: 3817.56, Max: 15635.40, Median: 7225.31, Dealed/Records: 188928/200000\n",
      "epoch: 1, Train Loss: 132.401120, Mean: 7592.03, Min: 4312.41, Max: 16095.06, Median: 7154.98, Dealed/Records: 189440/200000\n",
      "epoch: 1, Train Loss: 127.530216, Mean: 7619.08, Min: 3977.83, Max: 14502.61, Median: 7168.93, Dealed/Records: 189952/200000\n",
      "epoch: 1, Train Loss: 114.774975, Mean: 7588.62, Min: 4104.90, Max: 15377.18, Median: 7099.14, Dealed/Records: 190464/200000\n",
      "epoch: 1, Train Loss: 104.006296, Mean: 7597.19, Min: 3930.77, Max: 15324.61, Median: 7210.18, Dealed/Records: 190976/200000\n",
      "epoch: 1, Train Loss: 138.609628, Mean: 7460.02, Min: 4008.94, Max: 14973.24, Median: 7081.22, Dealed/Records: 191488/200000\n",
      "epoch: 1, Train Loss: 113.918004, Mean: 7646.74, Min: 4078.52, Max: 15412.32, Median: 7265.26, Dealed/Records: 192000/200000\n"
     ]
    },
    {
     "name": "stdout",
     "output_type": "stream",
     "text": [
      "epoch: 1, Train Loss: 116.255439, Mean: 7655.78, Min: 4091.31, Max: 15273.34, Median: 7287.36, Dealed/Records: 192512/200000\n",
      "epoch: 1, Train Loss: 106.757670, Mean: 7557.85, Min: 4156.06, Max: 13886.02, Median: 7167.41, Dealed/Records: 193024/200000\n",
      "epoch: 1, Train Loss: 125.885442, Mean: 7631.97, Min: 4406.20, Max: 14396.80, Median: 7356.80, Dealed/Records: 193536/200000\n",
      "epoch: 1, Train Loss: 118.627235, Mean: 7663.61, Min: 3787.23, Max: 15315.57, Median: 7363.70, Dealed/Records: 194048/200000\n",
      "epoch: 1, Train Loss: 132.897561, Mean: 7716.12, Min: 4141.71, Max: 14688.98, Median: 7314.44, Dealed/Records: 194560/200000\n",
      "epoch: 1, Train Loss: 120.945906, Mean: 7733.87, Min: 3664.61, Max: 14627.25, Median: 7422.38, Dealed/Records: 195072/200000\n",
      "epoch: 1, Train Loss: 117.573826, Mean: 7590.98, Min: 4292.58, Max: 14797.76, Median: 7206.36, Dealed/Records: 195584/200000\n",
      "epoch: 1, Train Loss: 136.833070, Mean: 7570.34, Min: 4293.75, Max: 14156.13, Median: 7270.31, Dealed/Records: 196096/200000\n",
      "epoch: 1, Train Loss: 137.821662, Mean: 7707.88, Min: 4425.18, Max: 14960.58, Median: 7336.81, Dealed/Records: 196608/200000\n",
      "epoch: 1, Train Loss: 123.864014, Mean: 7622.30, Min: 4103.11, Max: 14921.93, Median: 7284.01, Dealed/Records: 197120/200000\n",
      "epoch: 1, Train Loss: 118.077615, Mean: 7668.73, Min: 4329.81, Max: 14891.51, Median: 7165.86, Dealed/Records: 197632/200000\n",
      "epoch: 1, Train Loss: 120.765349, Mean: 7501.52, Min: 3833.46, Max: 15054.40, Median: 7179.32, Dealed/Records: 198144/200000\n",
      "epoch: 1, Train Loss: 125.963199, Mean: 7616.19, Min: 4348.11, Max: 14320.12, Median: 7241.74, Dealed/Records: 198656/200000\n",
      "epoch: 1, Train Loss: 131.905661, Mean: 7556.50, Min: 4111.87, Max: 13802.45, Median: 7146.41, Dealed/Records: 199168/200000\n",
      "epoch: 1, Train Loss: 157.129810, Mean: 7640.05, Min: 3968.41, Max: 15121.77, Median: 7284.74, Dealed/Records: 199680/200000\n",
      "epoch: 1, Train Loss: 129.892646, Mean: 7771.82, Min: 4129.81, Max: 15040.04, Median: 7503.66, Dealed/Records: 200192/200000\n"
     ]
    }
   ],
   "source": [
    "from torch.nn import init\n",
    "import math\n",
    "import time\n",
    "\n",
    "batch_size = 512\n",
    "epoch = 2\n",
    "\n",
    "model = SalaryNet(327, 100, 20, 1)\n",
    "\n",
    "# 初始化权重参数\n",
    "for layer in model.modules():\n",
    "    if isinstance(layer, nn.Linear):\n",
    "        init.xavier_normal_(layer.weight)\n",
    "        \n",
    "optimizer = torch.optim.Adam(model.parameters(), 0.001)\n",
    "criterion = nn.MSELoss()\n",
    "\n",
    "loss_holder = []\n",
    "blocks = math.ceil(train_Y.count() / batch_size)\n",
    "loss_value = np.inf\n",
    "step = 0\n",
    "for i in range(epoch):\n",
    "    train_count = 0\n",
    "    batches = 0\n",
    "    for j in range(blocks):\n",
    "        train_x_data = torch.Tensor(train_X.iloc[j*batch_size:(j+1)*batch_size].values)\n",
    "        train_x_data.requires_grad = True\n",
    "        train_y_data = torch.Tensor(train_Y.iloc[j*batch_size:(j+1)*batch_size].values)\n",
    "        out = model(train_x_data)\n",
    "        loss = criterion(out.squeeze(1), train_y_data)\n",
    "        optimizer.zero_grad()\n",
    "        loss.backward()\n",
    "        optimizer.step()\n",
    "        print('epoch: {}, Train Loss: {:.6f}, Mean: {:.2f}, Min: {:.2f}, Max: {:.2f}, Median: {:.2f}, Dealed/Records: {}/{}'. \\\n",
    "                    format(i, math.sqrt(loss / batch_size), out.mean(), out.min(), out.max(), out.median(),\n",
    "                           (j+1) * batch_size, train_Y.count()))\n",
    "        if j % 10 == 0:\n",
    "            step += 1\n",
    "            loss_holder.append([step, math.sqrt(loss / batch_size)])\n",
    "        if j % 10 == 0 and loss < loss_value:\n",
    "            torch.save(model, 'model.ckpt')\n",
    "            loss_value = loss"
   ]
  },
  {
   "cell_type": "code",
   "execution_count": 70,
   "metadata": {},
   "outputs": [
    {
     "data": {
      "image/png": "[encoded data removed]",
      "text/plain": [
       "<Figure size 1080x720 with 1 Axes>"
      ]
     },
     "metadata": {
      "needs_background": "light"
     },
     "output_type": "display_data"
    }
   ],
   "source": [
    "fig = plt.figure(figsize=(15, 10))\n",
    "# x轴字体倾斜避免重叠\n",
    "fig.autofmt_xdate()\n",
    "loss_df = pd.DataFrame(loss_holder, columns=[\"time\", \"loss\"])\n",
    "x_times = loss_df[\"time\"].values\n",
    "plt.ylabel(\"Loss\")\n",
    "plt.xlabel(\"times\")\n",
    "plt.plot(loss_df[\"loss\"].values)\n",
    "plt.xticks([10, 20, 30, 40, 50, 60, 70, 80])\n",
    "plt.show()"
   ]
  },
  {
   "cell_type": "code",
   "execution_count": 71,
   "metadata": {
    "scrolled": false
   },
   "outputs": [
    {
     "name": "stdout",
     "output_type": "stream",
     "text": [
      "Test Loss: 115.91, Mean: 7461.51, Min: 4239.74, Max: 13526.70, Median: 7134.80, Dealed/Records: 512/55516\n",
      "Test Loss: 135.42, Mean: 7547.90, Min: 3739.90, Max: 14719.08, Median: 7100.56, Dealed/Records: 1024/55516\n",
      "Test Loss: 119.75, Mean: 7381.66, Min: 4153.13, Max: 14019.69, Median: 6976.94, Dealed/Records: 1536/55516\n",
      "Test Loss: 128.16, Mean: 7561.65, Min: 4147.70, Max: 14580.27, Median: 7205.53, Dealed/Records: 2048/55516\n",
      "Test Loss: 129.89, Mean: 7467.78, Min: 4019.34, Max: 14401.96, Median: 6939.42, Dealed/Records: 2560/55516\n",
      "Test Loss: 125.47, Mean: 7590.06, Min: 4153.78, Max: 14748.32, Median: 7164.43, Dealed/Records: 3072/55516\n",
      "Test Loss: 114.95, Mean: 7357.31, Min: 4306.27, Max: 14957.17, Median: 7060.05, Dealed/Records: 3584/55516\n",
      "Test Loss: 114.78, Mean: 7592.84, Min: 4072.77, Max: 15578.11, Median: 7211.15, Dealed/Records: 4096/55516\n",
      "Test Loss: 143.26, Mean: 7514.95, Min: 4125.84, Max: 14654.19, Median: 7092.78, Dealed/Records: 4608/55516\n",
      "Test Loss: 125.74, Mean: 7498.86, Min: 4028.75, Max: 14656.25, Median: 7022.08, Dealed/Records: 5120/55516\n",
      "Test Loss: 138.46, Mean: 7598.99, Min: 4013.05, Max: 16713.87, Median: 7175.15, Dealed/Records: 5632/55516\n",
      "Test Loss: 131.62, Mean: 7447.89, Min: 4290.32, Max: 16763.83, Median: 7050.28, Dealed/Records: 6144/55516\n",
      "Test Loss: 144.05, Mean: 7581.98, Min: 4237.94, Max: 13782.18, Median: 7199.94, Dealed/Records: 6656/55516\n",
      "Test Loss: 143.21, Mean: 7507.31, Min: 3945.45, Max: 15022.46, Median: 7092.38, Dealed/Records: 7168/55516\n",
      "Test Loss: 120.55, Mean: 7471.46, Min: 3815.06, Max: 15633.22, Median: 7019.38, Dealed/Records: 7680/55516\n",
      "Test Loss: 121.11, Mean: 7333.61, Min: 3916.31, Max: 15022.60, Median: 7044.58, Dealed/Records: 8192/55516\n",
      "Test Loss: 116.06, Mean: 7604.12, Min: 3773.78, Max: 16508.98, Median: 7114.23, Dealed/Records: 8704/55516\n",
      "Test Loss: 120.12, Mean: 7476.77, Min: 4289.26, Max: 16611.24, Median: 7118.86, Dealed/Records: 9216/55516\n",
      "Test Loss: 125.45, Mean: 7481.07, Min: 3981.50, Max: 15504.27, Median: 7022.83, Dealed/Records: 9728/55516\n",
      "Test Loss: 108.79, Mean: 7425.37, Min: 4168.07, Max: 15173.74, Median: 7054.33, Dealed/Records: 10240/55516\n",
      "Test Loss: 124.46, Mean: 7386.86, Min: 3975.53, Max: 16693.09, Median: 7020.24, Dealed/Records: 10752/55516\n",
      "Test Loss: 119.31, Mean: 7523.28, Min: 3981.74, Max: 14474.74, Median: 7173.65, Dealed/Records: 11264/55516\n",
      "Test Loss: 134.82, Mean: 7445.57, Min: 3838.78, Max: 15456.22, Median: 7019.95, Dealed/Records: 11776/55516\n",
      "Test Loss: 128.18, Mean: 7613.08, Min: 4307.95, Max: 14508.68, Median: 7191.56, Dealed/Records: 12288/55516\n",
      "Test Loss: 124.46, Mean: 7385.51, Min: 4044.89, Max: 15346.39, Median: 6962.76, Dealed/Records: 12800/55516\n",
      "Test Loss: 134.00, Mean: 7527.00, Min: 3649.53, Max: 15422.08, Median: 7143.11, Dealed/Records: 13312/55516\n",
      "Test Loss: 117.22, Mean: 7480.73, Min: 3777.33, Max: 14495.61, Median: 7066.11, Dealed/Records: 13824/55516\n",
      "Test Loss: 127.50, Mean: 7608.44, Min: 3871.68, Max: 15478.54, Median: 7315.22, Dealed/Records: 14336/55516\n",
      "Test Loss: 135.52, Mean: 7682.24, Min: 3589.81, Max: 15968.05, Median: 7339.95, Dealed/Records: 14848/55516\n",
      "Test Loss: 117.76, Mean: 7576.94, Min: 3784.69, Max: 14555.86, Median: 7207.86, Dealed/Records: 15360/55516\n",
      "Test Loss: 122.09, Mean: 7504.02, Min: 3695.46, Max: 14913.14, Median: 7090.88, Dealed/Records: 15872/55516\n",
      "Test Loss: 128.91, Mean: 7609.28, Min: 3999.22, Max: 15370.97, Median: 7066.10, Dealed/Records: 16384/55516\n",
      "Test Loss: 141.18, Mean: 7433.06, Min: 4057.59, Max: 14614.73, Median: 7146.80, Dealed/Records: 16896/55516\n",
      "Test Loss: 134.59, Mean: 7545.70, Min: 3962.27, Max: 16707.76, Median: 7125.56, Dealed/Records: 17408/55516\n",
      "Test Loss: 116.85, Mean: 7506.40, Min: 4167.34, Max: 14834.00, Median: 7195.92, Dealed/Records: 17920/55516\n",
      "Test Loss: 137.31, Mean: 7486.45, Min: 3925.03, Max: 15412.71, Median: 7050.12, Dealed/Records: 18432/55516\n",
      "Test Loss: 128.40, Mean: 7439.28, Min: 3948.22, Max: 15425.89, Median: 7029.68, Dealed/Records: 18944/55516\n",
      "Test Loss: 122.09, Mean: 7581.74, Min: 3964.05, Max: 15441.67, Median: 7244.30, Dealed/Records: 19456/55516\n",
      "Test Loss: 119.68, Mean: 7528.42, Min: 3852.03, Max: 15849.29, Median: 7065.80, Dealed/Records: 19968/55516\n",
      "Test Loss: 123.02, Mean: 7480.85, Min: 3776.35, Max: 14848.66, Median: 7193.35, Dealed/Records: 20480/55516\n",
      "Test Loss: 135.60, Mean: 7649.12, Min: 3973.38, Max: 15423.88, Median: 7146.05, Dealed/Records: 20992/55516\n",
      "Test Loss: 137.19, Mean: 7561.43, Min: 3646.29, Max: 14257.96, Median: 7170.58, Dealed/Records: 21504/55516\n",
      "Test Loss: 153.02, Mean: 7435.82, Min: 4312.43, Max: 15815.40, Median: 7024.76, Dealed/Records: 22016/55516\n",
      "Test Loss: 149.33, Mean: 7626.30, Min: 3837.89, Max: 14934.84, Median: 7265.03, Dealed/Records: 22528/55516\n",
      "Test Loss: 149.62, Mean: 7471.43, Min: 4211.09, Max: 15096.75, Median: 7062.44, Dealed/Records: 23040/55516\n",
      "Test Loss: 108.68, Mean: 7420.92, Min: 3849.11, Max: 14649.92, Median: 6968.10, Dealed/Records: 23552/55516\n",
      "Test Loss: 118.67, Mean: 7576.73, Min: 3758.69, Max: 15575.20, Median: 7232.60, Dealed/Records: 24064/55516\n",
      "Test Loss: 137.40, Mean: 7679.93, Min: 4187.02, Max: 15799.34, Median: 7208.34, Dealed/Records: 24576/55516\n",
      "Test Loss: 148.65, Mean: 7549.96, Min: 3908.65, Max: 15397.02, Median: 7130.87, Dealed/Records: 25088/55516\n",
      "Test Loss: 121.62, Mean: 7524.35, Min: 4087.42, Max: 14432.18, Median: 7129.99, Dealed/Records: 25600/55516\n",
      "Test Loss: 112.23, Mean: 7472.16, Min: 4175.51, Max: 15476.22, Median: 7048.05, Dealed/Records: 26112/55516\n",
      "Test Loss: 136.56, Mean: 7814.66, Min: 4424.71, Max: 15489.55, Median: 7443.44, Dealed/Records: 26624/55516\n",
      "Test Loss: 114.17, Mean: 7469.25, Min: 3737.90, Max: 14779.19, Median: 7138.61, Dealed/Records: 27136/55516\n",
      "Test Loss: 118.64, Mean: 7552.31, Min: 4328.28, Max: 14588.62, Median: 7107.90, Dealed/Records: 27648/55516\n",
      "Test Loss: 126.56, Mean: 7464.45, Min: 3928.97, Max: 15347.38, Median: 7104.19, Dealed/Records: 28160/55516\n",
      "Test Loss: 131.46, Mean: 7560.03, Min: 4029.28, Max: 16651.44, Median: 7069.12, Dealed/Records: 28672/55516\n",
      "Test Loss: 142.24, Mean: 7413.85, Min: 4124.49, Max: 15537.28, Median: 7033.79, Dealed/Records: 29184/55516\n",
      "Test Loss: 113.30, Mean: 7422.89, Min: 3812.02, Max: 14288.93, Median: 7030.85, Dealed/Records: 29696/55516\n",
      "Test Loss: 129.12, Mean: 7461.06, Min: 4232.43, Max: 15352.40, Median: 7126.49, Dealed/Records: 30208/55516\n",
      "Test Loss: 113.26, Mean: 7609.35, Min: 4158.65, Max: 15327.45, Median: 7071.73, Dealed/Records: 30720/55516\n",
      "Test Loss: 124.98, Mean: 7599.70, Min: 3715.96, Max: 15517.31, Median: 7066.56, Dealed/Records: 31232/55516\n",
      "Test Loss: 150.01, Mean: 7473.96, Min: 3797.81, Max: 15560.32, Median: 7035.46, Dealed/Records: 31744/55516\n",
      "Test Loss: 142.87, Mean: 7473.08, Min: 4175.51, Max: 15505.37, Median: 7050.85, Dealed/Records: 32256/55516\n",
      "Test Loss: 123.95, Mean: 7572.35, Min: 3690.98, Max: 15503.68, Median: 7225.45, Dealed/Records: 32768/55516\n",
      "Test Loss: 118.28, Mean: 7434.32, Min: 4166.65, Max: 15604.27, Median: 7025.28, Dealed/Records: 33280/55516\n",
      "Test Loss: 127.42, Mean: 7611.43, Min: 3970.16, Max: 15187.57, Median: 7189.08, Dealed/Records: 33792/55516\n",
      "Test Loss: 132.16, Mean: 7391.34, Min: 3801.18, Max: 15316.38, Median: 6957.08, Dealed/Records: 34304/55516\n",
      "Test Loss: 143.88, Mean: 7597.91, Min: 3990.95, Max: 15865.24, Median: 7221.87, Dealed/Records: 34816/55516\n",
      "Test Loss: 143.36, Mean: 7376.48, Min: 4014.07, Max: 14808.59, Median: 7028.37, Dealed/Records: 35328/55516\n",
      "Test Loss: 119.64, Mean: 7523.28, Min: 4558.09, Max: 14535.55, Median: 7040.79, Dealed/Records: 35840/55516\n",
      "Test Loss: 124.75, Mean: 7426.27, Min: 4289.26, Max: 16158.50, Median: 7015.25, Dealed/Records: 36352/55516\n",
      "Test Loss: 131.82, Mean: 7464.55, Min: 3877.43, Max: 15638.51, Median: 7108.92, Dealed/Records: 36864/55516\n",
      "Test Loss: 129.86, Mean: 7648.41, Min: 4142.88, Max: 16562.91, Median: 7329.60, Dealed/Records: 37376/55516\n",
      "Test Loss: 129.20, Mean: 7492.48, Min: 3910.79, Max: 15436.27, Median: 7103.09, Dealed/Records: 37888/55516\n",
      "Test Loss: 120.63, Mean: 7499.71, Min: 4026.23, Max: 14752.43, Median: 7115.27, Dealed/Records: 38400/55516\n",
      "Test Loss: 139.20, Mean: 7602.96, Min: 3651.13, Max: 16760.36, Median: 7237.72, Dealed/Records: 38912/55516\n",
      "Test Loss: 132.36, Mean: 7472.38, Min: 3930.13, Max: 15740.81, Median: 7065.22, Dealed/Records: 39424/55516\n",
      "Test Loss: 128.41, Mean: 7411.75, Min: 4095.33, Max: 15468.67, Median: 6985.86, Dealed/Records: 39936/55516\n",
      "Test Loss: 154.72, Mean: 7582.96, Min: 3975.85, Max: 14984.45, Median: 7271.89, Dealed/Records: 40448/55516\n",
      "Test Loss: 131.53, Mean: 7501.87, Min: 4108.58, Max: 15787.51, Median: 7055.16, Dealed/Records: 40960/55516\n",
      "Test Loss: 121.59, Mean: 7467.50, Min: 4299.28, Max: 15647.00, Median: 7115.14, Dealed/Records: 41472/55516\n",
      "Test Loss: 117.94, Mean: 7578.94, Min: 3850.90, Max: 15555.02, Median: 7072.88, Dealed/Records: 41984/55516\n"
     ]
    },
    {
     "name": "stdout",
     "output_type": "stream",
     "text": [
      "Test Loss: 131.09, Mean: 7348.43, Min: 3976.97, Max: 14815.60, Median: 7017.83, Dealed/Records: 42496/55516\n",
      "Test Loss: 122.53, Mean: 7588.31, Min: 4249.63, Max: 14628.60, Median: 7121.38, Dealed/Records: 43008/55516\n",
      "Test Loss: 112.34, Mean: 7734.45, Min: 4244.38, Max: 15528.96, Median: 7232.65, Dealed/Records: 43520/55516\n",
      "Test Loss: 118.93, Mean: 7399.34, Min: 3624.00, Max: 15624.62, Median: 6914.81, Dealed/Records: 44032/55516\n",
      "Test Loss: 137.32, Mean: 7539.65, Min: 4175.51, Max: 14523.60, Median: 7231.02, Dealed/Records: 44544/55516\n",
      "Test Loss: 132.26, Mean: 7507.75, Min: 3897.37, Max: 15200.94, Median: 7031.72, Dealed/Records: 45056/55516\n",
      "Test Loss: 132.81, Mean: 7495.51, Min: 3834.57, Max: 14244.37, Median: 7108.07, Dealed/Records: 45568/55516\n",
      "Test Loss: 112.74, Mean: 7512.37, Min: 3989.16, Max: 15046.78, Median: 7252.07, Dealed/Records: 46080/55516\n",
      "Test Loss: 138.53, Mean: 7497.77, Min: 4017.48, Max: 14574.83, Median: 7067.12, Dealed/Records: 46592/55516\n",
      "Test Loss: 124.84, Mean: 7525.06, Min: 4426.53, Max: 13722.15, Median: 7115.85, Dealed/Records: 47104/55516\n",
      "Test Loss: 129.30, Mean: 7427.79, Min: 3751.49, Max: 16264.16, Median: 7148.03, Dealed/Records: 47616/55516\n",
      "Test Loss: 124.77, Mean: 7589.75, Min: 4189.26, Max: 15193.34, Median: 7255.56, Dealed/Records: 48128/55516\n",
      "Test Loss: 131.37, Mean: 7666.62, Min: 3748.61, Max: 15057.92, Median: 7242.85, Dealed/Records: 48640/55516\n",
      "Test Loss: 117.21, Mean: 7324.43, Min: 3705.58, Max: 15565.54, Median: 6916.69, Dealed/Records: 49152/55516\n",
      "Test Loss: 119.82, Mean: 7426.22, Min: 3926.22, Max: 14916.06, Median: 7021.79, Dealed/Records: 49664/55516\n",
      "Test Loss: 139.50, Mean: 7542.69, Min: 4129.32, Max: 15660.57, Median: 7140.72, Dealed/Records: 50176/55516\n",
      "Test Loss: 125.68, Mean: 7453.89, Min: 3904.11, Max: 14891.85, Median: 6951.38, Dealed/Records: 50688/55516\n",
      "Test Loss: 111.61, Mean: 7456.11, Min: 4063.72, Max: 14654.23, Median: 7009.86, Dealed/Records: 51200/55516\n",
      "Test Loss: 133.11, Mean: 7454.04, Min: 3885.63, Max: 14849.19, Median: 7056.05, Dealed/Records: 51712/55516\n",
      "Test Loss: 140.06, Mean: 7634.29, Min: 3902.14, Max: 15458.22, Median: 7179.84, Dealed/Records: 52224/55516\n",
      "Test Loss: 125.65, Mean: 7562.03, Min: 3993.83, Max: 15863.04, Median: 7121.94, Dealed/Records: 52736/55516\n",
      "Test Loss: 126.88, Mean: 7423.62, Min: 4112.49, Max: 15577.80, Median: 7001.41, Dealed/Records: 53248/55516\n",
      "Test Loss: 139.31, Mean: 7424.45, Min: 3874.60, Max: 15670.90, Median: 7030.31, Dealed/Records: 53760/55516\n",
      "Test Loss: 154.50, Mean: 7551.29, Min: 4145.38, Max: 14576.61, Median: 7161.11, Dealed/Records: 54272/55516\n",
      "Test Loss: 129.46, Mean: 7568.00, Min: 4172.68, Max: 15362.00, Median: 7096.50, Dealed/Records: 54784/55516\n",
      "Test Loss: 139.85, Mean: 7406.12, Min: 4152.87, Max: 15597.52, Median: 6944.94, Dealed/Records: 55296/55516\n",
      "Test Loss: 129.54, Mean: 7296.65, Min: 4205.78, Max: 14124.82, Median: 7036.23, Dealed/Records: 55808/55516\n"
     ]
    }
   ],
   "source": [
    "batch_size = 512\n",
    "\n",
    "# 读取模型\n",
    "model_path = 'model.ckpt'\n",
    "model = torch.load(model_path)\n",
    "# 转化为测试模式\n",
    "model.eval()\n",
    "for layer in model.modules():\n",
    "    layer.requires_grad = False\n",
    "# 损失函数\n",
    "criterion = nn.MSELoss()\n",
    "results = []\n",
    "targets = []\n",
    "batches = math.ceil(test_Y.count() / batch_size)\n",
    "for i in range(batches):\n",
    "    test_x_data = torch.Tensor(test_X.iloc[i*batch_size:(i+1)*batch_size].values)\n",
    "    out = model(test_x_data)\n",
    "    target = torch.Tensor(test_Y.iloc[i*batch_size:(i+1)*batch_size].values)\n",
    "    if i % 20 == 0:\n",
    "        results.append(out.squeeze(1))\n",
    "        targets.append(target)\n",
    "    loss = criterion(out.squeeze(1), target)\n",
    "    print('Test Loss: {:.2f}, Mean: {:.2f}, Min: {:.2f}, Max: {:.2f}, Median: {:.2f}, Dealed/Records: {}/{}'.\\\n",
    "         format(math.sqrt(loss/batch_size), out.mean(), out.min(), out.max(), out.median(), (i+1)*batch_size, \n",
    "               test_Y.count()))"
   ]
  },
  {
   "cell_type": "code",
   "execution_count": 72,
   "metadata": {},
   "outputs": [
    {
     "data": {
      "image/png": "[encoded data removed]",
      "text/plain": [
       "<Figure size 1080x720 with 1 Axes>"
      ]
     },
     "metadata": {
      "needs_background": "light"
     },
     "output_type": "display_data"
    }
   ],
   "source": [
    "results_flatten = []\n",
    "targets_flatten = []\n",
    "\n",
    "[results_flatten.extend(result.detach().numpy().tolist()) for result in results]\n",
    "[targets_flatten.extend(target.detach().numpy().tolist()) for target in targets]\n",
    "\n",
    "plt.figure(figsize=(15, 10))\n",
    "plt.scatter(targets_flatten, results_flatten)\n",
    "plt.ylabel(\"predict values\")\n",
    "plt.xlabel(\"target values\")\n",
    "plt.show()"
   ]
  },
  {
   "cell_type": "markdown",
   "metadata": {},
   "source": [
    "## 用Pytorch求常见函数的导数"
   ]
  },
  {
   "cell_type": "markdown",
   "metadata": {},
   "source": [
    "### $y = 6x + b$"
   ]
  },
  {
   "cell_type": "code",
   "execution_count": 73,
   "metadata": {},
   "outputs": [
    {
     "data": {
      "text/plain": [
       "tensor([[6., 6., 6., 6., 6.],\n",
       "        [6., 6., 6., 6., 6.]])"
      ]
     },
     "execution_count": 73,
     "metadata": {},
     "output_type": "execute_result"
    }
   ],
   "source": [
    "x = torch.randn((2, 5), requires_grad=True)\n",
    "b = 6\n",
    "y = 6 * x + b\n",
    "holder_weights = torch.ones((2, 5))\n",
    "y.backward(holder_weights)\n",
    "x.grad"
   ]
  },
  {
   "cell_type": "code",
   "execution_count": 74,
   "metadata": {},
   "outputs": [
    {
     "data": {
      "text/plain": [
       "<AddBackward0 at 0x7f1463fa9f40>"
      ]
     },
     "execution_count": 74,
     "metadata": {},
     "output_type": "execute_result"
    }
   ],
   "source": [
    "y.grad_fn"
   ]
  },
  {
   "cell_type": "code",
   "execution_count": 75,
   "metadata": {},
   "outputs": [
    {
     "data": {
      "text/plain": [
       "<MulBackward0 at 0x7f1473b1dcd0>"
      ]
     },
     "execution_count": 75,
     "metadata": {},
     "output_type": "execute_result"
    }
   ],
   "source": [
    "y.grad_fn.next_functions[0][0]"
   ]
  },
  {
   "cell_type": "code",
   "execution_count": 76,
   "metadata": {},
   "outputs": [
    {
     "data": {
      "text/plain": [
       "tensor([[12., 12., 12., 12., 12.],\n",
       "        [12., 12., 12., 12., 12.]])"
      ]
     },
     "execution_count": 76,
     "metadata": {},
     "output_type": "execute_result"
    }
   ],
   "source": [
    "x = torch.randn((2, 5), requires_grad=True)\n",
    "b = 6\n",
    "y = 6 * x + b\n",
    "holder_weights = torch.ones((2, 5)) + 1\n",
    "y.backward(holder_weights)\n",
    "x.grad"
   ]
  },
  {
   "cell_type": "markdown",
   "metadata": {},
   "source": [
    "### $y = sin(x)$"
   ]
  },
  {
   "cell_type": "code",
   "execution_count": 77,
   "metadata": {},
   "outputs": [
    {
     "data": {
      "text/plain": [
       "tensor([[0.5403, 0.5403, 0.5403, 0.5403]])"
      ]
     },
     "execution_count": 77,
     "metadata": {},
     "output_type": "execute_result"
    }
   ],
   "source": [
    "x = torch.ones((1, 4), requires_grad=True)\n",
    "y = torch.sin(x)\n",
    "holder_weights = torch.ones((1, 4))\n",
    "y.backward(holder_weights)\n",
    "x.grad"
   ]
  },
  {
   "cell_type": "markdown",
   "metadata": {},
   "source": [
    "### $y = e^{x}$"
   ]
  },
  {
   "cell_type": "code",
   "execution_count": 78,
   "metadata": {},
   "outputs": [
    {
     "data": {
      "text/plain": [
       "tensor([[ 2.7183, 20.0855],\n",
       "        [ 7.3891, 54.5981]])"
      ]
     },
     "execution_count": 78,
     "metadata": {},
     "output_type": "execute_result"
    }
   ],
   "source": [
    "x = torch.Tensor([[1, 3], [2, 4]])\n",
    "x.requires_grad = True\n",
    "y = torch.pow(math.e, x)\n",
    "holder_weights = torch.ones_like(y)\n",
    "y.backward(holder_weights)\n",
    "x.grad"
   ]
  },
  {
   "cell_type": "markdown",
   "metadata": {},
   "source": [
    "### $y = x^{e}$"
   ]
  },
  {
   "cell_type": "code",
   "execution_count": 79,
   "metadata": {},
   "outputs": [
    {
     "data": {
      "text/plain": [
       "tensor([[ 2.7183, 17.9524],\n",
       "        [ 8.9444, 29.4309]])"
      ]
     },
     "execution_count": 79,
     "metadata": {},
     "output_type": "execute_result"
    }
   ],
   "source": [
    "x = torch.Tensor([[1, 3], [2, 4]])\n",
    "x.requires_grad = True\n",
    "y = torch.pow(x, math.e)\n",
    "holder_weights = torch.ones_like(x)\n",
    "y.backward(holder_weights)\n",
    "x.grad"
   ]
  },
  {
   "cell_type": "markdown",
   "metadata": {},
   "source": [
    "### $y = ln(x)$"
   ]
  },
  {
   "cell_type": "code",
   "execution_count": 80,
   "metadata": {},
   "outputs": [
    {
     "data": {
      "text/plain": [
       "tensor([[1.0000, 0.3333],\n",
       "        [0.5000, 0.2500]])"
      ]
     },
     "execution_count": 80,
     "metadata": {},
     "output_type": "execute_result"
    }
   ],
   "source": [
    "x = torch.Tensor([[1, 3], [2, 4]])\n",
    "x.requires_grad = True\n",
    "y = torch.log(x)\n",
    "holder_weights = torch.ones_like(x)\n",
    "y.backward(holder_weights)\n",
    "x.grad"
   ]
  },
  {
   "cell_type": "markdown",
   "metadata": {},
   "source": [
    "### Sigmoid: $y = \\frac{1}{1+e^{-x}}$ 、 $y' = y(1-y)$ "
   ]
  },
  {
   "cell_type": "code",
   "execution_count": 81,
   "metadata": {},
   "outputs": [
    {
     "data": {
      "text/plain": [
       "tensor([[0.1966, 0.0452],\n",
       "        [0.1050, 0.0177]])"
      ]
     },
     "execution_count": 81,
     "metadata": {},
     "output_type": "execute_result"
    }
   ],
   "source": [
    "x = torch.Tensor([[1, 3], [2, 4]])\n",
    "x.requires_grad = True\n",
    "y = 1/(1+math.e**(-x))\n",
    "holder_weights = torch.ones_like(x)\n",
    "y.backward(holder_weights)\n",
    "x.grad"
   ]
  }
 ],
 "metadata": {
  "kernelspec": {
   "display_name": "Python 3",
   "language": "python",
   "name": "python3"
  },
  "language_info": {
   "codemirror_mode": {
    "name": "ipython",
    "version": 3
   },
   "file_extension": ".py",
   "mimetype": "text/x-python",
   "name": "python",
   "nbconvert_exporter": "python",
   "pygments_lexer": "ipython3",
   "version": "3.8.5"
  }
 },
 "nbformat": 4,
 "nbformat_minor": 4
}
